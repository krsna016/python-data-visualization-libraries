{
 "cells": [
  {
   "cell_type": "code",
   "id": "c8b80ab6-8fba-4b21-ba46-321c91badf9a",
   "metadata": {
    "ExecuteTime": {
     "end_time": "2025-01-03T02:04:05.623107Z",
     "start_time": "2025-01-03T02:04:05.592120Z"
    }
   },
   "source": "import pandas as pd",
   "outputs": [
    {
     "ename": "ModuleNotFoundError",
     "evalue": "No module named 'pandas'",
     "output_type": "error",
     "traceback": [
      "\u001B[0;31m---------------------------------------------------------------------------\u001B[0m",
      "\u001B[0;31mModuleNotFoundError\u001B[0m                       Traceback (most recent call last)",
      "Cell \u001B[0;32mIn[2], line 1\u001B[0m\n\u001B[0;32m----> 1\u001B[0m \u001B[38;5;28;01mimport\u001B[39;00m \u001B[38;5;21;01mpandas\u001B[39;00m \u001B[38;5;28;01mas\u001B[39;00m \u001B[38;5;21;01mpd\u001B[39;00m\n",
      "\u001B[0;31mModuleNotFoundError\u001B[0m: No module named 'pandas'"
     ]
    }
   ],
   "execution_count": 2
  },
  {
   "cell_type": "code",
   "id": "a08142d8",
   "metadata": {
    "ExecuteTime": {
     "end_time": "2025-01-03T02:04:05.626495Z",
     "start_time": "2025-01-01T03:06:58.422952Z"
    }
   },
   "source": [
    "df = pd.read_csv('https://raw.githubusercontent.com/datasciencedojo/datasets/master/titanic.csv')\n",
    "df"
   ],
   "outputs": [
    {
     "data": {
      "text/plain": [
       "     PassengerId  Survived  Pclass  \\\n",
       "0              1         0       3   \n",
       "1              2         1       1   \n",
       "2              3         1       3   \n",
       "3              4         1       1   \n",
       "4              5         0       3   \n",
       "..           ...       ...     ...   \n",
       "886          887         0       2   \n",
       "887          888         1       1   \n",
       "888          889         0       3   \n",
       "889          890         1       1   \n",
       "890          891         0       3   \n",
       "\n",
       "                                                  Name     Sex   Age  SibSp  \\\n",
       "0                              Braund, Mr. Owen Harris    male  22.0      1   \n",
       "1    Cumings, Mrs. John Bradley (Florence Briggs Th...  female  38.0      1   \n",
       "2                               Heikkinen, Miss. Laina  female  26.0      0   \n",
       "3         Futrelle, Mrs. Jacques Heath (Lily May Peel)  female  35.0      1   \n",
       "4                             Allen, Mr. William Henry    male  35.0      0   \n",
       "..                                                 ...     ...   ...    ...   \n",
       "886                              Montvila, Rev. Juozas    male  27.0      0   \n",
       "887                       Graham, Miss. Margaret Edith  female  19.0      0   \n",
       "888           Johnston, Miss. Catherine Helen \"Carrie\"  female   NaN      1   \n",
       "889                              Behr, Mr. Karl Howell    male  26.0      0   \n",
       "890                                Dooley, Mr. Patrick    male  32.0      0   \n",
       "\n",
       "     Parch            Ticket     Fare Cabin Embarked  \n",
       "0        0         A/5 21171   7.2500   NaN        S  \n",
       "1        0          PC 17599  71.2833   C85        C  \n",
       "2        0  STON/O2. 3101282   7.9250   NaN        S  \n",
       "3        0            113803  53.1000  C123        S  \n",
       "4        0            373450   8.0500   NaN        S  \n",
       "..     ...               ...      ...   ...      ...  \n",
       "886      0            211536  13.0000   NaN        S  \n",
       "887      0            112053  30.0000   B42        S  \n",
       "888      2        W./C. 6607  23.4500   NaN        S  \n",
       "889      0            111369  30.0000  C148        C  \n",
       "890      0            370376   7.7500   NaN        Q  \n",
       "\n",
       "[891 rows x 12 columns]"
      ],
      "text/html": [
       "<div>\n",
       "<style scoped>\n",
       "    .dataframe tbody tr th:only-of-type {\n",
       "        vertical-align: middle;\n",
       "    }\n",
       "\n",
       "    .dataframe tbody tr th {\n",
       "        vertical-align: top;\n",
       "    }\n",
       "\n",
       "    .dataframe thead th {\n",
       "        text-align: right;\n",
       "    }\n",
       "</style>\n",
       "<table border=\"1\" class=\"dataframe\">\n",
       "  <thead>\n",
       "    <tr style=\"text-align: right;\">\n",
       "      <th></th>\n",
       "      <th>PassengerId</th>\n",
       "      <th>Survived</th>\n",
       "      <th>Pclass</th>\n",
       "      <th>Name</th>\n",
       "      <th>Sex</th>\n",
       "      <th>Age</th>\n",
       "      <th>SibSp</th>\n",
       "      <th>Parch</th>\n",
       "      <th>Ticket</th>\n",
       "      <th>Fare</th>\n",
       "      <th>Cabin</th>\n",
       "      <th>Embarked</th>\n",
       "    </tr>\n",
       "  </thead>\n",
       "  <tbody>\n",
       "    <tr>\n",
       "      <th>0</th>\n",
       "      <td>1</td>\n",
       "      <td>0</td>\n",
       "      <td>3</td>\n",
       "      <td>Braund, Mr. Owen Harris</td>\n",
       "      <td>male</td>\n",
       "      <td>22.0</td>\n",
       "      <td>1</td>\n",
       "      <td>0</td>\n",
       "      <td>A/5 21171</td>\n",
       "      <td>7.2500</td>\n",
       "      <td>NaN</td>\n",
       "      <td>S</td>\n",
       "    </tr>\n",
       "    <tr>\n",
       "      <th>1</th>\n",
       "      <td>2</td>\n",
       "      <td>1</td>\n",
       "      <td>1</td>\n",
       "      <td>Cumings, Mrs. John Bradley (Florence Briggs Th...</td>\n",
       "      <td>female</td>\n",
       "      <td>38.0</td>\n",
       "      <td>1</td>\n",
       "      <td>0</td>\n",
       "      <td>PC 17599</td>\n",
       "      <td>71.2833</td>\n",
       "      <td>C85</td>\n",
       "      <td>C</td>\n",
       "    </tr>\n",
       "    <tr>\n",
       "      <th>2</th>\n",
       "      <td>3</td>\n",
       "      <td>1</td>\n",
       "      <td>3</td>\n",
       "      <td>Heikkinen, Miss. Laina</td>\n",
       "      <td>female</td>\n",
       "      <td>26.0</td>\n",
       "      <td>0</td>\n",
       "      <td>0</td>\n",
       "      <td>STON/O2. 3101282</td>\n",
       "      <td>7.9250</td>\n",
       "      <td>NaN</td>\n",
       "      <td>S</td>\n",
       "    </tr>\n",
       "    <tr>\n",
       "      <th>3</th>\n",
       "      <td>4</td>\n",
       "      <td>1</td>\n",
       "      <td>1</td>\n",
       "      <td>Futrelle, Mrs. Jacques Heath (Lily May Peel)</td>\n",
       "      <td>female</td>\n",
       "      <td>35.0</td>\n",
       "      <td>1</td>\n",
       "      <td>0</td>\n",
       "      <td>113803</td>\n",
       "      <td>53.1000</td>\n",
       "      <td>C123</td>\n",
       "      <td>S</td>\n",
       "    </tr>\n",
       "    <tr>\n",
       "      <th>4</th>\n",
       "      <td>5</td>\n",
       "      <td>0</td>\n",
       "      <td>3</td>\n",
       "      <td>Allen, Mr. William Henry</td>\n",
       "      <td>male</td>\n",
       "      <td>35.0</td>\n",
       "      <td>0</td>\n",
       "      <td>0</td>\n",
       "      <td>373450</td>\n",
       "      <td>8.0500</td>\n",
       "      <td>NaN</td>\n",
       "      <td>S</td>\n",
       "    </tr>\n",
       "    <tr>\n",
       "      <th>...</th>\n",
       "      <td>...</td>\n",
       "      <td>...</td>\n",
       "      <td>...</td>\n",
       "      <td>...</td>\n",
       "      <td>...</td>\n",
       "      <td>...</td>\n",
       "      <td>...</td>\n",
       "      <td>...</td>\n",
       "      <td>...</td>\n",
       "      <td>...</td>\n",
       "      <td>...</td>\n",
       "      <td>...</td>\n",
       "    </tr>\n",
       "    <tr>\n",
       "      <th>886</th>\n",
       "      <td>887</td>\n",
       "      <td>0</td>\n",
       "      <td>2</td>\n",
       "      <td>Montvila, Rev. Juozas</td>\n",
       "      <td>male</td>\n",
       "      <td>27.0</td>\n",
       "      <td>0</td>\n",
       "      <td>0</td>\n",
       "      <td>211536</td>\n",
       "      <td>13.0000</td>\n",
       "      <td>NaN</td>\n",
       "      <td>S</td>\n",
       "    </tr>\n",
       "    <tr>\n",
       "      <th>887</th>\n",
       "      <td>888</td>\n",
       "      <td>1</td>\n",
       "      <td>1</td>\n",
       "      <td>Graham, Miss. Margaret Edith</td>\n",
       "      <td>female</td>\n",
       "      <td>19.0</td>\n",
       "      <td>0</td>\n",
       "      <td>0</td>\n",
       "      <td>112053</td>\n",
       "      <td>30.0000</td>\n",
       "      <td>B42</td>\n",
       "      <td>S</td>\n",
       "    </tr>\n",
       "    <tr>\n",
       "      <th>888</th>\n",
       "      <td>889</td>\n",
       "      <td>0</td>\n",
       "      <td>3</td>\n",
       "      <td>Johnston, Miss. Catherine Helen \"Carrie\"</td>\n",
       "      <td>female</td>\n",
       "      <td>NaN</td>\n",
       "      <td>1</td>\n",
       "      <td>2</td>\n",
       "      <td>W./C. 6607</td>\n",
       "      <td>23.4500</td>\n",
       "      <td>NaN</td>\n",
       "      <td>S</td>\n",
       "    </tr>\n",
       "    <tr>\n",
       "      <th>889</th>\n",
       "      <td>890</td>\n",
       "      <td>1</td>\n",
       "      <td>1</td>\n",
       "      <td>Behr, Mr. Karl Howell</td>\n",
       "      <td>male</td>\n",
       "      <td>26.0</td>\n",
       "      <td>0</td>\n",
       "      <td>0</td>\n",
       "      <td>111369</td>\n",
       "      <td>30.0000</td>\n",
       "      <td>C148</td>\n",
       "      <td>C</td>\n",
       "    </tr>\n",
       "    <tr>\n",
       "      <th>890</th>\n",
       "      <td>891</td>\n",
       "      <td>0</td>\n",
       "      <td>3</td>\n",
       "      <td>Dooley, Mr. Patrick</td>\n",
       "      <td>male</td>\n",
       "      <td>32.0</td>\n",
       "      <td>0</td>\n",
       "      <td>0</td>\n",
       "      <td>370376</td>\n",
       "      <td>7.7500</td>\n",
       "      <td>NaN</td>\n",
       "      <td>Q</td>\n",
       "    </tr>\n",
       "  </tbody>\n",
       "</table>\n",
       "<p>891 rows × 12 columns</p>\n",
       "</div>"
      ]
     },
     "execution_count": 2,
     "metadata": {},
     "output_type": "execute_result"
    }
   ],
   "execution_count": 2
  },
  {
   "cell_type": "code",
   "id": "54e9bd8e",
   "metadata": {
    "ExecuteTime": {
     "end_time": "2025-01-03T02:04:05.628595Z",
     "start_time": "2025-01-01T02:33:59.620628Z"
    }
   },
   "source": [
    "df.columns"
   ],
   "outputs": [
    {
     "data": {
      "text/plain": [
       "Index(['PassengerId', 'Survived', 'Pclass', 'Name', 'Sex', 'Age', 'SibSp',\n",
       "       'Parch', 'Ticket', 'Fare', 'Cabin', 'Embarked'],\n",
       "      dtype='object')"
      ]
     },
     "execution_count": 4,
     "metadata": {},
     "output_type": "execute_result"
    }
   ],
   "execution_count": 4
  },
  {
   "cell_type": "code",
   "id": "616f59ba",
   "metadata": {
    "ExecuteTime": {
     "end_time": "2025-01-03T02:04:05.629002Z",
     "start_time": "2025-01-01T02:34:01.248450Z"
    }
   },
   "source": [
    "s = df['Name'][0:10]\n",
    "s"
   ],
   "outputs": [
    {
     "data": {
      "text/plain": [
       "0                              Braund, Mr. Owen Harris\n",
       "1    Cumings, Mrs. John Bradley (Florence Briggs Th...\n",
       "2                               Heikkinen, Miss. Laina\n",
       "3         Futrelle, Mrs. Jacques Heath (Lily May Peel)\n",
       "4                             Allen, Mr. William Henry\n",
       "5                                     Moran, Mr. James\n",
       "6                              McCarthy, Mr. Timothy J\n",
       "7                       Palsson, Master. Gosta Leonard\n",
       "8    Johnson, Mrs. Oscar W (Elisabeth Vilhelmina Berg)\n",
       "9                  Nasser, Mrs. Nicholas (Adele Achem)\n",
       "Name: Name, dtype: object"
      ]
     },
     "execution_count": 5,
     "metadata": {},
     "output_type": "execute_result"
    }
   ],
   "execution_count": 5
  },
  {
   "cell_type": "code",
   "id": "7a385c67",
   "metadata": {
    "ExecuteTime": {
     "end_time": "2025-01-03T02:04:05.647562Z",
     "start_time": "2025-01-01T02:34:03.022866Z"
    }
   },
   "source": [
    "len(s)"
   ],
   "outputs": [
    {
     "data": {
      "text/plain": [
       "10"
      ]
     },
     "execution_count": 6,
     "metadata": {},
     "output_type": "execute_result"
    }
   ],
   "execution_count": 6
  },
  {
   "cell_type": "code",
   "id": "09d821d5",
   "metadata": {
    "ExecuteTime": {
     "end_time": "2025-01-03T02:04:05.667319Z",
     "start_time": "2025-01-01T02:34:03.777997Z"
    }
   },
   "source": [
    "type(s)"
   ],
   "outputs": [
    {
     "data": {
      "text/plain": [
       "pandas.core.series.Series"
      ]
     },
     "execution_count": 7,
     "metadata": {},
     "output_type": "execute_result"
    }
   ],
   "execution_count": 7
  },
  {
   "cell_type": "code",
   "id": "8f617b90",
   "metadata": {
    "ExecuteTime": {
     "end_time": "2025-01-03T02:04:05.668692Z",
     "start_time": "2025-01-01T02:34:04.241495Z"
    }
   },
   "source": "l = ['a','b','c','d','e','f','g','h','i','j']",
   "outputs": [],
   "execution_count": 8
  },
  {
   "cell_type": "code",
   "id": "b2682538",
   "metadata": {
    "ExecuteTime": {
     "end_time": "2025-01-03T02:04:05.668919Z",
     "start_time": "2025-01-01T02:34:05.476740Z"
    }
   },
   "source": [
    "s1 = pd.Series(data=list(s), index=l)\n",
    "s1"
   ],
   "outputs": [
    {
     "data": {
      "text/plain": [
       "a                              Braund, Mr. Owen Harris\n",
       "b    Cumings, Mrs. John Bradley (Florence Briggs Th...\n",
       "c                               Heikkinen, Miss. Laina\n",
       "d         Futrelle, Mrs. Jacques Heath (Lily May Peel)\n",
       "e                             Allen, Mr. William Henry\n",
       "f                                     Moran, Mr. James\n",
       "g                              McCarthy, Mr. Timothy J\n",
       "h                       Palsson, Master. Gosta Leonard\n",
       "i    Johnson, Mrs. Oscar W (Elisabeth Vilhelmina Berg)\n",
       "j                  Nasser, Mrs. Nicholas (Adele Achem)\n",
       "dtype: object"
      ]
     },
     "execution_count": 9,
     "metadata": {},
     "output_type": "execute_result"
    }
   ],
   "execution_count": 9
  },
  {
   "cell_type": "code",
   "id": "d94956e7",
   "metadata": {
    "ExecuteTime": {
     "end_time": "2025-01-03T02:04:05.669139Z",
     "start_time": "2025-01-01T02:34:06.083378Z"
    }
   },
   "source": [
    "len(s)"
   ],
   "outputs": [
    {
     "data": {
      "text/plain": [
       "10"
      ]
     },
     "execution_count": 10,
     "metadata": {},
     "output_type": "execute_result"
    }
   ],
   "execution_count": 10
  },
  {
   "cell_type": "code",
   "id": "1b33129d",
   "metadata": {
    "ExecuteTime": {
     "end_time": "2025-01-03T02:04:05.669341Z",
     "start_time": "2025-01-01T02:34:06.252242Z"
    }
   },
   "source": [
    "type(s)"
   ],
   "outputs": [
    {
     "data": {
      "text/plain": [
       "pandas.core.series.Series"
      ]
     },
     "execution_count": 11,
     "metadata": {},
     "output_type": "execute_result"
    }
   ],
   "execution_count": 11
  },
  {
   "cell_type": "code",
   "id": "5c6379f4",
   "metadata": {
    "ExecuteTime": {
     "end_time": "2025-01-03T02:04:05.669542Z",
     "start_time": "2025-01-01T02:34:06.429854Z"
    }
   },
   "source": [
    "s1[0]"
   ],
   "outputs": [
    {
     "name": "stderr",
     "output_type": "stream",
     "text": [
      "/var/folders/d8/05zcp1dd6lb1csjn52kp33nw0000gn/T/ipykernel_62028/1453627479.py:1: FutureWarning: Series.__getitem__ treating keys as positions is deprecated. In a future version, integer keys will always be treated as labels (consistent with DataFrame behavior). To access a value by position, use `ser.iloc[pos]`\n",
      "  s1[0]\n"
     ]
    },
    {
     "data": {
      "text/plain": [
       "'Braund, Mr. Owen Harris'"
      ]
     },
     "execution_count": 12,
     "metadata": {},
     "output_type": "execute_result"
    }
   ],
   "execution_count": 12
  },
  {
   "cell_type": "code",
   "id": "80c62a2a",
   "metadata": {
    "ExecuteTime": {
     "end_time": "2025-01-03T02:04:05.669738Z",
     "start_time": "2025-01-01T02:34:06.586454Z"
    }
   },
   "source": "s1['a']",
   "outputs": [
    {
     "data": {
      "text/plain": [
       "'Braund, Mr. Owen Harris'"
      ]
     },
     "execution_count": 13,
     "metadata": {},
     "output_type": "execute_result"
    }
   ],
   "execution_count": 13
  },
  {
   "cell_type": "code",
   "id": "a1dee5f1",
   "metadata": {
    "ExecuteTime": {
     "end_time": "2025-01-03T02:04:05.669950Z",
     "start_time": "2025-01-01T02:34:06.747392Z"
    }
   },
   "source": [
    "s2 = pd.concat([s1,s])\n",
    "s2"
   ],
   "outputs": [
    {
     "data": {
      "text/plain": [
       "a                              Braund, Mr. Owen Harris\n",
       "b    Cumings, Mrs. John Bradley (Florence Briggs Th...\n",
       "c                               Heikkinen, Miss. Laina\n",
       "d         Futrelle, Mrs. Jacques Heath (Lily May Peel)\n",
       "e                             Allen, Mr. William Henry\n",
       "f                                     Moran, Mr. James\n",
       "g                              McCarthy, Mr. Timothy J\n",
       "h                       Palsson, Master. Gosta Leonard\n",
       "i    Johnson, Mrs. Oscar W (Elisabeth Vilhelmina Berg)\n",
       "j                  Nasser, Mrs. Nicholas (Adele Achem)\n",
       "0                              Braund, Mr. Owen Harris\n",
       "1    Cumings, Mrs. John Bradley (Florence Briggs Th...\n",
       "2                               Heikkinen, Miss. Laina\n",
       "3         Futrelle, Mrs. Jacques Heath (Lily May Peel)\n",
       "4                             Allen, Mr. William Henry\n",
       "5                                     Moran, Mr. James\n",
       "6                              McCarthy, Mr. Timothy J\n",
       "7                       Palsson, Master. Gosta Leonard\n",
       "8    Johnson, Mrs. Oscar W (Elisabeth Vilhelmina Berg)\n",
       "9                  Nasser, Mrs. Nicholas (Adele Achem)\n",
       "dtype: object"
      ]
     },
     "execution_count": 14,
     "metadata": {},
     "output_type": "execute_result"
    }
   ],
   "execution_count": 14
  },
  {
   "metadata": {
    "ExecuteTime": {
     "end_time": "2025-01-03T02:04:05.680577Z",
     "start_time": "2025-01-01T02:34:06.907836Z"
    }
   },
   "cell_type": "code",
   "source": "s2[0] # Accessing the first element of the concatenated Series",
   "id": "e29987282c7ab172",
   "outputs": [
    {
     "data": {
      "text/plain": [
       "'Braund, Mr. Owen Harris'"
      ]
     },
     "execution_count": 15,
     "metadata": {},
     "output_type": "execute_result"
    }
   ],
   "execution_count": 15
  },
  {
   "metadata": {
    "ExecuteTime": {
     "end_time": "2025-01-03T02:04:05.681198Z",
     "start_time": "2025-01-01T02:34:07.069895Z"
    }
   },
   "cell_type": "code",
   "source": [
    "s3 = pd.Series([3,4,5,6,7], index=[2,3,5,6,1])\n",
    "s3"
   ],
   "id": "9e0e2953562808e4",
   "outputs": [
    {
     "data": {
      "text/plain": [
       "2    3\n",
       "3    4\n",
       "5    5\n",
       "6    6\n",
       "1    7\n",
       "dtype: int64"
      ]
     },
     "execution_count": 16,
     "metadata": {},
     "output_type": "execute_result"
    }
   ],
   "execution_count": 16
  },
  {
   "metadata": {
    "ExecuteTime": {
     "end_time": "2025-01-03T02:04:05.683982Z",
     "start_time": "2025-01-01T02:34:07.239611Z"
    }
   },
   "cell_type": "code",
   "source": [
    "s4 = pd.Series([34,4,5,73,2], index=[9,8,7,1,2])\n",
    "s4"
   ],
   "id": "6bb1364c333e1643",
   "outputs": [
    {
     "data": {
      "text/plain": [
       "9    34\n",
       "8     4\n",
       "7     5\n",
       "1    73\n",
       "2     2\n",
       "dtype: int64"
      ]
     },
     "execution_count": 17,
     "metadata": {},
     "output_type": "execute_result"
    }
   ],
   "execution_count": 17
  },
  {
   "metadata": {
    "ExecuteTime": {
     "end_time": "2025-01-03T02:04:05.684521Z",
     "start_time": "2025-01-01T02:40:21.981818Z"
    }
   },
   "cell_type": "code",
   "source": [
    "s5 = pd.concat([s3,s4])\n",
    "s5"
   ],
   "id": "21771805a30707e4",
   "outputs": [
    {
     "data": {
      "text/plain": [
       "2     3\n",
       "3     4\n",
       "5     5\n",
       "6     6\n",
       "1     7\n",
       "9    34\n",
       "8     4\n",
       "7     5\n",
       "1    73\n",
       "2     2\n",
       "dtype: int64"
      ]
     },
     "execution_count": 22,
     "metadata": {},
     "output_type": "execute_result"
    }
   ],
   "execution_count": 22
  },
  {
   "metadata": {
    "ExecuteTime": {
     "end_time": "2025-01-03T02:04:05.684899Z",
     "start_time": "2025-01-01T02:40:37.812248Z"
    }
   },
   "cell_type": "code",
   "source": "s5[2]",
   "id": "19cd1d98e89a19f3",
   "outputs": [
    {
     "data": {
      "text/plain": [
       "2    3\n",
       "2    2\n",
       "dtype: int64"
      ]
     },
     "execution_count": 24,
     "metadata": {},
     "output_type": "execute_result"
    }
   ],
   "execution_count": 24
  },
  {
   "metadata": {
    "ExecuteTime": {
     "end_time": "2025-01-03T02:04:05.685235Z",
     "start_time": "2025-01-01T02:42:55.621072Z"
    }
   },
   "cell_type": "code",
   "source": "s4*s5",
   "id": "e5548b2b3b860501",
   "outputs": [
    {
     "data": {
      "text/plain": [
       "1     511.0\n",
       "1    5329.0\n",
       "2       6.0\n",
       "2       4.0\n",
       "3       NaN\n",
       "5       NaN\n",
       "6       NaN\n",
       "7      25.0\n",
       "8      16.0\n",
       "9    1156.0\n",
       "dtype: float64"
      ]
     },
     "execution_count": 25,
     "metadata": {},
     "output_type": "execute_result"
    }
   ],
   "execution_count": 25
  },
  {
   "metadata": {
    "ExecuteTime": {
     "end_time": "2025-01-03T02:04:05.685454Z",
     "start_time": "2025-01-01T02:52:07.410937Z"
    }
   },
   "cell_type": "code",
   "source": "s4+s5",
   "id": "fc323db551a888b0",
   "outputs": [
    {
     "data": {
      "text/plain": [
       "1     80.0\n",
       "1    146.0\n",
       "2      5.0\n",
       "2      4.0\n",
       "3      NaN\n",
       "5      NaN\n",
       "6      NaN\n",
       "7     10.0\n",
       "8      8.0\n",
       "9     68.0\n",
       "dtype: float64"
      ]
     },
     "execution_count": 26,
     "metadata": {},
     "output_type": "execute_result"
    }
   ],
   "execution_count": 26
  },
  {
   "metadata": {},
   "cell_type": "code",
   "outputs": [],
   "execution_count": null,
   "source": "",
   "id": "8a31b43a2bfe0a9b"
  }
 ],
 "metadata": {
  "kernelspec": {
   "display_name": "Python 3 (ipykernel)",
   "language": "python",
   "name": "python3"
  },
  "language_info": {
   "codemirror_mode": {
    "name": "ipython",
    "version": 3
   },
   "file_extension": ".py",
   "mimetype": "text/x-python",
   "name": "python",
   "nbconvert_exporter": "python",
   "pygments_lexer": "ipython3",
   "version": "3.12.2"
  }
 },
 "nbformat": 4,
 "nbformat_minor": 5
}
