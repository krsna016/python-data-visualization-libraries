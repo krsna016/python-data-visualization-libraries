{
 "cells": [
  {
   "metadata": {},
   "cell_type": "markdown",
   "source": [
    "# Assignment 03:\n",
    "- 1. Load the Penguins dataset into a pandas DataFrame\n",
    "- 2. Display the first 5 rows.\n",
    "- 3. Calculate the average 'bill_length_mm' for each species of penguins.\n",
    "- 4. The penguin with the highest 'body_mass_g' and display its species and other information.\n",
    "- 5. Create a new DataFrame containing only the penguins with 'sex' as 'MALE' and 'island' as 'Torgersen'.\n",
    "- 6. Calculate the correlation matrix for 'bill_length_mm', 'bill_depth_mm', 'flipper_length_mm', and 'body_mass_g'.\n",
    "- 7. For each species of penguins, find the mean, median, minimum, and maximum 'body_mass_g'.\n",
    "- 8. Replace any missing values in the 'sex' column with the most frequent value in that column.\n",
    "- 9. Create a new column in the DataFrame called 'bill_area', which is the product of 'bill_length_mm' and 'bill_depth_mm'.\n",
    "- 10. Group the DataFrame by 'species' and calculate the average 'body_mass_g' and 'flipper_length_mm' for each species.\n",
    "- 11. Calculate the total count of penguins for each 'island' and 'sex' combination.\n"
   ],
   "id": "73b75d22dc82a978"
  },
  {
   "metadata": {},
   "cell_type": "code",
   "outputs": [],
   "execution_count": null,
   "source": "",
   "id": "cf87f504e87ffba7"
  }
 ],
 "metadata": {
  "kernelspec": {
   "display_name": "Python 3",
   "language": "python",
   "name": "python3"
  },
  "language_info": {
   "codemirror_mode": {
    "name": "ipython",
    "version": 2
   },
   "file_extension": ".py",
   "mimetype": "text/x-python",
   "name": "python",
   "nbconvert_exporter": "python",
   "pygments_lexer": "ipython2",
   "version": "2.7.6"
  }
 },
 "nbformat": 4,
 "nbformat_minor": 5
}
