{
 "cells": [
  {
   "metadata": {},
   "cell_type": "markdown",
   "source": [
    "# Assignment 05:\n",
    "- 1. Load the Diamonds dataset into a pandas DataFrame.\n",
    "- 2. Calculate the average price for each cut of diamonds.\n",
    "- 3. Find the diamond with the highest carat and display its details, including its cut, color, and clarity.\n",
    "- 4. Create a new DataFrame containing only the diamonds with 'cut' as 'Ideal' and 'color' as 'D'.\n",
    "- 5. Calculate the correlation matrix for 'carat', 'depth', 'table', and 'price' columns.\n",
    "- 6. For each clarity grade of diamonds, find the mean, median, minimum, and maximum 'carat'.\n",
    "- 7. Replace any missing values in the 'depth' column with the mean value of that column.\n",
    "- 8. Create a new column in the DataFrame called 'volume', which is the product of 'x', 'y', and 'z' columns.\n",
    "- 9. Group the DataFrame by 'cut' and 'color' and calculate the average price and carat for each group.\n",
    "- 10. Calculate the total count of diamonds for each 'cut' and 'clarity' combination.\n"
   ],
   "id": "d867c54827ed15b9"
  },
  {
   "metadata": {},
   "cell_type": "code",
   "outputs": [],
   "execution_count": null,
   "source": "",
   "id": "5fade4bde22f61c0"
  }
 ],
 "metadata": {
  "kernelspec": {
   "display_name": "Python 3",
   "language": "python",
   "name": "python3"
  },
  "language_info": {
   "codemirror_mode": {
    "name": "ipython",
    "version": 2
   },
   "file_extension": ".py",
   "mimetype": "text/x-python",
   "name": "python",
   "nbconvert_exporter": "python",
   "pygments_lexer": "ipython2",
   "version": "2.7.6"
  }
 },
 "nbformat": 4,
 "nbformat_minor": 5
}
