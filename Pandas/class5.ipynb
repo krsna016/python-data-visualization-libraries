{
 "cells": [
  {
   "cell_type": "code",
   "id": "initial_id",
   "metadata": {
    "collapsed": true,
    "ExecuteTime": {
     "end_time": "2025-01-09T06:10:52.733908Z",
     "start_time": "2025-01-09T06:10:52.461421Z"
    }
   },
   "source": [
    "import pandas as pd\n",
    "# import matplotlib.pyplot as plt"
   ],
   "outputs": [],
   "execution_count": 1
  },
  {
   "metadata": {
    "ExecuteTime": {
     "end_time": "2025-01-09T06:10:52.753908Z",
     "start_time": "2025-01-09T06:10:52.742635Z"
    }
   },
   "cell_type": "code",
   "source": [
    "data = {\n",
    "    'a': [1, 2, 3, 4],\n",
    "    'b': [4, 5, 6, 7],\n",
    "    'c': ['a', 'b', 'c', 'd']\n",
    "}\n",
    "df = pd.DataFrame(data, index=['A', 'B', 'C', 'D'])\n",
    "df"
   ],
   "id": "44a7422268b5a1cb",
   "outputs": [
    {
     "data": {
      "text/plain": [
       "   a  b  c\n",
       "A  1  4  a\n",
       "B  2  5  b\n",
       "C  3  6  c\n",
       "D  4  7  d"
      ],
      "text/html": [
       "<div>\n",
       "<style scoped>\n",
       "    .dataframe tbody tr th:only-of-type {\n",
       "        vertical-align: middle;\n",
       "    }\n",
       "\n",
       "    .dataframe tbody tr th {\n",
       "        vertical-align: top;\n",
       "    }\n",
       "\n",
       "    .dataframe thead th {\n",
       "        text-align: right;\n",
       "    }\n",
       "</style>\n",
       "<table border=\"1\" class=\"dataframe\">\n",
       "  <thead>\n",
       "    <tr style=\"text-align: right;\">\n",
       "      <th></th>\n",
       "      <th>a</th>\n",
       "      <th>b</th>\n",
       "      <th>c</th>\n",
       "    </tr>\n",
       "  </thead>\n",
       "  <tbody>\n",
       "    <tr>\n",
       "      <th>A</th>\n",
       "      <td>1</td>\n",
       "      <td>4</td>\n",
       "      <td>a</td>\n",
       "    </tr>\n",
       "    <tr>\n",
       "      <th>B</th>\n",
       "      <td>2</td>\n",
       "      <td>5</td>\n",
       "      <td>b</td>\n",
       "    </tr>\n",
       "    <tr>\n",
       "      <th>C</th>\n",
       "      <td>3</td>\n",
       "      <td>6</td>\n",
       "      <td>c</td>\n",
       "    </tr>\n",
       "    <tr>\n",
       "      <th>D</th>\n",
       "      <td>4</td>\n",
       "      <td>7</td>\n",
       "      <td>d</td>\n",
       "    </tr>\n",
       "  </tbody>\n",
       "</table>\n",
       "</div>"
      ]
     },
     "execution_count": 2,
     "metadata": {},
     "output_type": "execute_result"
    }
   ],
   "execution_count": 2
  },
  {
   "metadata": {
    "ExecuteTime": {
     "end_time": "2025-01-09T06:10:52.846550Z",
     "start_time": "2025-01-09T06:10:52.840936Z"
    }
   },
   "cell_type": "code",
   "source": [
    "df.set_index('c')\n",
    "df"
   ],
   "id": "bf482d38fc0d08a5",
   "outputs": [
    {
     "data": {
      "text/plain": [
       "   a  b  c\n",
       "A  1  4  a\n",
       "B  2  5  b\n",
       "C  3  6  c\n",
       "D  4  7  d"
      ],
      "text/html": [
       "<div>\n",
       "<style scoped>\n",
       "    .dataframe tbody tr th:only-of-type {\n",
       "        vertical-align: middle;\n",
       "    }\n",
       "\n",
       "    .dataframe tbody tr th {\n",
       "        vertical-align: top;\n",
       "    }\n",
       "\n",
       "    .dataframe thead th {\n",
       "        text-align: right;\n",
       "    }\n",
       "</style>\n",
       "<table border=\"1\" class=\"dataframe\">\n",
       "  <thead>\n",
       "    <tr style=\"text-align: right;\">\n",
       "      <th></th>\n",
       "      <th>a</th>\n",
       "      <th>b</th>\n",
       "      <th>c</th>\n",
       "    </tr>\n",
       "  </thead>\n",
       "  <tbody>\n",
       "    <tr>\n",
       "      <th>A</th>\n",
       "      <td>1</td>\n",
       "      <td>4</td>\n",
       "      <td>a</td>\n",
       "    </tr>\n",
       "    <tr>\n",
       "      <th>B</th>\n",
       "      <td>2</td>\n",
       "      <td>5</td>\n",
       "      <td>b</td>\n",
       "    </tr>\n",
       "    <tr>\n",
       "      <th>C</th>\n",
       "      <td>3</td>\n",
       "      <td>6</td>\n",
       "      <td>c</td>\n",
       "    </tr>\n",
       "    <tr>\n",
       "      <th>D</th>\n",
       "      <td>4</td>\n",
       "      <td>7</td>\n",
       "      <td>d</td>\n",
       "    </tr>\n",
       "  </tbody>\n",
       "</table>\n",
       "</div>"
      ]
     },
     "execution_count": 3,
     "metadata": {},
     "output_type": "execute_result"
    }
   ],
   "execution_count": 3
  },
  {
   "metadata": {
    "ExecuteTime": {
     "end_time": "2025-01-09T06:10:52.877527Z",
     "start_time": "2025-01-09T06:10:52.873085Z"
    }
   },
   "cell_type": "code",
   "source": [
    "df = df.reindex(['B', 'C', 'D', 'A'])\n",
    "df"
   ],
   "id": "1442c9dcf58b8956",
   "outputs": [
    {
     "data": {
      "text/plain": [
       "   a  b  c\n",
       "B  2  5  b\n",
       "C  3  6  c\n",
       "D  4  7  d\n",
       "A  1  4  a"
      ],
      "text/html": [
       "<div>\n",
       "<style scoped>\n",
       "    .dataframe tbody tr th:only-of-type {\n",
       "        vertical-align: middle;\n",
       "    }\n",
       "\n",
       "    .dataframe tbody tr th {\n",
       "        vertical-align: top;\n",
       "    }\n",
       "\n",
       "    .dataframe thead th {\n",
       "        text-align: right;\n",
       "    }\n",
       "</style>\n",
       "<table border=\"1\" class=\"dataframe\">\n",
       "  <thead>\n",
       "    <tr style=\"text-align: right;\">\n",
       "      <th></th>\n",
       "      <th>a</th>\n",
       "      <th>b</th>\n",
       "      <th>c</th>\n",
       "    </tr>\n",
       "  </thead>\n",
       "  <tbody>\n",
       "    <tr>\n",
       "      <th>B</th>\n",
       "      <td>2</td>\n",
       "      <td>5</td>\n",
       "      <td>b</td>\n",
       "    </tr>\n",
       "    <tr>\n",
       "      <th>C</th>\n",
       "      <td>3</td>\n",
       "      <td>6</td>\n",
       "      <td>c</td>\n",
       "    </tr>\n",
       "    <tr>\n",
       "      <th>D</th>\n",
       "      <td>4</td>\n",
       "      <td>7</td>\n",
       "      <td>d</td>\n",
       "    </tr>\n",
       "    <tr>\n",
       "      <th>A</th>\n",
       "      <td>1</td>\n",
       "      <td>4</td>\n",
       "      <td>a</td>\n",
       "    </tr>\n",
       "  </tbody>\n",
       "</table>\n",
       "</div>"
      ]
     },
     "execution_count": 4,
     "metadata": {},
     "output_type": "execute_result"
    }
   ],
   "execution_count": 4
  },
  {
   "metadata": {
    "ExecuteTime": {
     "end_time": "2025-01-09T06:10:52.977015Z",
     "start_time": "2025-01-09T06:10:52.973020Z"
    }
   },
   "cell_type": "code",
   "source": [
    "df.reset_index(inplace=True, drop=True)\n",
    "df"
   ],
   "id": "fc4e7acc2b39b609",
   "outputs": [
    {
     "data": {
      "text/plain": [
       "   a  b  c\n",
       "0  2  5  b\n",
       "1  3  6  c\n",
       "2  4  7  d\n",
       "3  1  4  a"
      ],
      "text/html": [
       "<div>\n",
       "<style scoped>\n",
       "    .dataframe tbody tr th:only-of-type {\n",
       "        vertical-align: middle;\n",
       "    }\n",
       "\n",
       "    .dataframe tbody tr th {\n",
       "        vertical-align: top;\n",
       "    }\n",
       "\n",
       "    .dataframe thead th {\n",
       "        text-align: right;\n",
       "    }\n",
       "</style>\n",
       "<table border=\"1\" class=\"dataframe\">\n",
       "  <thead>\n",
       "    <tr style=\"text-align: right;\">\n",
       "      <th></th>\n",
       "      <th>a</th>\n",
       "      <th>b</th>\n",
       "      <th>c</th>\n",
       "    </tr>\n",
       "  </thead>\n",
       "  <tbody>\n",
       "    <tr>\n",
       "      <th>0</th>\n",
       "      <td>2</td>\n",
       "      <td>5</td>\n",
       "      <td>b</td>\n",
       "    </tr>\n",
       "    <tr>\n",
       "      <th>1</th>\n",
       "      <td>3</td>\n",
       "      <td>6</td>\n",
       "      <td>c</td>\n",
       "    </tr>\n",
       "    <tr>\n",
       "      <th>2</th>\n",
       "      <td>4</td>\n",
       "      <td>7</td>\n",
       "      <td>d</td>\n",
       "    </tr>\n",
       "    <tr>\n",
       "      <th>3</th>\n",
       "      <td>1</td>\n",
       "      <td>4</td>\n",
       "      <td>a</td>\n",
       "    </tr>\n",
       "  </tbody>\n",
       "</table>\n",
       "</div>"
      ]
     },
     "execution_count": 5,
     "metadata": {},
     "output_type": "execute_result"
    }
   ],
   "execution_count": 5
  },
  {
   "metadata": {
    "ExecuteTime": {
     "end_time": "2025-01-09T06:10:53.201667Z",
     "start_time": "2025-01-09T06:10:53.198122Z"
    }
   },
   "cell_type": "code",
   "source": [
    "for i in df.iterrows():\n",
    "    print(i)"
   ],
   "id": "51829b7dec0c7a6a",
   "outputs": [
    {
     "name": "stdout",
     "output_type": "stream",
     "text": [
      "(0, a    2\n",
      "b    5\n",
      "c    b\n",
      "Name: 0, dtype: object)\n",
      "(1, a    3\n",
      "b    6\n",
      "c    c\n",
      "Name: 1, dtype: object)\n",
      "(2, a    4\n",
      "b    7\n",
      "c    d\n",
      "Name: 2, dtype: object)\n",
      "(3, a    1\n",
      "b    4\n",
      "c    a\n",
      "Name: 3, dtype: object)\n"
     ]
    }
   ],
   "execution_count": 6
  },
  {
   "metadata": {
    "ExecuteTime": {
     "end_time": "2025-01-09T06:10:53.378702Z",
     "start_time": "2025-01-09T06:10:53.375605Z"
    }
   },
   "cell_type": "code",
   "source": [
    "for i, j in df.iterrows():\n",
    "    print(f'{i} -> {j}')"
   ],
   "id": "a0e44a92519d2b1",
   "outputs": [
    {
     "name": "stdout",
     "output_type": "stream",
     "text": [
      "0 -> a    2\n",
      "b    5\n",
      "c    b\n",
      "Name: 0, dtype: object\n",
      "1 -> a    3\n",
      "b    6\n",
      "c    c\n",
      "Name: 1, dtype: object\n",
      "2 -> a    4\n",
      "b    7\n",
      "c    d\n",
      "Name: 2, dtype: object\n",
      "3 -> a    1\n",
      "b    4\n",
      "c    a\n",
      "Name: 3, dtype: object\n"
     ]
    }
   ],
   "execution_count": 7
  },
  {
   "metadata": {
    "ExecuteTime": {
     "end_time": "2025-01-09T06:10:53.513469Z",
     "start_time": "2025-01-09T06:10:53.510731Z"
    }
   },
   "cell_type": "code",
   "source": [
    "c1 = [i for i in df['a']]\n",
    "c1"
   ],
   "id": "b2544d0f9febdba2",
   "outputs": [
    {
     "data": {
      "text/plain": [
       "[2, 3, 4, 1]"
      ]
     },
     "execution_count": 8,
     "metadata": {},
     "output_type": "execute_result"
    }
   ],
   "execution_count": 8
  },
  {
   "metadata": {
    "ExecuteTime": {
     "end_time": "2025-01-09T06:10:53.578550Z",
     "start_time": "2025-01-09T06:10:53.573925Z"
    }
   },
   "cell_type": "code",
   "source": [
    "c2 = list(df['b'])\n",
    "c2"
   ],
   "id": "2f258594f5343cc6",
   "outputs": [
    {
     "data": {
      "text/plain": [
       "[5, 6, 7, 4]"
      ]
     },
     "execution_count": 9,
     "metadata": {},
     "output_type": "execute_result"
    }
   ],
   "execution_count": 9
  },
  {
   "metadata": {
    "ExecuteTime": {
     "end_time": "2025-01-09T06:10:53.630980Z",
     "start_time": "2025-01-09T06:10:53.626263Z"
    }
   },
   "cell_type": "code",
   "source": "df",
   "id": "614e093da44ada46",
   "outputs": [
    {
     "data": {
      "text/plain": [
       "   a  b  c\n",
       "0  2  5  b\n",
       "1  3  6  c\n",
       "2  4  7  d\n",
       "3  1  4  a"
      ],
      "text/html": [
       "<div>\n",
       "<style scoped>\n",
       "    .dataframe tbody tr th:only-of-type {\n",
       "        vertical-align: middle;\n",
       "    }\n",
       "\n",
       "    .dataframe tbody tr th {\n",
       "        vertical-align: top;\n",
       "    }\n",
       "\n",
       "    .dataframe thead th {\n",
       "        text-align: right;\n",
       "    }\n",
       "</style>\n",
       "<table border=\"1\" class=\"dataframe\">\n",
       "  <thead>\n",
       "    <tr style=\"text-align: right;\">\n",
       "      <th></th>\n",
       "      <th>a</th>\n",
       "      <th>b</th>\n",
       "      <th>c</th>\n",
       "    </tr>\n",
       "  </thead>\n",
       "  <tbody>\n",
       "    <tr>\n",
       "      <th>0</th>\n",
       "      <td>2</td>\n",
       "      <td>5</td>\n",
       "      <td>b</td>\n",
       "    </tr>\n",
       "    <tr>\n",
       "      <th>1</th>\n",
       "      <td>3</td>\n",
       "      <td>6</td>\n",
       "      <td>c</td>\n",
       "    </tr>\n",
       "    <tr>\n",
       "      <th>2</th>\n",
       "      <td>4</td>\n",
       "      <td>7</td>\n",
       "      <td>d</td>\n",
       "    </tr>\n",
       "    <tr>\n",
       "      <th>3</th>\n",
       "      <td>1</td>\n",
       "      <td>4</td>\n",
       "      <td>a</td>\n",
       "    </tr>\n",
       "  </tbody>\n",
       "</table>\n",
       "</div>"
      ]
     },
     "execution_count": 10,
     "metadata": {},
     "output_type": "execute_result"
    }
   ],
   "execution_count": 10
  },
  {
   "metadata": {
    "ExecuteTime": {
     "end_time": "2025-01-09T06:10:53.691581Z",
     "start_time": "2025-01-09T06:10:53.687384Z"
    }
   },
   "cell_type": "code",
   "source": [
    "def func(x):\n",
    "    return x.sum()\n",
    "\n",
    "\n",
    "df.apply(func)"
   ],
   "id": "708738f6b5d168aa",
   "outputs": [
    {
     "data": {
      "text/plain": [
       "a      10\n",
       "b      22\n",
       "c    bcda\n",
       "dtype: object"
      ]
     },
     "execution_count": 11,
     "metadata": {},
     "output_type": "execute_result"
    }
   ],
   "execution_count": 11
  },
  {
   "metadata": {
    "ExecuteTime": {
     "end_time": "2025-01-09T06:10:53.753030Z",
     "start_time": "2025-01-09T06:10:53.747982Z"
    }
   },
   "cell_type": "code",
   "source": [
    "df1 = df[['a', 'b']]\n",
    "df1"
   ],
   "id": "2fa8d17299f846ed",
   "outputs": [
    {
     "data": {
      "text/plain": [
       "   a  b\n",
       "0  2  5\n",
       "1  3  6\n",
       "2  4  7\n",
       "3  1  4"
      ],
      "text/html": [
       "<div>\n",
       "<style scoped>\n",
       "    .dataframe tbody tr th:only-of-type {\n",
       "        vertical-align: middle;\n",
       "    }\n",
       "\n",
       "    .dataframe tbody tr th {\n",
       "        vertical-align: top;\n",
       "    }\n",
       "\n",
       "    .dataframe thead th {\n",
       "        text-align: right;\n",
       "    }\n",
       "</style>\n",
       "<table border=\"1\" class=\"dataframe\">\n",
       "  <thead>\n",
       "    <tr style=\"text-align: right;\">\n",
       "      <th></th>\n",
       "      <th>a</th>\n",
       "      <th>b</th>\n",
       "    </tr>\n",
       "  </thead>\n",
       "  <tbody>\n",
       "    <tr>\n",
       "      <th>0</th>\n",
       "      <td>2</td>\n",
       "      <td>5</td>\n",
       "    </tr>\n",
       "    <tr>\n",
       "      <th>1</th>\n",
       "      <td>3</td>\n",
       "      <td>6</td>\n",
       "    </tr>\n",
       "    <tr>\n",
       "      <th>2</th>\n",
       "      <td>4</td>\n",
       "      <td>7</td>\n",
       "    </tr>\n",
       "    <tr>\n",
       "      <th>3</th>\n",
       "      <td>1</td>\n",
       "      <td>4</td>\n",
       "    </tr>\n",
       "  </tbody>\n",
       "</table>\n",
       "</div>"
      ]
     },
     "execution_count": 12,
     "metadata": {},
     "output_type": "execute_result"
    }
   ],
   "execution_count": 12
  },
  {
   "metadata": {
    "ExecuteTime": {
     "end_time": "2025-01-09T06:10:53.875931Z",
     "start_time": "2025-01-09T06:10:53.868936Z"
    }
   },
   "cell_type": "code",
   "source": [
    "df2 = df1['a'].map(lambda x: x * x)\n",
    "df2"
   ],
   "id": "6ecfc1fe9744e267",
   "outputs": [
    {
     "data": {
      "text/plain": [
       "0     4\n",
       "1     9\n",
       "2    16\n",
       "3     1\n",
       "Name: a, dtype: int64"
      ]
     },
     "execution_count": 13,
     "metadata": {},
     "output_type": "execute_result"
    }
   ],
   "execution_count": 13
  },
  {
   "metadata": {
    "ExecuteTime": {
     "end_time": "2025-01-09T06:10:53.975776Z",
     "start_time": "2025-01-09T06:10:53.970495Z"
    }
   },
   "cell_type": "code",
   "source": "df1",
   "id": "4bc8a3f032a29375",
   "outputs": [
    {
     "data": {
      "text/plain": [
       "   a  b\n",
       "0  2  5\n",
       "1  3  6\n",
       "2  4  7\n",
       "3  1  4"
      ],
      "text/html": [
       "<div>\n",
       "<style scoped>\n",
       "    .dataframe tbody tr th:only-of-type {\n",
       "        vertical-align: middle;\n",
       "    }\n",
       "\n",
       "    .dataframe tbody tr th {\n",
       "        vertical-align: top;\n",
       "    }\n",
       "\n",
       "    .dataframe thead th {\n",
       "        text-align: right;\n",
       "    }\n",
       "</style>\n",
       "<table border=\"1\" class=\"dataframe\">\n",
       "  <thead>\n",
       "    <tr style=\"text-align: right;\">\n",
       "      <th></th>\n",
       "      <th>a</th>\n",
       "      <th>b</th>\n",
       "    </tr>\n",
       "  </thead>\n",
       "  <tbody>\n",
       "    <tr>\n",
       "      <th>0</th>\n",
       "      <td>2</td>\n",
       "      <td>5</td>\n",
       "    </tr>\n",
       "    <tr>\n",
       "      <th>1</th>\n",
       "      <td>3</td>\n",
       "      <td>6</td>\n",
       "    </tr>\n",
       "    <tr>\n",
       "      <th>2</th>\n",
       "      <td>4</td>\n",
       "      <td>7</td>\n",
       "    </tr>\n",
       "    <tr>\n",
       "      <th>3</th>\n",
       "      <td>1</td>\n",
       "      <td>4</td>\n",
       "    </tr>\n",
       "  </tbody>\n",
       "</table>\n",
       "</div>"
      ]
     },
     "execution_count": 14,
     "metadata": {},
     "output_type": "execute_result"
    }
   ],
   "execution_count": 14
  },
  {
   "metadata": {
    "ExecuteTime": {
     "end_time": "2025-01-09T06:10:54.086367Z",
     "start_time": "2025-01-09T06:10:54.082143Z"
    }
   },
   "cell_type": "code",
   "source": "df1.sort_values('b')",
   "id": "61806bc8c0e597eb",
   "outputs": [
    {
     "data": {
      "text/plain": [
       "   a  b\n",
       "3  1  4\n",
       "0  2  5\n",
       "1  3  6\n",
       "2  4  7"
      ],
      "text/html": [
       "<div>\n",
       "<style scoped>\n",
       "    .dataframe tbody tr th:only-of-type {\n",
       "        vertical-align: middle;\n",
       "    }\n",
       "\n",
       "    .dataframe tbody tr th {\n",
       "        vertical-align: top;\n",
       "    }\n",
       "\n",
       "    .dataframe thead th {\n",
       "        text-align: right;\n",
       "    }\n",
       "</style>\n",
       "<table border=\"1\" class=\"dataframe\">\n",
       "  <thead>\n",
       "    <tr style=\"text-align: right;\">\n",
       "      <th></th>\n",
       "      <th>a</th>\n",
       "      <th>b</th>\n",
       "    </tr>\n",
       "  </thead>\n",
       "  <tbody>\n",
       "    <tr>\n",
       "      <th>3</th>\n",
       "      <td>1</td>\n",
       "      <td>4</td>\n",
       "    </tr>\n",
       "    <tr>\n",
       "      <th>0</th>\n",
       "      <td>2</td>\n",
       "      <td>5</td>\n",
       "    </tr>\n",
       "    <tr>\n",
       "      <th>1</th>\n",
       "      <td>3</td>\n",
       "      <td>6</td>\n",
       "    </tr>\n",
       "    <tr>\n",
       "      <th>2</th>\n",
       "      <td>4</td>\n",
       "      <td>7</td>\n",
       "    </tr>\n",
       "  </tbody>\n",
       "</table>\n",
       "</div>"
      ]
     },
     "execution_count": 15,
     "metadata": {},
     "output_type": "execute_result"
    }
   ],
   "execution_count": 15
  },
  {
   "metadata": {
    "ExecuteTime": {
     "end_time": "2025-01-09T06:10:54.199858Z",
     "start_time": "2025-01-09T06:10:54.196490Z"
    }
   },
   "cell_type": "code",
   "source": "df1.sort_index()",
   "id": "6cdb9f6e1f10a565",
   "outputs": [
    {
     "data": {
      "text/plain": [
       "   a  b\n",
       "0  2  5\n",
       "1  3  6\n",
       "2  4  7\n",
       "3  1  4"
      ],
      "text/html": [
       "<div>\n",
       "<style scoped>\n",
       "    .dataframe tbody tr th:only-of-type {\n",
       "        vertical-align: middle;\n",
       "    }\n",
       "\n",
       "    .dataframe tbody tr th {\n",
       "        vertical-align: top;\n",
       "    }\n",
       "\n",
       "    .dataframe thead th {\n",
       "        text-align: right;\n",
       "    }\n",
       "</style>\n",
       "<table border=\"1\" class=\"dataframe\">\n",
       "  <thead>\n",
       "    <tr style=\"text-align: right;\">\n",
       "      <th></th>\n",
       "      <th>a</th>\n",
       "      <th>b</th>\n",
       "    </tr>\n",
       "  </thead>\n",
       "  <tbody>\n",
       "    <tr>\n",
       "      <th>0</th>\n",
       "      <td>2</td>\n",
       "      <td>5</td>\n",
       "    </tr>\n",
       "    <tr>\n",
       "      <th>1</th>\n",
       "      <td>3</td>\n",
       "      <td>6</td>\n",
       "    </tr>\n",
       "    <tr>\n",
       "      <th>2</th>\n",
       "      <td>4</td>\n",
       "      <td>7</td>\n",
       "    </tr>\n",
       "    <tr>\n",
       "      <th>3</th>\n",
       "      <td>1</td>\n",
       "      <td>4</td>\n",
       "    </tr>\n",
       "  </tbody>\n",
       "</table>\n",
       "</div>"
      ]
     },
     "execution_count": 16,
     "metadata": {},
     "output_type": "execute_result"
    }
   ],
   "execution_count": 16
  },
  {
   "metadata": {
    "ExecuteTime": {
     "end_time": "2025-01-09T06:10:54.341057Z",
     "start_time": "2025-01-09T06:10:54.336109Z"
    }
   },
   "cell_type": "code",
   "source": [
    "pd.set_option(\"display.max_colwidth\", 500)\n",
    "df3 = pd.DataFrame(data={\n",
    "    'col1': [\n",
    "        'Lorem ipsum dolor sit amet, consectetur adipiscing elit. Cras auctor a tortor id fermentum. Aliquam vel malesuada nunc. Vivamus auctor nec purus eu faucibus. Vestibulum semper quam hendrerit est sagittis, a porta est auctor. Nulla vehicula at nulla vel commodo. Aliquam fringilla enim eget congue vestibulum. Praesent rutrum feugiat dui, a tempus justo volutpat a. Cras lacinia urna id dui cursus, pretium pharetra justo malesuada. Vestibulum tempor ac nulla quis egestas.',\n",
    "        'My name is ...',\n",
    "        'I am wearing watch']\n",
    "})\n",
    "df3"
   ],
   "id": "fb3cd32274854c40",
   "outputs": [
    {
     "data": {
      "text/plain": [
       "                                                                                                                                                                                                                                                                                                                                                                                                                                                                                       col1\n",
       "0  Lorem ipsum dolor sit amet, consectetur adipiscing elit. Cras auctor a tortor id fermentum. Aliquam vel malesuada nunc. Vivamus auctor nec purus eu faucibus. Vestibulum semper quam hendrerit est sagittis, a porta est auctor. Nulla vehicula at nulla vel commodo. Aliquam fringilla enim eget congue vestibulum. Praesent rutrum feugiat dui, a tempus justo volutpat a. Cras lacinia urna id dui cursus, pretium pharetra justo malesuada. Vestibulum tempor ac nulla quis egestas.\n",
       "1                                                                                                                                                                                                                                                                                                                                                                                                                                                                            My name is ...\n",
       "2                                                                                                                                                                                                                                                                                                                                                                                                                                                                        I am wearing watch"
      ],
      "text/html": [
       "<div>\n",
       "<style scoped>\n",
       "    .dataframe tbody tr th:only-of-type {\n",
       "        vertical-align: middle;\n",
       "    }\n",
       "\n",
       "    .dataframe tbody tr th {\n",
       "        vertical-align: top;\n",
       "    }\n",
       "\n",
       "    .dataframe thead th {\n",
       "        text-align: right;\n",
       "    }\n",
       "</style>\n",
       "<table border=\"1\" class=\"dataframe\">\n",
       "  <thead>\n",
       "    <tr style=\"text-align: right;\">\n",
       "      <th></th>\n",
       "      <th>col1</th>\n",
       "    </tr>\n",
       "  </thead>\n",
       "  <tbody>\n",
       "    <tr>\n",
       "      <th>0</th>\n",
       "      <td>Lorem ipsum dolor sit amet, consectetur adipiscing elit. Cras auctor a tortor id fermentum. Aliquam vel malesuada nunc. Vivamus auctor nec purus eu faucibus. Vestibulum semper quam hendrerit est sagittis, a porta est auctor. Nulla vehicula at nulla vel commodo. Aliquam fringilla enim eget congue vestibulum. Praesent rutrum feugiat dui, a tempus justo volutpat a. Cras lacinia urna id dui cursus, pretium pharetra justo malesuada. Vestibulum tempor ac nulla quis egestas.</td>\n",
       "    </tr>\n",
       "    <tr>\n",
       "      <th>1</th>\n",
       "      <td>My name is ...</td>\n",
       "    </tr>\n",
       "    <tr>\n",
       "      <th>2</th>\n",
       "      <td>I am wearing watch</td>\n",
       "    </tr>\n",
       "  </tbody>\n",
       "</table>\n",
       "</div>"
      ]
     },
     "execution_count": 17,
     "metadata": {},
     "output_type": "execute_result"
    }
   ],
   "execution_count": 17
  },
  {
   "metadata": {
    "ExecuteTime": {
     "end_time": "2025-01-09T06:10:54.477594Z",
     "start_time": "2025-01-09T06:10:54.473136Z"
    }
   },
   "cell_type": "code",
   "source": [
    "df3['len'] = df3['col1'].apply(lambda x: len(x))\n",
    "df3"
   ],
   "id": "63ee9204535870b3",
   "outputs": [
    {
     "data": {
      "text/plain": [
       "                                                                                                                                                                                                                                                                                                                                                                                                                                                                                       col1  \\\n",
       "0  Lorem ipsum dolor sit amet, consectetur adipiscing elit. Cras auctor a tortor id fermentum. Aliquam vel malesuada nunc. Vivamus auctor nec purus eu faucibus. Vestibulum semper quam hendrerit est sagittis, a porta est auctor. Nulla vehicula at nulla vel commodo. Aliquam fringilla enim eget congue vestibulum. Praesent rutrum feugiat dui, a tempus justo volutpat a. Cras lacinia urna id dui cursus, pretium pharetra justo malesuada. Vestibulum tempor ac nulla quis egestas.   \n",
       "1                                                                                                                                                                                                                                                                                                                                                                                                                                                                            My name is ...   \n",
       "2                                                                                                                                                                                                                                                                                                                                                                                                                                                                        I am wearing watch   \n",
       "\n",
       "   len  \n",
       "0  472  \n",
       "1   14  \n",
       "2   18  "
      ],
      "text/html": [
       "<div>\n",
       "<style scoped>\n",
       "    .dataframe tbody tr th:only-of-type {\n",
       "        vertical-align: middle;\n",
       "    }\n",
       "\n",
       "    .dataframe tbody tr th {\n",
       "        vertical-align: top;\n",
       "    }\n",
       "\n",
       "    .dataframe thead th {\n",
       "        text-align: right;\n",
       "    }\n",
       "</style>\n",
       "<table border=\"1\" class=\"dataframe\">\n",
       "  <thead>\n",
       "    <tr style=\"text-align: right;\">\n",
       "      <th></th>\n",
       "      <th>col1</th>\n",
       "      <th>len</th>\n",
       "    </tr>\n",
       "  </thead>\n",
       "  <tbody>\n",
       "    <tr>\n",
       "      <th>0</th>\n",
       "      <td>Lorem ipsum dolor sit amet, consectetur adipiscing elit. Cras auctor a tortor id fermentum. Aliquam vel malesuada nunc. Vivamus auctor nec purus eu faucibus. Vestibulum semper quam hendrerit est sagittis, a porta est auctor. Nulla vehicula at nulla vel commodo. Aliquam fringilla enim eget congue vestibulum. Praesent rutrum feugiat dui, a tempus justo volutpat a. Cras lacinia urna id dui cursus, pretium pharetra justo malesuada. Vestibulum tempor ac nulla quis egestas.</td>\n",
       "      <td>472</td>\n",
       "    </tr>\n",
       "    <tr>\n",
       "      <th>1</th>\n",
       "      <td>My name is ...</td>\n",
       "      <td>14</td>\n",
       "    </tr>\n",
       "    <tr>\n",
       "      <th>2</th>\n",
       "      <td>I am wearing watch</td>\n",
       "      <td>18</td>\n",
       "    </tr>\n",
       "  </tbody>\n",
       "</table>\n",
       "</div>"
      ]
     },
     "execution_count": 18,
     "metadata": {},
     "output_type": "execute_result"
    }
   ],
   "execution_count": 18
  },
  {
   "metadata": {
    "ExecuteTime": {
     "end_time": "2025-01-09T06:10:54.603323Z",
     "start_time": "2025-01-09T06:10:54.598219Z"
    }
   },
   "cell_type": "code",
   "source": [
    "def count_words(x):\n",
    "    x = x.split()\n",
    "    return len(x)\n",
    "\n",
    "\n",
    "df3['count_words'] = df3['col1'].apply(count_words)\n",
    "df3"
   ],
   "id": "a16756f1ca62e099",
   "outputs": [
    {
     "data": {
      "text/plain": [
       "                                                                                                                                                                                                                                                                                                                                                                                                                                                                                       col1  \\\n",
       "0  Lorem ipsum dolor sit amet, consectetur adipiscing elit. Cras auctor a tortor id fermentum. Aliquam vel malesuada nunc. Vivamus auctor nec purus eu faucibus. Vestibulum semper quam hendrerit est sagittis, a porta est auctor. Nulla vehicula at nulla vel commodo. Aliquam fringilla enim eget congue vestibulum. Praesent rutrum feugiat dui, a tempus justo volutpat a. Cras lacinia urna id dui cursus, pretium pharetra justo malesuada. Vestibulum tempor ac nulla quis egestas.   \n",
       "1                                                                                                                                                                                                                                                                                                                                                                                                                                                                            My name is ...   \n",
       "2                                                                                                                                                                                                                                                                                                                                                                                                                                                                        I am wearing watch   \n",
       "\n",
       "   len  count_words  \n",
       "0  472           71  \n",
       "1   14            4  \n",
       "2   18            4  "
      ],
      "text/html": [
       "<div>\n",
       "<style scoped>\n",
       "    .dataframe tbody tr th:only-of-type {\n",
       "        vertical-align: middle;\n",
       "    }\n",
       "\n",
       "    .dataframe tbody tr th {\n",
       "        vertical-align: top;\n",
       "    }\n",
       "\n",
       "    .dataframe thead th {\n",
       "        text-align: right;\n",
       "    }\n",
       "</style>\n",
       "<table border=\"1\" class=\"dataframe\">\n",
       "  <thead>\n",
       "    <tr style=\"text-align: right;\">\n",
       "      <th></th>\n",
       "      <th>col1</th>\n",
       "      <th>len</th>\n",
       "      <th>count_words</th>\n",
       "    </tr>\n",
       "  </thead>\n",
       "  <tbody>\n",
       "    <tr>\n",
       "      <th>0</th>\n",
       "      <td>Lorem ipsum dolor sit amet, consectetur adipiscing elit. Cras auctor a tortor id fermentum. Aliquam vel malesuada nunc. Vivamus auctor nec purus eu faucibus. Vestibulum semper quam hendrerit est sagittis, a porta est auctor. Nulla vehicula at nulla vel commodo. Aliquam fringilla enim eget congue vestibulum. Praesent rutrum feugiat dui, a tempus justo volutpat a. Cras lacinia urna id dui cursus, pretium pharetra justo malesuada. Vestibulum tempor ac nulla quis egestas.</td>\n",
       "      <td>472</td>\n",
       "      <td>71</td>\n",
       "    </tr>\n",
       "    <tr>\n",
       "      <th>1</th>\n",
       "      <td>My name is ...</td>\n",
       "      <td>14</td>\n",
       "      <td>4</td>\n",
       "    </tr>\n",
       "    <tr>\n",
       "      <th>2</th>\n",
       "      <td>I am wearing watch</td>\n",
       "      <td>18</td>\n",
       "      <td>4</td>\n",
       "    </tr>\n",
       "  </tbody>\n",
       "</table>\n",
       "</div>"
      ]
     },
     "execution_count": 19,
     "metadata": {},
     "output_type": "execute_result"
    }
   ],
   "execution_count": 19
  },
  {
   "metadata": {
    "ExecuteTime": {
     "end_time": "2025-01-09T06:10:54.714318Z",
     "start_time": "2025-01-09T06:10:54.710211Z"
    }
   },
   "cell_type": "code",
   "source": "df[['a']]",
   "id": "21edb8f960a1c600",
   "outputs": [
    {
     "data": {
      "text/plain": [
       "   a\n",
       "0  2\n",
       "1  3\n",
       "2  4\n",
       "3  1"
      ],
      "text/html": [
       "<div>\n",
       "<style scoped>\n",
       "    .dataframe tbody tr th:only-of-type {\n",
       "        vertical-align: middle;\n",
       "    }\n",
       "\n",
       "    .dataframe tbody tr th {\n",
       "        vertical-align: top;\n",
       "    }\n",
       "\n",
       "    .dataframe thead th {\n",
       "        text-align: right;\n",
       "    }\n",
       "</style>\n",
       "<table border=\"1\" class=\"dataframe\">\n",
       "  <thead>\n",
       "    <tr style=\"text-align: right;\">\n",
       "      <th></th>\n",
       "      <th>a</th>\n",
       "    </tr>\n",
       "  </thead>\n",
       "  <tbody>\n",
       "    <tr>\n",
       "      <th>0</th>\n",
       "      <td>2</td>\n",
       "    </tr>\n",
       "    <tr>\n",
       "      <th>1</th>\n",
       "      <td>3</td>\n",
       "    </tr>\n",
       "    <tr>\n",
       "      <th>2</th>\n",
       "      <td>4</td>\n",
       "    </tr>\n",
       "    <tr>\n",
       "      <th>3</th>\n",
       "      <td>1</td>\n",
       "    </tr>\n",
       "  </tbody>\n",
       "</table>\n",
       "</div>"
      ]
     },
     "execution_count": 20,
     "metadata": {},
     "output_type": "execute_result"
    }
   ],
   "execution_count": 20
  },
  {
   "metadata": {
    "ExecuteTime": {
     "end_time": "2025-01-09T06:10:54.852422Z",
     "start_time": "2025-01-09T06:10:54.848004Z"
    }
   },
   "cell_type": "code",
   "source": "df[['a', 'b']]",
   "id": "e04cc3797e7b88d1",
   "outputs": [
    {
     "data": {
      "text/plain": [
       "   a  b\n",
       "0  2  5\n",
       "1  3  6\n",
       "2  4  7\n",
       "3  1  4"
      ],
      "text/html": [
       "<div>\n",
       "<style scoped>\n",
       "    .dataframe tbody tr th:only-of-type {\n",
       "        vertical-align: middle;\n",
       "    }\n",
       "\n",
       "    .dataframe tbody tr th {\n",
       "        vertical-align: top;\n",
       "    }\n",
       "\n",
       "    .dataframe thead th {\n",
       "        text-align: right;\n",
       "    }\n",
       "</style>\n",
       "<table border=\"1\" class=\"dataframe\">\n",
       "  <thead>\n",
       "    <tr style=\"text-align: right;\">\n",
       "      <th></th>\n",
       "      <th>a</th>\n",
       "      <th>b</th>\n",
       "    </tr>\n",
       "  </thead>\n",
       "  <tbody>\n",
       "    <tr>\n",
       "      <th>0</th>\n",
       "      <td>2</td>\n",
       "      <td>5</td>\n",
       "    </tr>\n",
       "    <tr>\n",
       "      <th>1</th>\n",
       "      <td>3</td>\n",
       "      <td>6</td>\n",
       "    </tr>\n",
       "    <tr>\n",
       "      <th>2</th>\n",
       "      <td>4</td>\n",
       "      <td>7</td>\n",
       "    </tr>\n",
       "    <tr>\n",
       "      <th>3</th>\n",
       "      <td>1</td>\n",
       "      <td>4</td>\n",
       "    </tr>\n",
       "  </tbody>\n",
       "</table>\n",
       "</div>"
      ]
     },
     "execution_count": 21,
     "metadata": {},
     "output_type": "execute_result"
    }
   ],
   "execution_count": 21
  },
  {
   "metadata": {
    "ExecuteTime": {
     "end_time": "2025-01-09T06:10:54.971866Z",
     "start_time": "2025-01-09T06:10:54.968121Z"
    }
   },
   "cell_type": "code",
   "source": "df['a'][0]",
   "id": "7cc5f61f1964a4cc",
   "outputs": [
    {
     "data": {
      "text/plain": [
       "np.int64(2)"
      ]
     },
     "execution_count": 22,
     "metadata": {},
     "output_type": "execute_result"
    }
   ],
   "execution_count": 22
  },
  {
   "metadata": {
    "ExecuteTime": {
     "end_time": "2025-01-09T06:10:55.094642Z",
     "start_time": "2025-01-09T06:10:55.090477Z"
    }
   },
   "cell_type": "code",
   "source": "df['a'].mean()",
   "id": "c52b72c008251694",
   "outputs": [
    {
     "data": {
      "text/plain": [
       "np.float64(2.5)"
      ]
     },
     "execution_count": 23,
     "metadata": {},
     "output_type": "execute_result"
    }
   ],
   "execution_count": 23
  },
  {
   "metadata": {
    "ExecuteTime": {
     "end_time": "2025-01-09T06:10:55.210152Z",
     "start_time": "2025-01-09T06:10:55.206710Z"
    }
   },
   "cell_type": "code",
   "source": "df['a'].median()",
   "id": "e0314740c0fa06c7",
   "outputs": [
    {
     "data": {
      "text/plain": [
       "np.float64(2.5)"
      ]
     },
     "execution_count": 24,
     "metadata": {},
     "output_type": "execute_result"
    }
   ],
   "execution_count": 24
  },
  {
   "metadata": {
    "ExecuteTime": {
     "end_time": "2025-01-09T06:10:55.276541Z",
     "start_time": "2025-01-09T06:10:55.271180Z"
    }
   },
   "cell_type": "code",
   "source": "df['a'].mode()",
   "id": "fe74b67c46a2fdf",
   "outputs": [
    {
     "data": {
      "text/plain": [
       "0    1\n",
       "1    2\n",
       "2    3\n",
       "3    4\n",
       "Name: a, dtype: int64"
      ]
     },
     "execution_count": 25,
     "metadata": {},
     "output_type": "execute_result"
    }
   ],
   "execution_count": 25
  },
  {
   "metadata": {
    "ExecuteTime": {
     "end_time": "2025-01-09T06:10:55.337381Z",
     "start_time": "2025-01-09T06:10:55.334377Z"
    }
   },
   "cell_type": "code",
   "source": "df['a'].sum()",
   "id": "31be01c6fec77de6",
   "outputs": [
    {
     "data": {
      "text/plain": [
       "np.int64(10)"
      ]
     },
     "execution_count": 26,
     "metadata": {},
     "output_type": "execute_result"
    }
   ],
   "execution_count": 26
  },
  {
   "metadata": {
    "ExecuteTime": {
     "end_time": "2025-01-09T06:10:55.385664Z",
     "start_time": "2025-01-09T06:10:55.382717Z"
    }
   },
   "cell_type": "code",
   "source": "df['a'].std()",
   "id": "a94891446b67d561",
   "outputs": [
    {
     "data": {
      "text/plain": [
       "np.float64(1.2909944487358056)"
      ]
     },
     "execution_count": 27,
     "metadata": {},
     "output_type": "execute_result"
    }
   ],
   "execution_count": 27
  },
  {
   "metadata": {
    "ExecuteTime": {
     "end_time": "2025-01-09T06:10:55.439925Z",
     "start_time": "2025-01-09T06:10:55.434691Z"
    }
   },
   "cell_type": "code",
   "source": "df['a'].min()",
   "id": "864ff30e0797579d",
   "outputs": [
    {
     "data": {
      "text/plain": [
       "np.int64(1)"
      ]
     },
     "execution_count": 28,
     "metadata": {},
     "output_type": "execute_result"
    }
   ],
   "execution_count": 28
  },
  {
   "metadata": {
    "ExecuteTime": {
     "end_time": "2025-01-09T06:10:55.515351Z",
     "start_time": "2025-01-09T06:10:55.512524Z"
    }
   },
   "cell_type": "code",
   "source": "df['a'].max()",
   "id": "29d4b00d58687f4b",
   "outputs": [
    {
     "data": {
      "text/plain": [
       "np.int64(4)"
      ]
     },
     "execution_count": 29,
     "metadata": {},
     "output_type": "execute_result"
    }
   ],
   "execution_count": 29
  },
  {
   "metadata": {
    "ExecuteTime": {
     "end_time": "2025-01-09T06:10:55.574633Z",
     "start_time": "2025-01-09T06:10:55.571233Z"
    }
   },
   "cell_type": "code",
   "source": "df['a'].var()",
   "id": "245befd8725135b",
   "outputs": [
    {
     "data": {
      "text/plain": [
       "np.float64(1.6666666666666667)"
      ]
     },
     "execution_count": 30,
     "metadata": {},
     "output_type": "execute_result"
    }
   ],
   "execution_count": 30
  },
  {
   "metadata": {
    "ExecuteTime": {
     "end_time": "2025-01-09T06:10:55.609651Z",
     "start_time": "2025-01-09T06:10:55.604740Z"
    }
   },
   "cell_type": "code",
   "source": [
    "df4 = pd.DataFrame({'a': [3, 4, 5, 6, 23, 23, 23, 5, 4, 32, 2, 3, 23, 35, 6]})\n",
    "df4"
   ],
   "id": "f6b349b17de1018e",
   "outputs": [
    {
     "data": {
      "text/plain": [
       "     a\n",
       "0    3\n",
       "1    4\n",
       "2    5\n",
       "3    6\n",
       "4   23\n",
       "5   23\n",
       "6   23\n",
       "7    5\n",
       "8    4\n",
       "9   32\n",
       "10   2\n",
       "11   3\n",
       "12  23\n",
       "13  35\n",
       "14   6"
      ],
      "text/html": [
       "<div>\n",
       "<style scoped>\n",
       "    .dataframe tbody tr th:only-of-type {\n",
       "        vertical-align: middle;\n",
       "    }\n",
       "\n",
       "    .dataframe tbody tr th {\n",
       "        vertical-align: top;\n",
       "    }\n",
       "\n",
       "    .dataframe thead th {\n",
       "        text-align: right;\n",
       "    }\n",
       "</style>\n",
       "<table border=\"1\" class=\"dataframe\">\n",
       "  <thead>\n",
       "    <tr style=\"text-align: right;\">\n",
       "      <th></th>\n",
       "      <th>a</th>\n",
       "    </tr>\n",
       "  </thead>\n",
       "  <tbody>\n",
       "    <tr>\n",
       "      <th>0</th>\n",
       "      <td>3</td>\n",
       "    </tr>\n",
       "    <tr>\n",
       "      <th>1</th>\n",
       "      <td>4</td>\n",
       "    </tr>\n",
       "    <tr>\n",
       "      <th>2</th>\n",
       "      <td>5</td>\n",
       "    </tr>\n",
       "    <tr>\n",
       "      <th>3</th>\n",
       "      <td>6</td>\n",
       "    </tr>\n",
       "    <tr>\n",
       "      <th>4</th>\n",
       "      <td>23</td>\n",
       "    </tr>\n",
       "    <tr>\n",
       "      <th>5</th>\n",
       "      <td>23</td>\n",
       "    </tr>\n",
       "    <tr>\n",
       "      <th>6</th>\n",
       "      <td>23</td>\n",
       "    </tr>\n",
       "    <tr>\n",
       "      <th>7</th>\n",
       "      <td>5</td>\n",
       "    </tr>\n",
       "    <tr>\n",
       "      <th>8</th>\n",
       "      <td>4</td>\n",
       "    </tr>\n",
       "    <tr>\n",
       "      <th>9</th>\n",
       "      <td>32</td>\n",
       "    </tr>\n",
       "    <tr>\n",
       "      <th>10</th>\n",
       "      <td>2</td>\n",
       "    </tr>\n",
       "    <tr>\n",
       "      <th>11</th>\n",
       "      <td>3</td>\n",
       "    </tr>\n",
       "    <tr>\n",
       "      <th>12</th>\n",
       "      <td>23</td>\n",
       "    </tr>\n",
       "    <tr>\n",
       "      <th>13</th>\n",
       "      <td>35</td>\n",
       "    </tr>\n",
       "    <tr>\n",
       "      <th>14</th>\n",
       "      <td>6</td>\n",
       "    </tr>\n",
       "  </tbody>\n",
       "</table>\n",
       "</div>"
      ]
     },
     "execution_count": 31,
     "metadata": {},
     "output_type": "execute_result"
    }
   ],
   "execution_count": 31
  },
  {
   "metadata": {
    "ExecuteTime": {
     "end_time": "2025-01-09T06:10:55.674383Z",
     "start_time": "2025-01-09T06:10:55.669230Z"
    }
   },
   "cell_type": "code",
   "source": "df4['a'].rolling(window=2).sum()",
   "id": "3195d6733a100425",
   "outputs": [
    {
     "data": {
      "text/plain": [
       "0      NaN\n",
       "1      7.0\n",
       "2      9.0\n",
       "3     11.0\n",
       "4     29.0\n",
       "5     46.0\n",
       "6     46.0\n",
       "7     28.0\n",
       "8      9.0\n",
       "9     36.0\n",
       "10    34.0\n",
       "11     5.0\n",
       "12    26.0\n",
       "13    58.0\n",
       "14    41.0\n",
       "Name: a, dtype: float64"
      ]
     },
     "execution_count": 32,
     "metadata": {},
     "output_type": "execute_result"
    }
   ],
   "execution_count": 32
  },
  {
   "metadata": {
    "ExecuteTime": {
     "end_time": "2025-01-09T06:10:55.720788Z",
     "start_time": "2025-01-09T06:10:55.717795Z"
    }
   },
   "cell_type": "code",
   "source": "df4['a'].rolling(window=3).min()",
   "id": "c79a5cdff78c2ddd",
   "outputs": [
    {
     "data": {
      "text/plain": [
       "0      NaN\n",
       "1      NaN\n",
       "2      3.0\n",
       "3      4.0\n",
       "4      5.0\n",
       "5      6.0\n",
       "6     23.0\n",
       "7      5.0\n",
       "8      4.0\n",
       "9      4.0\n",
       "10     2.0\n",
       "11     2.0\n",
       "12     2.0\n",
       "13     3.0\n",
       "14     6.0\n",
       "Name: a, dtype: float64"
      ]
     },
     "execution_count": 33,
     "metadata": {},
     "output_type": "execute_result"
    }
   ],
   "execution_count": 33
  },
  {
   "metadata": {
    "ExecuteTime": {
     "end_time": "2025-01-09T06:10:55.800432Z",
     "start_time": "2025-01-09T06:10:55.797041Z"
    }
   },
   "cell_type": "code",
   "source": "df4['a'].cumsum()",
   "id": "149d0c47a88c579f",
   "outputs": [
    {
     "data": {
      "text/plain": [
       "0       3\n",
       "1       7\n",
       "2      12\n",
       "3      18\n",
       "4      41\n",
       "5      64\n",
       "6      87\n",
       "7      92\n",
       "8      96\n",
       "9     128\n",
       "10    130\n",
       "11    133\n",
       "12    156\n",
       "13    191\n",
       "14    197\n",
       "Name: a, dtype: int64"
      ]
     },
     "execution_count": 34,
     "metadata": {},
     "output_type": "execute_result"
    }
   ],
   "execution_count": 34
  },
  {
   "metadata": {},
   "cell_type": "markdown",
   "source": "DATE Functionality:",
   "id": "ec8c25b7abbfd05"
  },
  {
   "metadata": {
    "ExecuteTime": {
     "end_time": "2025-01-09T06:10:55.871307Z",
     "start_time": "2025-01-09T06:10:55.864435Z"
    }
   },
   "cell_type": "code",
   "source": [
    "date = pd.date_range(start='2023-04-24', end='2023-05-25')\n",
    "date"
   ],
   "id": "1a9b592cbbb08fd1",
   "outputs": [
    {
     "data": {
      "text/plain": [
       "DatetimeIndex(['2023-04-24', '2023-04-25', '2023-04-26', '2023-04-27',\n",
       "               '2023-04-28', '2023-04-29', '2023-04-30', '2023-05-01',\n",
       "               '2023-05-02', '2023-05-03', '2023-05-04', '2023-05-05',\n",
       "               '2023-05-06', '2023-05-07', '2023-05-08', '2023-05-09',\n",
       "               '2023-05-10', '2023-05-11', '2023-05-12', '2023-05-13',\n",
       "               '2023-05-14', '2023-05-15', '2023-05-16', '2023-05-17',\n",
       "               '2023-05-18', '2023-05-19', '2023-05-20', '2023-05-21',\n",
       "               '2023-05-22', '2023-05-23', '2023-05-24', '2023-05-25'],\n",
       "              dtype='datetime64[ns]', freq='D')"
      ]
     },
     "execution_count": 35,
     "metadata": {},
     "output_type": "execute_result"
    }
   ],
   "execution_count": 35
  },
  {
   "metadata": {
    "ExecuteTime": {
     "end_time": "2025-01-09T06:10:55.956531Z",
     "start_time": "2025-01-09T06:10:55.951790Z"
    }
   },
   "cell_type": "code",
   "source": [
    "df_date = pd.DataFrame({'date': date})\n",
    "df_date"
   ],
   "id": "9858d3ef6a7342c3",
   "outputs": [
    {
     "data": {
      "text/plain": [
       "         date\n",
       "0  2023-04-24\n",
       "1  2023-04-25\n",
       "2  2023-04-26\n",
       "3  2023-04-27\n",
       "4  2023-04-28\n",
       "5  2023-04-29\n",
       "6  2023-04-30\n",
       "7  2023-05-01\n",
       "8  2023-05-02\n",
       "9  2023-05-03\n",
       "10 2023-05-04\n",
       "11 2023-05-05\n",
       "12 2023-05-06\n",
       "13 2023-05-07\n",
       "14 2023-05-08\n",
       "15 2023-05-09\n",
       "16 2023-05-10\n",
       "17 2023-05-11\n",
       "18 2023-05-12\n",
       "19 2023-05-13\n",
       "20 2023-05-14\n",
       "21 2023-05-15\n",
       "22 2023-05-16\n",
       "23 2023-05-17\n",
       "24 2023-05-18\n",
       "25 2023-05-19\n",
       "26 2023-05-20\n",
       "27 2023-05-21\n",
       "28 2023-05-22\n",
       "29 2023-05-23\n",
       "30 2023-05-24\n",
       "31 2023-05-25"
      ],
      "text/html": [
       "<div>\n",
       "<style scoped>\n",
       "    .dataframe tbody tr th:only-of-type {\n",
       "        vertical-align: middle;\n",
       "    }\n",
       "\n",
       "    .dataframe tbody tr th {\n",
       "        vertical-align: top;\n",
       "    }\n",
       "\n",
       "    .dataframe thead th {\n",
       "        text-align: right;\n",
       "    }\n",
       "</style>\n",
       "<table border=\"1\" class=\"dataframe\">\n",
       "  <thead>\n",
       "    <tr style=\"text-align: right;\">\n",
       "      <th></th>\n",
       "      <th>date</th>\n",
       "    </tr>\n",
       "  </thead>\n",
       "  <tbody>\n",
       "    <tr>\n",
       "      <th>0</th>\n",
       "      <td>2023-04-24</td>\n",
       "    </tr>\n",
       "    <tr>\n",
       "      <th>1</th>\n",
       "      <td>2023-04-25</td>\n",
       "    </tr>\n",
       "    <tr>\n",
       "      <th>2</th>\n",
       "      <td>2023-04-26</td>\n",
       "    </tr>\n",
       "    <tr>\n",
       "      <th>3</th>\n",
       "      <td>2023-04-27</td>\n",
       "    </tr>\n",
       "    <tr>\n",
       "      <th>4</th>\n",
       "      <td>2023-04-28</td>\n",
       "    </tr>\n",
       "    <tr>\n",
       "      <th>5</th>\n",
       "      <td>2023-04-29</td>\n",
       "    </tr>\n",
       "    <tr>\n",
       "      <th>6</th>\n",
       "      <td>2023-04-30</td>\n",
       "    </tr>\n",
       "    <tr>\n",
       "      <th>7</th>\n",
       "      <td>2023-05-01</td>\n",
       "    </tr>\n",
       "    <tr>\n",
       "      <th>8</th>\n",
       "      <td>2023-05-02</td>\n",
       "    </tr>\n",
       "    <tr>\n",
       "      <th>9</th>\n",
       "      <td>2023-05-03</td>\n",
       "    </tr>\n",
       "    <tr>\n",
       "      <th>10</th>\n",
       "      <td>2023-05-04</td>\n",
       "    </tr>\n",
       "    <tr>\n",
       "      <th>11</th>\n",
       "      <td>2023-05-05</td>\n",
       "    </tr>\n",
       "    <tr>\n",
       "      <th>12</th>\n",
       "      <td>2023-05-06</td>\n",
       "    </tr>\n",
       "    <tr>\n",
       "      <th>13</th>\n",
       "      <td>2023-05-07</td>\n",
       "    </tr>\n",
       "    <tr>\n",
       "      <th>14</th>\n",
       "      <td>2023-05-08</td>\n",
       "    </tr>\n",
       "    <tr>\n",
       "      <th>15</th>\n",
       "      <td>2023-05-09</td>\n",
       "    </tr>\n",
       "    <tr>\n",
       "      <th>16</th>\n",
       "      <td>2023-05-10</td>\n",
       "    </tr>\n",
       "    <tr>\n",
       "      <th>17</th>\n",
       "      <td>2023-05-11</td>\n",
       "    </tr>\n",
       "    <tr>\n",
       "      <th>18</th>\n",
       "      <td>2023-05-12</td>\n",
       "    </tr>\n",
       "    <tr>\n",
       "      <th>19</th>\n",
       "      <td>2023-05-13</td>\n",
       "    </tr>\n",
       "    <tr>\n",
       "      <th>20</th>\n",
       "      <td>2023-05-14</td>\n",
       "    </tr>\n",
       "    <tr>\n",
       "      <th>21</th>\n",
       "      <td>2023-05-15</td>\n",
       "    </tr>\n",
       "    <tr>\n",
       "      <th>22</th>\n",
       "      <td>2023-05-16</td>\n",
       "    </tr>\n",
       "    <tr>\n",
       "      <th>23</th>\n",
       "      <td>2023-05-17</td>\n",
       "    </tr>\n",
       "    <tr>\n",
       "      <th>24</th>\n",
       "      <td>2023-05-18</td>\n",
       "    </tr>\n",
       "    <tr>\n",
       "      <th>25</th>\n",
       "      <td>2023-05-19</td>\n",
       "    </tr>\n",
       "    <tr>\n",
       "      <th>26</th>\n",
       "      <td>2023-05-20</td>\n",
       "    </tr>\n",
       "    <tr>\n",
       "      <th>27</th>\n",
       "      <td>2023-05-21</td>\n",
       "    </tr>\n",
       "    <tr>\n",
       "      <th>28</th>\n",
       "      <td>2023-05-22</td>\n",
       "    </tr>\n",
       "    <tr>\n",
       "      <th>29</th>\n",
       "      <td>2023-05-23</td>\n",
       "    </tr>\n",
       "    <tr>\n",
       "      <th>30</th>\n",
       "      <td>2023-05-24</td>\n",
       "    </tr>\n",
       "    <tr>\n",
       "      <th>31</th>\n",
       "      <td>2023-05-25</td>\n",
       "    </tr>\n",
       "  </tbody>\n",
       "</table>\n",
       "</div>"
      ]
     },
     "execution_count": 36,
     "metadata": {},
     "output_type": "execute_result"
    }
   ],
   "execution_count": 36
  },
  {
   "metadata": {
    "ExecuteTime": {
     "end_time": "2025-01-09T06:10:56.043456Z",
     "start_time": "2025-01-09T06:10:56.039689Z"
    }
   },
   "cell_type": "code",
   "source": "df_date.dtypes",
   "id": "102cd8f782354c45",
   "outputs": [
    {
     "data": {
      "text/plain": [
       "date    datetime64[ns]\n",
       "dtype: object"
      ]
     },
     "execution_count": 37,
     "metadata": {},
     "output_type": "execute_result"
    }
   ],
   "execution_count": 37
  },
  {
   "metadata": {
    "ExecuteTime": {
     "end_time": "2025-01-09T06:10:56.148139Z",
     "start_time": "2025-01-09T06:10:56.144341Z"
    }
   },
   "cell_type": "code",
   "source": [
    "df5 = pd.DataFrame({'date': ['2023-04-24', '2023-04-25']})\n",
    "df5.dtypes"
   ],
   "id": "4e90f570c3ef9461",
   "outputs": [
    {
     "data": {
      "text/plain": [
       "date    object\n",
       "dtype: object"
      ]
     },
     "execution_count": 38,
     "metadata": {},
     "output_type": "execute_result"
    }
   ],
   "execution_count": 38
  },
  {
   "metadata": {
    "ExecuteTime": {
     "end_time": "2025-01-09T06:10:56.225461Z",
     "start_time": "2025-01-09T06:10:56.219650Z"
    }
   },
   "cell_type": "code",
   "source": [
    "df5['date'] = pd.to_datetime(df5['date'])\n",
    "df5.dtypes"
   ],
   "id": "72ff53a34e73f621",
   "outputs": [
    {
     "data": {
      "text/plain": [
       "date    datetime64[ns]\n",
       "dtype: object"
      ]
     },
     "execution_count": 39,
     "metadata": {},
     "output_type": "execute_result"
    }
   ],
   "execution_count": 39
  },
  {
   "metadata": {
    "ExecuteTime": {
     "end_time": "2025-01-09T06:10:56.359350Z",
     "start_time": "2025-01-09T06:10:56.354841Z"
    }
   },
   "cell_type": "code",
   "source": [
    "df5['year'] = df5['date'].dt.year\n",
    "df5"
   ],
   "id": "d9e996f30e389d64",
   "outputs": [
    {
     "data": {
      "text/plain": [
       "        date  year\n",
       "0 2023-04-24  2023\n",
       "1 2023-04-25  2023"
      ],
      "text/html": [
       "<div>\n",
       "<style scoped>\n",
       "    .dataframe tbody tr th:only-of-type {\n",
       "        vertical-align: middle;\n",
       "    }\n",
       "\n",
       "    .dataframe tbody tr th {\n",
       "        vertical-align: top;\n",
       "    }\n",
       "\n",
       "    .dataframe thead th {\n",
       "        text-align: right;\n",
       "    }\n",
       "</style>\n",
       "<table border=\"1\" class=\"dataframe\">\n",
       "  <thead>\n",
       "    <tr style=\"text-align: right;\">\n",
       "      <th></th>\n",
       "      <th>date</th>\n",
       "      <th>year</th>\n",
       "    </tr>\n",
       "  </thead>\n",
       "  <tbody>\n",
       "    <tr>\n",
       "      <th>0</th>\n",
       "      <td>2023-04-24</td>\n",
       "      <td>2023</td>\n",
       "    </tr>\n",
       "    <tr>\n",
       "      <th>1</th>\n",
       "      <td>2023-04-25</td>\n",
       "      <td>2023</td>\n",
       "    </tr>\n",
       "  </tbody>\n",
       "</table>\n",
       "</div>"
      ]
     },
     "execution_count": 40,
     "metadata": {},
     "output_type": "execute_result"
    }
   ],
   "execution_count": 40
  },
  {
   "metadata": {
    "ExecuteTime": {
     "end_time": "2025-01-09T06:10:56.465104Z",
     "start_time": "2025-01-09T06:10:56.460934Z"
    }
   },
   "cell_type": "code",
   "source": [
    "df5['day'] = df5['date'].dt.day\n",
    "df5"
   ],
   "id": "53ab04b564dda56e",
   "outputs": [
    {
     "data": {
      "text/plain": [
       "        date  year  day\n",
       "0 2023-04-24  2023   24\n",
       "1 2023-04-25  2023   25"
      ],
      "text/html": [
       "<div>\n",
       "<style scoped>\n",
       "    .dataframe tbody tr th:only-of-type {\n",
       "        vertical-align: middle;\n",
       "    }\n",
       "\n",
       "    .dataframe tbody tr th {\n",
       "        vertical-align: top;\n",
       "    }\n",
       "\n",
       "    .dataframe thead th {\n",
       "        text-align: right;\n",
       "    }\n",
       "</style>\n",
       "<table border=\"1\" class=\"dataframe\">\n",
       "  <thead>\n",
       "    <tr style=\"text-align: right;\">\n",
       "      <th></th>\n",
       "      <th>date</th>\n",
       "      <th>year</th>\n",
       "      <th>day</th>\n",
       "    </tr>\n",
       "  </thead>\n",
       "  <tbody>\n",
       "    <tr>\n",
       "      <th>0</th>\n",
       "      <td>2023-04-24</td>\n",
       "      <td>2023</td>\n",
       "      <td>24</td>\n",
       "    </tr>\n",
       "    <tr>\n",
       "      <th>1</th>\n",
       "      <td>2023-04-25</td>\n",
       "      <td>2023</td>\n",
       "      <td>25</td>\n",
       "    </tr>\n",
       "  </tbody>\n",
       "</table>\n",
       "</div>"
      ]
     },
     "execution_count": 41,
     "metadata": {},
     "output_type": "execute_result"
    }
   ],
   "execution_count": 41
  },
  {
   "metadata": {
    "ExecuteTime": {
     "end_time": "2025-01-09T06:10:56.570950Z",
     "start_time": "2025-01-09T06:10:56.566753Z"
    }
   },
   "cell_type": "code",
   "source": [
    "df5['month'] = df5['date'].dt.month\n",
    "df5"
   ],
   "id": "a1a9b018f03e2c8d",
   "outputs": [
    {
     "data": {
      "text/plain": [
       "        date  year  day  month\n",
       "0 2023-04-24  2023   24      4\n",
       "1 2023-04-25  2023   25      4"
      ],
      "text/html": [
       "<div>\n",
       "<style scoped>\n",
       "    .dataframe tbody tr th:only-of-type {\n",
       "        vertical-align: middle;\n",
       "    }\n",
       "\n",
       "    .dataframe tbody tr th {\n",
       "        vertical-align: top;\n",
       "    }\n",
       "\n",
       "    .dataframe thead th {\n",
       "        text-align: right;\n",
       "    }\n",
       "</style>\n",
       "<table border=\"1\" class=\"dataframe\">\n",
       "  <thead>\n",
       "    <tr style=\"text-align: right;\">\n",
       "      <th></th>\n",
       "      <th>date</th>\n",
       "      <th>year</th>\n",
       "      <th>day</th>\n",
       "      <th>month</th>\n",
       "    </tr>\n",
       "  </thead>\n",
       "  <tbody>\n",
       "    <tr>\n",
       "      <th>0</th>\n",
       "      <td>2023-04-24</td>\n",
       "      <td>2023</td>\n",
       "      <td>24</td>\n",
       "      <td>4</td>\n",
       "    </tr>\n",
       "    <tr>\n",
       "      <th>1</th>\n",
       "      <td>2023-04-25</td>\n",
       "      <td>2023</td>\n",
       "      <td>25</td>\n",
       "      <td>4</td>\n",
       "    </tr>\n",
       "  </tbody>\n",
       "</table>\n",
       "</div>"
      ]
     },
     "execution_count": 42,
     "metadata": {},
     "output_type": "execute_result"
    }
   ],
   "execution_count": 42
  },
  {
   "metadata": {},
   "cell_type": "markdown",
   "source": "Time Delta:",
   "id": "a0abbf56b5be1f41"
  },
  {
   "metadata": {
    "ExecuteTime": {
     "end_time": "2025-01-09T06:10:56.710483Z",
     "start_time": "2025-01-09T06:10:56.707576Z"
    }
   },
   "cell_type": "code",
   "source": "time_delta1 = pd.Timedelta(days=1, hours=2, minutes=30)",
   "id": "e1cb6c028dae7ada",
   "outputs": [],
   "execution_count": 43
  },
  {
   "metadata": {
    "ExecuteTime": {
     "end_time": "2025-01-09T06:10:56.800582Z",
     "start_time": "2025-01-09T06:10:56.797671Z"
    }
   },
   "cell_type": "code",
   "source": "date = pd.to_datetime('2023-04-08')",
   "id": "e12d65ea5cd3722b",
   "outputs": [],
   "execution_count": 44
  },
  {
   "metadata": {
    "ExecuteTime": {
     "end_time": "2025-01-09T06:10:56.934875Z",
     "start_time": "2025-01-09T06:10:56.932721Z"
    }
   },
   "cell_type": "code",
   "source": "time_delta2 = pd.Timedelta(days=1)",
   "id": "8176ea559bdc2743",
   "outputs": [],
   "execution_count": 45
  },
  {
   "metadata": {
    "ExecuteTime": {
     "end_time": "2025-01-09T06:10:56.981868Z",
     "start_time": "2025-01-09T06:10:56.978273Z"
    }
   },
   "cell_type": "code",
   "source": "date + time_delta2",
   "id": "ffaa0cc5a55fb86a",
   "outputs": [
    {
     "data": {
      "text/plain": [
       "Timestamp('2023-04-09 00:00:00')"
      ]
     },
     "execution_count": 46,
     "metadata": {},
     "output_type": "execute_result"
    }
   ],
   "execution_count": 46
  },
  {
   "metadata": {
    "ExecuteTime": {
     "end_time": "2025-01-09T06:10:57.028619Z",
     "start_time": "2025-01-09T06:10:57.025751Z"
    }
   },
   "cell_type": "code",
   "source": "date + time_delta1",
   "id": "9e3943309b83be0f",
   "outputs": [
    {
     "data": {
      "text/plain": [
       "Timestamp('2023-04-09 02:30:00')"
      ]
     },
     "execution_count": 47,
     "metadata": {},
     "output_type": "execute_result"
    }
   ],
   "execution_count": 47
  },
  {
   "metadata": {},
   "cell_type": "markdown",
   "source": "Categorical:",
   "id": "8078b83d8d4b20cd"
  },
  {
   "metadata": {
    "ExecuteTime": {
     "end_time": "2025-01-09T06:10:57.055308Z",
     "start_time": "2025-01-09T06:10:57.052561Z"
    }
   },
   "cell_type": "code",
   "source": [
    "data = ['sudh', 'krish', 'hitesh', 'naveen', 'sudh', 'sudh']\n",
    "cat = pd.Categorical(data)"
   ],
   "id": "270cac84927137d5",
   "outputs": [],
   "execution_count": 48
  },
  {
   "metadata": {
    "ExecuteTime": {
     "end_time": "2025-01-09T06:10:57.114168Z",
     "start_time": "2025-01-09T06:10:57.108146Z"
    }
   },
   "cell_type": "code",
   "source": "cat.value_counts()",
   "id": "9c58e7b3f0783906",
   "outputs": [
    {
     "data": {
      "text/plain": [
       "hitesh    1\n",
       "krish     1\n",
       "naveen    1\n",
       "sudh      3\n",
       "Name: count, dtype: int64"
      ]
     },
     "execution_count": 49,
     "metadata": {},
     "output_type": "execute_result"
    }
   ],
   "execution_count": 49
  },
  {
   "metadata": {},
   "cell_type": "markdown",
   "source": "Pandas-Visualization:",
   "id": "e8a2a3558e2a876f"
  },
  {
   "metadata": {
    "ExecuteTime": {
     "end_time": "2025-01-09T06:10:57.172109Z",
     "start_time": "2025-01-09T06:10:57.166685Z"
    }
   },
   "cell_type": "code",
   "source": [
    "series = pd.Series([1, 2, 3, 4, 5, 7, 9, 10])\n",
    "series"
   ],
   "id": "1829c71e7b526e54",
   "outputs": [
    {
     "data": {
      "text/plain": [
       "0     1\n",
       "1     2\n",
       "2     3\n",
       "3     4\n",
       "4     5\n",
       "5     7\n",
       "6     9\n",
       "7    10\n",
       "dtype: int64"
      ]
     },
     "execution_count": 50,
     "metadata": {},
     "output_type": "execute_result"
    }
   ],
   "execution_count": 50
  },
  {
   "metadata": {
    "ExecuteTime": {
     "end_time": "2025-01-09T06:10:57.651733Z",
     "start_time": "2025-01-09T06:10:57.265032Z"
    }
   },
   "cell_type": "code",
   "source": "series.plot()",
   "id": "412c589d9ed606f9",
   "outputs": [
    {
     "data": {
      "text/plain": [
       "<Axes: >"
      ]
     },
     "execution_count": 51,
     "metadata": {},
     "output_type": "execute_result"
    },
    {
     "data": {
      "text/plain": [
       "<Figure size 640x480 with 1 Axes>"
      ],
      "image/png": "[encoded data removed]"
     },
     "metadata": {},
     "output_type": "display_data"
    }
   ],
   "execution_count": 51
  },
  {
   "metadata": {
    "ExecuteTime": {
     "end_time": "2025-01-09T06:10:57.730614Z",
     "start_time": "2025-01-09T06:10:57.725682Z"
    }
   },
   "cell_type": "code",
   "source": [
    "df6 = pd.DataFrame({'a': [3, 4, 5, 6, 7],\n",
    "                    'b': [4, 8, 99, 7, 8]})\n",
    "df6"
   ],
   "id": "f61afeaf21e1c33b",
   "outputs": [
    {
     "data": {
      "text/plain": [
       "   a   b\n",
       "0  3   4\n",
       "1  4   8\n",
       "2  5  99\n",
       "3  6   7\n",
       "4  7   8"
      ],
      "text/html": [
       "<div>\n",
       "<style scoped>\n",
       "    .dataframe tbody tr th:only-of-type {\n",
       "        vertical-align: middle;\n",
       "    }\n",
       "\n",
       "    .dataframe tbody tr th {\n",
       "        vertical-align: top;\n",
       "    }\n",
       "\n",
       "    .dataframe thead th {\n",
       "        text-align: right;\n",
       "    }\n",
       "</style>\n",
       "<table border=\"1\" class=\"dataframe\">\n",
       "  <thead>\n",
       "    <tr style=\"text-align: right;\">\n",
       "      <th></th>\n",
       "      <th>a</th>\n",
       "      <th>b</th>\n",
       "    </tr>\n",
       "  </thead>\n",
       "  <tbody>\n",
       "    <tr>\n",
       "      <th>0</th>\n",
       "      <td>3</td>\n",
       "      <td>4</td>\n",
       "    </tr>\n",
       "    <tr>\n",
       "      <th>1</th>\n",
       "      <td>4</td>\n",
       "      <td>8</td>\n",
       "    </tr>\n",
       "    <tr>\n",
       "      <th>2</th>\n",
       "      <td>5</td>\n",
       "      <td>99</td>\n",
       "    </tr>\n",
       "    <tr>\n",
       "      <th>3</th>\n",
       "      <td>6</td>\n",
       "      <td>7</td>\n",
       "    </tr>\n",
       "    <tr>\n",
       "      <th>4</th>\n",
       "      <td>7</td>\n",
       "      <td>8</td>\n",
       "    </tr>\n",
       "  </tbody>\n",
       "</table>\n",
       "</div>"
      ]
     },
     "execution_count": 52,
     "metadata": {},
     "output_type": "execute_result"
    }
   ],
   "execution_count": 52
  },
  {
   "metadata": {
    "ExecuteTime": {
     "end_time": "2025-01-09T06:10:57.858430Z",
     "start_time": "2025-01-09T06:10:57.776830Z"
    }
   },
   "cell_type": "code",
   "source": "df6.plot(x='a',y='b')",
   "id": "fb512860f2844ec4",
   "outputs": [
    {
     "data": {
      "text/plain": [
       "<Axes: xlabel='a'>"
      ]
     },
     "execution_count": 53,
     "metadata": {},
     "output_type": "execute_result"
    },
    {
     "data": {
      "text/plain": [
       "<Figure size 640x480 with 1 Axes>"
      ],
      "image/png": "[encoded data removed]"
     },
     "metadata": {},
     "output_type": "display_data"
    }
   ],
   "execution_count": 53
  },
  {
   "metadata": {
    "ExecuteTime": {
     "end_time": "2025-01-09T06:10:58.116649Z",
     "start_time": "2025-01-09T06:10:58.049054Z"
    }
   },
   "cell_type": "code",
   "source": "df6.plot.scatter(x='a',y='b',c = 'r')  # Colour = 'red'",
   "id": "34c496ba66a30eda",
   "outputs": [
    {
     "data": {
      "text/plain": [
       "<Axes: xlabel='a', ylabel='b'>"
      ]
     },
     "execution_count": 54,
     "metadata": {},
     "output_type": "execute_result"
    },
    {
     "data": {
      "text/plain": [
       "<Figure size 640x480 with 1 Axes>"
      ],
      "image/png": "[encoded data removed]"
     },
     "metadata": {},
     "output_type": "display_data"
    }
   ],
   "execution_count": 54
  },
  {
   "metadata": {
    "ExecuteTime": {
     "end_time": "2025-01-09T06:10:58.177768Z",
     "start_time": "2025-01-09T06:10:58.137698Z"
    }
   },
   "cell_type": "code",
   "source": [
    "d = pd.Series([1,1,2,2,2,2,2,3,4,5,5,6,6])\n",
    "d.plot.pie(), d"
   ],
   "id": "c1f2e16840551689",
   "outputs": [
    {
     "data": {
      "text/plain": [
       "(<Axes: >,\n",
       " 0     1\n",
       " 1     1\n",
       " 2     2\n",
       " 3     2\n",
       " 4     2\n",
       " 5     2\n",
       " 6     2\n",
       " 7     3\n",
       " 8     4\n",
       " 9     5\n",
       " 10    5\n",
       " 11    6\n",
       " 12    6\n",
       " dtype: int64)"
      ]
     },
     "execution_count": 55,
     "metadata": {},
     "output_type": "execute_result"
    },
    {
     "data": {
      "text/plain": [
       "<Figure size 640x480 with 1 Axes>"
      ],
      "image/png": "[encoded data removed]"
     },
     "metadata": {},
     "output_type": "display_data"
    }
   ],
   "execution_count": 55
  },
  {
   "metadata": {
    "ExecuteTime": {
     "end_time": "2025-01-09T06:10:58.225222Z",
     "start_time": "2025-01-09T06:10:58.223343Z"
    }
   },
   "cell_type": "code",
   "source": "",
   "id": "c7b88192d00f7a3a",
   "outputs": [],
   "execution_count": null
  }
 ],
 "metadata": {
  "kernelspec": {
   "display_name": "Python 3",
   "language": "python",
   "name": "python3"
  },
  "language_info": {
   "codemirror_mode": {
    "name": "ipython",
    "version": 2
   },
   "file_extension": ".py",
   "mimetype": "text/x-python",
   "name": "python",
   "nbconvert_exporter": "python",
   "pygments_lexer": "ipython2",
   "version": "2.7.6"
  }
 },
 "nbformat": 4,
 "nbformat_minor": 5
}
