{
 "cells": [
  {
   "metadata": {},
   "cell_type": "markdown",
   "source": [
    "# Assignment 02:\n",
    "- 1. Load the Titanic dataset (available in seaborn) into a pandas DataFrame\n",
    "- 2. Find the average age of passengers for each class (1st, 2nd, and 3rd).\n",
    "- 3. Create a new DataFrame that contains the count of male and female passengers in each age group (e.g., 0-10, 11-20, etc.).\n",
    "- 4. Find the name and ticket number of the passenger(s) who paid the highest fare and survived the disaster.\n",
    "- 5. Calculate the survival rate for passengers who were traveling alone (without any siblings, spouses, parents, or children) versus those who were traveling with family members.\n",
    "- 6. For each passenger, calculate the age difference with the oldest sibling (if any) and the age difference with the youngest sibling (if any).\n",
    "- 7. Find the most common deck letter (A, B, C, etc.) for each passenger class.\n",
    "- 8. Group the Titanic DataFrame by 'Embarked' (port of embarkation) and find the percentage of passengers who survived in each group.\n",
    "- 9. Calculate the correlation matrix for the 'Age', 'Fare', and 'Survived' columns in the Titanic dataset and find the feature with the highest absolute correlation with 'Survived'.\n",
    "- 10. Create a new DataFrame that contains the 'Pclass', 'Sex', 'Age', and 'Fare' columns from the Titanic dataset and pivot it to have 'Pclass' as the index, 'Sex' as the columns, and 'Fare' as the values, with 'Age' as the weights.\n"
   ],
   "id": "542c03b661de0261"
  },
  {
   "metadata": {},
   "cell_type": "code",
   "outputs": [],
   "execution_count": null,
   "source": "",
   "id": "1a848e17d03492f1"
  }
 ],
 "metadata": {
  "kernelspec": {
   "display_name": "Python 3",
   "language": "python",
   "name": "python3"
  },
  "language_info": {
   "codemirror_mode": {
    "name": "ipython",
    "version": 2
   },
   "file_extension": ".py",
   "mimetype": "text/x-python",
   "name": "python",
   "nbconvert_exporter": "python",
   "pygments_lexer": "ipython2",
   "version": "2.7.6"
  }
 },
 "nbformat": 4,
 "nbformat_minor": 5
}
