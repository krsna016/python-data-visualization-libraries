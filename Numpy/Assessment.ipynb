{
 "cells": [
  {
   "metadata": {
    "ExecuteTime": {
     "end_time": "2025-01-11T03:07:21.160189Z",
     "start_time": "2025-01-11T03:07:21.154165Z"
    }
   },
   "cell_type": "code",
   "source": [
    "import numpy as np\n",
    "\n",
    "list_ = ['1', '2', '3', '4', '5']\n",
    "array_list = np.array(object=list_)\n",
    "array_list"
   ],
   "id": "cdc51f2845d05cb",
   "outputs": [
    {
     "data": {
      "text/plain": [
       "array(['1', '2', '3', '4', '5'], dtype='<U1')"
      ]
     },
     "execution_count": 7,
     "metadata": {},
     "output_type": "execute_result"
    }
   ],
   "execution_count": 7
  },
  {
   "metadata": {
    "ExecuteTime": {
     "end_time": "2025-01-11T03:04:52.695392Z",
     "start_time": "2025-01-11T03:04:52.691527Z"
    }
   },
   "cell_type": "code",
   "source": [
    "# Q1. Is there any difference in the data type of variables list_ and array_list?\n",
    "print(f\"Data type of list_: {type(list_)}\")  # Type of list_\n",
    "print(f\"Data type of array_list: {type(array_list)}\")  # Type of array_list"
   ],
   "id": "af6b3138303b6b22",
   "outputs": [
    {
     "name": "stdout",
     "output_type": "stream",
     "text": [
      "Data type of list_: <class 'list'>\n",
      "Data type of array_list: <class 'numpy.ndarray'>\n"
     ]
    }
   ],
   "execution_count": 4
  },
  {
   "metadata": {
    "ExecuteTime": {
     "end_time": "2025-01-11T03:05:21.105145Z",
     "start_time": "2025-01-11T03:05:21.100021Z"
    }
   },
   "cell_type": "code",
   "source": [
    "# Q2. Write a code to print the data type of each and every element of both the variables list_ and array_list?\n",
    "# Data types of elements in list_\n",
    "print(\"Data types of elements in list_:\")\n",
    "for element in list_:\n",
    "    print(type(element))\n",
    "\n",
    "# Data types of elements in array_list\n",
    "print(\"Data types of elements in array_list:\")\n",
    "for element in array_list:\n",
    "    print(type(element))"
   ],
   "id": "fb2151ab62882857",
   "outputs": [
    {
     "name": "stdout",
     "output_type": "stream",
     "text": [
      "Data types of elements in list_:\n",
      "<class 'str'>\n",
      "<class 'str'>\n",
      "<class 'str'>\n",
      "<class 'str'>\n",
      "<class 'str'>\n",
      "Data types of elements in array_list:\n",
      "<class 'numpy.str_'>\n",
      "<class 'numpy.str_'>\n",
      "<class 'numpy.str_'>\n",
      "<class 'numpy.str_'>\n",
      "<class 'numpy.str_'>\n"
     ]
    }
   ],
   "execution_count": 5
  },
  {
   "metadata": {
    "ExecuteTime": {
     "end_time": "2025-01-11T03:07:00.559886Z",
     "start_time": "2025-01-11T03:07:00.553020Z"
    }
   },
   "cell_type": "code",
   "source": [
    "# Q3. Considering the following changes in the variable array_list:\n",
    "array_list = np.array(object=list_, dtype=int)\n",
    "\n",
    "# Data types of elements in list_\n",
    "print(\"Data types of elements in list_:\")\n",
    "for element in list_:\n",
    "    print(type(element))\n",
    "\n",
    "# Data types of elements in array_list\n",
    "print(\"Data types of elements in array_list after dtype=int:\")\n",
    "for element in array_list:\n",
    "    print(type(element))\n"
   ],
   "id": "f4322953a7394b01",
   "outputs": [
    {
     "name": "stdout",
     "output_type": "stream",
     "text": [
      "Data types of elements in list_:\n",
      "<class 'str'>\n",
      "<class 'str'>\n",
      "<class 'str'>\n",
      "<class 'str'>\n",
      "<class 'str'>\n",
      "Data types of elements in array_list after dtype=int:\n",
      "<class 'numpy.int64'>\n",
      "<class 'numpy.int64'>\n",
      "<class 'numpy.int64'>\n",
      "<class 'numpy.int64'>\n",
      "<class 'numpy.int64'>\n"
     ]
    }
   ],
   "execution_count": 6
  },
  {
   "metadata": {
    "ExecuteTime": {
     "end_time": "2025-01-11T03:08:06.106876Z",
     "start_time": "2025-01-11T03:08:06.096882Z"
    }
   },
   "cell_type": "code",
   "source": [
    "import numpy as np\n",
    "num_list = [ [ 1 , 2 , 3 ] , [ 4 , 5 , 6 ] ]\n",
    "num_array = np.array(object = num_list)"
   ],
   "id": "6e3719e2900d9141",
   "outputs": [],
   "execution_count": 8
  },
  {
   "metadata": {
    "ExecuteTime": {
     "end_time": "2025-01-11T03:08:29.499811Z",
     "start_time": "2025-01-11T03:08:29.494154Z"
    }
   },
   "cell_type": "code",
   "source": [
    "# Q4. Characteristics of variable num_array:\n",
    "num_list = [[1, 2, 3], [4, 5, 6]]\n",
    "num_array = np.array(object=num_list)\n",
    "\n",
    "# Shape of num_array\n",
    "print(f\"Shape of num_array: {num_array.shape}\")\n",
    "\n",
    "# Size of num_array\n",
    "print(f\"Size of num_array: {num_array.size}\")\n"
   ],
   "id": "e6f8da5a69f0b466",
   "outputs": [
    {
     "name": "stdout",
     "output_type": "stream",
     "text": [
      "Shape of num_array: (2, 3)\n",
      "Size of num_array: 6\n"
     ]
    }
   ],
   "execution_count": 9
  },
  {
   "metadata": {
    "ExecuteTime": {
     "end_time": "2025-01-11T03:09:03.139679Z",
     "start_time": "2025-01-11T03:09:03.135340Z"
    }
   },
   "cell_type": "code",
   "source": [
    "# Q5. Create a 3×3 matrix containing zeros only:\n",
    "# Creating a 3x3 matrix of zeros\n",
    "zeros_matrix = np.zeros((3, 3))\n",
    "print(\"3x3 Matrix containing zeros:\")\n",
    "print(zeros_matrix)"
   ],
   "id": "8d9bea4ee9a8802e",
   "outputs": [
    {
     "name": "stdout",
     "output_type": "stream",
     "text": [
      "3x3 Matrix containing zeros:\n",
      "[[0. 0. 0.]\n",
      " [0. 0. 0.]\n",
      " [0. 0. 0.]]\n"
     ]
    }
   ],
   "execution_count": 10
  },
  {
   "metadata": {
    "ExecuteTime": {
     "end_time": "2025-01-11T03:15:39.168959Z",
     "start_time": "2025-01-11T03:15:39.158801Z"
    }
   },
   "cell_type": "code",
   "source": [
    "# Q6. Create an identity matrix of shape (5,5):\n",
    "# Creating a 5x5 identity matrix\n",
    "identity_matrix = np.eye(5)\n",
    "print(\"5x5 Identity Matrix:\")\n",
    "print(identity_matrix)\n"
   ],
   "id": "98dbaf6671ce4d7f",
   "outputs": [
    {
     "name": "stdout",
     "output_type": "stream",
     "text": [
      "5x5 Identity Matrix:\n",
      "[[1. 0. 0. 0. 0.]\n",
      " [0. 1. 0. 0. 0.]\n",
      " [0. 0. 1. 0. 0.]\n",
      " [0. 0. 0. 1. 0.]\n",
      " [0. 0. 0. 0. 1.]]\n"
     ]
    }
   ],
   "execution_count": 11
  },
  {
   "metadata": {},
   "cell_type": "code",
   "outputs": [],
   "execution_count": null,
   "source": "",
   "id": "60e0a0cfb832893"
  }
 ],
 "metadata": {
  "kernelspec": {
   "display_name": "Python 3",
   "language": "python",
   "name": "python3"
  },
  "language_info": {
   "codemirror_mode": {
    "name": "ipython",
    "version": 2
   },
   "file_extension": ".py",
   "mimetype": "text/x-python",
   "name": "python",
   "nbconvert_exporter": "python",
   "pygments_lexer": "ipython2",
   "version": "2.7.6"
  }
 },
 "nbformat": 4,
 "nbformat_minor": 5
}
