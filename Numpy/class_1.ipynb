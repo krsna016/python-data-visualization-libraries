{
 "cells": [
  {
   "cell_type": "code",
   "id": "initial_id",
   "metadata": {
    "collapsed": true,
    "ExecuteTime": {
     "end_time": "2025-01-04T11:53:00.619750Z",
     "start_time": "2025-01-04T11:53:00.611020Z"
    }
   },
   "source": "import numpy as np",
   "outputs": [],
   "execution_count": 3
  },
  {
   "metadata": {
    "ExecuteTime": {
     "end_time": "2025-01-04T11:54:17.571661Z",
     "start_time": "2025-01-04T11:54:17.553418Z"
    }
   },
   "cell_type": "code",
   "source": [
    "l = [1,2,3,4]\n",
    "arr = np.array(l)\n",
    "arr"
   ],
   "id": "ed64cf9c1c5d394",
   "outputs": [
    {
     "data": {
      "text/plain": [
       "array([1, 2, 3, 4])"
      ]
     },
     "execution_count": 4,
     "metadata": {},
     "output_type": "execute_result"
    }
   ],
   "execution_count": 4
  },
  {
   "metadata": {
    "ExecuteTime": {
     "end_time": "2025-01-04T11:54:52.181172Z",
     "start_time": "2025-01-04T11:54:52.172522Z"
    }
   },
   "cell_type": "code",
   "source": "type(arr)",
   "id": "20db6ae7db920c27",
   "outputs": [
    {
     "data": {
      "text/plain": [
       "numpy.ndarray"
      ]
     },
     "execution_count": 5,
     "metadata": {},
     "output_type": "execute_result"
    }
   ],
   "execution_count": 5
  },
  {
   "metadata": {
    "ExecuteTime": {
     "end_time": "2025-01-04T12:00:34.922720Z",
     "start_time": "2025-01-04T12:00:34.908072Z"
    }
   },
   "cell_type": "code",
   "source": [
    "arr1 = np.array([[1,2],[3,4]])\n",
    "arr1"
   ],
   "id": "59dddb9a6146121b",
   "outputs": [
    {
     "data": {
      "text/plain": [
       "array([[1, 2],\n",
       "       [3, 4]])"
      ]
     },
     "execution_count": 6,
     "metadata": {},
     "output_type": "execute_result"
    }
   ],
   "execution_count": 6
  },
  {
   "metadata": {
    "ExecuteTime": {
     "end_time": "2025-01-04T12:00:39.559169Z",
     "start_time": "2025-01-04T12:00:39.553715Z"
    }
   },
   "cell_type": "code",
   "source": "type(arr1)",
   "id": "586214d14d70f79d",
   "outputs": [
    {
     "data": {
      "text/plain": [
       "numpy.ndarray"
      ]
     },
     "execution_count": 7,
     "metadata": {},
     "output_type": "execute_result"
    }
   ],
   "execution_count": 7
  },
  {
   "metadata": {
    "ExecuteTime": {
     "end_time": "2025-01-04T12:06:33.365890Z",
     "start_time": "2025-01-04T12:06:33.358441Z"
    }
   },
   "cell_type": "code",
   "source": [
    "arr2 = np.asarray([1,2,4,5])\n",
    "arr2"
   ],
   "id": "283a83d58786b968",
   "outputs": [
    {
     "data": {
      "text/plain": [
       "array([1, 2, 4, 5])"
      ]
     },
     "execution_count": 9,
     "metadata": {},
     "output_type": "execute_result"
    }
   ],
   "execution_count": 9
  },
  {
   "metadata": {
    "ExecuteTime": {
     "end_time": "2025-01-04T12:06:41.115486Z",
     "start_time": "2025-01-04T12:06:41.111137Z"
    }
   },
   "cell_type": "code",
   "source": "type(arr2)",
   "id": "ff81b9f4b00c4925",
   "outputs": [
    {
     "data": {
      "text/plain": [
       "numpy.ndarray"
      ]
     },
     "execution_count": 10,
     "metadata": {},
     "output_type": "execute_result"
    }
   ],
   "execution_count": 10
  },
  {
   "metadata": {
    "ExecuteTime": {
     "end_time": "2025-01-04T12:07:12.013418Z",
     "start_time": "2025-01-04T12:07:12.005500Z"
    }
   },
   "cell_type": "code",
   "source": [
    "arr3 = np.asanyarray([1,2,3])\n",
    "arr3"
   ],
   "id": "df28c20ce9cf79c9",
   "outputs": [
    {
     "data": {
      "text/plain": [
       "array([1, 2, 3])"
      ]
     },
     "execution_count": 11,
     "metadata": {},
     "output_type": "execute_result"
    }
   ],
   "execution_count": 11
  },
  {
   "metadata": {
    "ExecuteTime": {
     "end_time": "2025-01-04T12:07:16.454901Z",
     "start_time": "2025-01-04T12:07:16.450795Z"
    }
   },
   "cell_type": "code",
   "source": "type(arr3)",
   "id": "f0d3013cbcf89198",
   "outputs": [
    {
     "data": {
      "text/plain": [
       "numpy.ndarray"
      ]
     },
     "execution_count": 12,
     "metadata": {},
     "output_type": "execute_result"
    }
   ],
   "execution_count": 12
  },
  {
   "metadata": {
    "ExecuteTime": {
     "end_time": "2025-01-04T12:07:48.021979Z",
     "start_time": "2025-01-04T12:07:48.014460Z"
    }
   },
   "cell_type": "code",
   "source": [
    "arr4 = np.matrix([2,3,4,5])\n",
    "arr4"
   ],
   "id": "e7c3ccaf3a8d6c62",
   "outputs": [
    {
     "data": {
      "text/plain": [
       "matrix([[2, 3, 4, 5]])"
      ]
     },
     "execution_count": 13,
     "metadata": {},
     "output_type": "execute_result"
    }
   ],
   "execution_count": 13
  },
  {
   "metadata": {
    "ExecuteTime": {
     "end_time": "2025-01-04T12:07:54.664263Z",
     "start_time": "2025-01-04T12:07:54.656843Z"
    }
   },
   "cell_type": "code",
   "source": "type(arr4)",
   "id": "6868396f3a101d1a",
   "outputs": [
    {
     "data": {
      "text/plain": [
       "numpy.matrix"
      ]
     },
     "execution_count": 14,
     "metadata": {},
     "output_type": "execute_result"
    }
   ],
   "execution_count": 14
  },
  {
   "metadata": {},
   "cell_type": "code",
   "outputs": [],
   "execution_count": null,
   "source": "",
   "id": "12f28cf67de8e372"
  }
 ],
 "metadata": {
  "kernelspec": {
   "display_name": "Python 3",
   "language": "python",
   "name": "python3"
  },
  "language_info": {
   "codemirror_mode": {
    "name": "ipython",
    "version": 2
   },
   "file_extension": ".py",
   "mimetype": "text/x-python",
   "name": "python",
   "nbconvert_exporter": "python",
   "pygments_lexer": "ipython2",
   "version": "2.7.6"
  }
 },
 "nbformat": 4,
 "nbformat_minor": 5
}
