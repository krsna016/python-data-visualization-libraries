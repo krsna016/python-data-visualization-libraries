{
 "cells": [
  {
   "cell_type": "code",
   "id": "initial_id",
   "metadata": {
    "collapsed": true,
    "ExecuteTime": {
     "end_time": "2025-01-11T00:58:57.161341Z",
     "start_time": "2025-01-11T00:58:57.157947Z"
    }
   },
   "source": [
    "from random import random\n",
    "\n",
    "import numpy as np\n",
    "import pandas as pd"
   ],
   "outputs": [],
   "execution_count": 150
  },
  {
   "metadata": {
    "ExecuteTime": {
     "end_time": "2025-01-11T00:58:57.186054Z",
     "start_time": "2025-01-11T00:58:57.182873Z"
    }
   },
   "cell_type": "code",
   "source": [
    "l = [1,2,3,4]\n",
    "arr = np.array(l) # It is by default 1D\n",
    "arr"
   ],
   "id": "ed64cf9c1c5d394",
   "outputs": [
    {
     "data": {
      "text/plain": [
       "array([1, 2, 3, 4])"
      ]
     },
     "execution_count": 151,
     "metadata": {},
     "output_type": "execute_result"
    }
   ],
   "execution_count": 151
  },
  {
   "metadata": {
    "ExecuteTime": {
     "end_time": "2025-01-11T00:58:57.208197Z",
     "start_time": "2025-01-11T00:58:57.205787Z"
    }
   },
   "cell_type": "code",
   "source": "type(arr)",
   "id": "20db6ae7db920c27",
   "outputs": [
    {
     "data": {
      "text/plain": [
       "numpy.ndarray"
      ]
     },
     "execution_count": 152,
     "metadata": {},
     "output_type": "execute_result"
    }
   ],
   "execution_count": 152
  },
  {
   "metadata": {
    "ExecuteTime": {
     "end_time": "2025-01-11T00:58:57.237829Z",
     "start_time": "2025-01-11T00:58:57.235369Z"
    }
   },
   "cell_type": "code",
   "source": [
    "arr1 = np.array([[1,2],[3,4]])\n",
    "arr1"
   ],
   "id": "59dddb9a6146121b",
   "outputs": [
    {
     "data": {
      "text/plain": [
       "array([[1, 2],\n",
       "       [3, 4]])"
      ]
     },
     "execution_count": 153,
     "metadata": {},
     "output_type": "execute_result"
    }
   ],
   "execution_count": 153
  },
  {
   "metadata": {
    "ExecuteTime": {
     "end_time": "2025-01-11T00:58:57.278378Z",
     "start_time": "2025-01-11T00:58:57.275714Z"
    }
   },
   "cell_type": "code",
   "source": "type(arr1)",
   "id": "586214d14d70f79d",
   "outputs": [
    {
     "data": {
      "text/plain": [
       "numpy.ndarray"
      ]
     },
     "execution_count": 154,
     "metadata": {},
     "output_type": "execute_result"
    }
   ],
   "execution_count": 154
  },
  {
   "metadata": {
    "ExecuteTime": {
     "end_time": "2025-01-11T00:58:57.310156Z",
     "start_time": "2025-01-11T00:58:57.306345Z"
    }
   },
   "cell_type": "code",
   "source": [
    "arr2 = np.asarray([1,2,4,5])\n",
    "arr2"
   ],
   "id": "283a83d58786b968",
   "outputs": [
    {
     "data": {
      "text/plain": [
       "array([1, 2, 4, 5])"
      ]
     },
     "execution_count": 155,
     "metadata": {},
     "output_type": "execute_result"
    }
   ],
   "execution_count": 155
  },
  {
   "metadata": {
    "ExecuteTime": {
     "end_time": "2025-01-11T00:58:57.345188Z",
     "start_time": "2025-01-11T00:58:57.342483Z"
    }
   },
   "cell_type": "code",
   "source": "type(arr2)",
   "id": "ff81b9f4b00c4925",
   "outputs": [
    {
     "data": {
      "text/plain": [
       "numpy.ndarray"
      ]
     },
     "execution_count": 156,
     "metadata": {},
     "output_type": "execute_result"
    }
   ],
   "execution_count": 156
  },
  {
   "metadata": {
    "ExecuteTime": {
     "end_time": "2025-01-11T00:58:57.373589Z",
     "start_time": "2025-01-11T00:58:57.370833Z"
    }
   },
   "cell_type": "code",
   "source": [
    "arr3 = np.asanyarray([1,2,3])\n",
    "arr3"
   ],
   "id": "df28c20ce9cf79c9",
   "outputs": [
    {
     "data": {
      "text/plain": [
       "array([1, 2, 3])"
      ]
     },
     "execution_count": 157,
     "metadata": {},
     "output_type": "execute_result"
    }
   ],
   "execution_count": 157
  },
  {
   "metadata": {
    "ExecuteTime": {
     "end_time": "2025-01-11T00:58:57.395287Z",
     "start_time": "2025-01-11T00:58:57.392923Z"
    }
   },
   "cell_type": "code",
   "source": "type(arr3)",
   "id": "f0d3013cbcf89198",
   "outputs": [
    {
     "data": {
      "text/plain": [
       "numpy.ndarray"
      ]
     },
     "execution_count": 158,
     "metadata": {},
     "output_type": "execute_result"
    }
   ],
   "execution_count": 158
  },
  {
   "metadata": {
    "ExecuteTime": {
     "end_time": "2025-01-11T00:58:57.413138Z",
     "start_time": "2025-01-11T00:58:57.410381Z"
    }
   },
   "cell_type": "code",
   "source": [
    "arr4 = np.matrix([2,3,4,5]) # It is by default 2D, it is subclass of array\n",
    "arr4"
   ],
   "id": "e7c3ccaf3a8d6c62",
   "outputs": [
    {
     "data": {
      "text/plain": [
       "matrix([[2, 3, 4, 5]])"
      ]
     },
     "execution_count": 159,
     "metadata": {},
     "output_type": "execute_result"
    }
   ],
   "execution_count": 159
  },
  {
   "metadata": {
    "ExecuteTime": {
     "end_time": "2025-01-11T00:58:57.432413Z",
     "start_time": "2025-01-11T00:58:57.430333Z"
    }
   },
   "cell_type": "code",
   "source": "type(arr4)",
   "id": "6868396f3a101d1a",
   "outputs": [
    {
     "data": {
      "text/plain": [
       "numpy.matrix"
      ]
     },
     "execution_count": 160,
     "metadata": {},
     "output_type": "execute_result"
    }
   ],
   "execution_count": 160
  },
  {
   "metadata": {
    "ExecuteTime": {
     "end_time": "2025-01-11T00:58:57.456708Z",
     "start_time": "2025-01-11T00:58:57.453878Z"
    }
   },
   "cell_type": "code",
   "source": [
    "a1 = np.array([1,2,3])\n",
    "a1"
   ],
   "id": "36bd5e486c993b9d",
   "outputs": [
    {
     "data": {
      "text/plain": [
       "array([1, 2, 3])"
      ]
     },
     "execution_count": 161,
     "metadata": {},
     "output_type": "execute_result"
    }
   ],
   "execution_count": 161
  },
  {
   "metadata": {
    "ExecuteTime": {
     "end_time": "2025-01-11T00:58:57.482145Z",
     "start_time": "2025-01-11T00:58:57.479279Z"
    }
   },
   "cell_type": "code",
   "source": [
    "m1 = np.matrix([1,2,3])\n",
    "m1"
   ],
   "id": "12f28cf67de8e372",
   "outputs": [
    {
     "data": {
      "text/plain": [
       "matrix([[1, 2, 3]])"
      ]
     },
     "execution_count": 162,
     "metadata": {},
     "output_type": "execute_result"
    }
   ],
   "execution_count": 162
  },
  {
   "metadata": {
    "ExecuteTime": {
     "end_time": "2025-01-11T00:58:57.504782Z",
     "start_time": "2025-01-11T00:58:57.501836Z"
    }
   },
   "cell_type": "code",
   "source": [
    "l1 = [1,2,3]\n",
    "l1"
   ],
   "id": "f7784d615300863",
   "outputs": [
    {
     "data": {
      "text/plain": [
       "[1, 2, 3]"
      ]
     },
     "execution_count": 163,
     "metadata": {},
     "output_type": "execute_result"
    }
   ],
   "execution_count": 163
  },
  {
   "metadata": {
    "ExecuteTime": {
     "end_time": "2025-01-11T00:58:57.530010Z",
     "start_time": "2025-01-11T00:58:57.527055Z"
    }
   },
   "cell_type": "code",
   "source": "np.asanyarray(a1) # Not convert the input when it's already a subclass",
   "id": "61009270197897ac",
   "outputs": [
    {
     "data": {
      "text/plain": [
       "array([1, 2, 3])"
      ]
     },
     "execution_count": 164,
     "metadata": {},
     "output_type": "execute_result"
    }
   ],
   "execution_count": 164
  },
  {
   "metadata": {
    "ExecuteTime": {
     "end_time": "2025-01-11T00:58:57.554745Z",
     "start_time": "2025-01-11T00:58:57.552348Z"
    }
   },
   "cell_type": "code",
   "source": "np.asanyarray(m1) # Not convert the input when it's already a subclass",
   "id": "8ffd3361de7794e4",
   "outputs": [
    {
     "data": {
      "text/plain": [
       "matrix([[1, 2, 3]])"
      ]
     },
     "execution_count": 165,
     "metadata": {},
     "output_type": "execute_result"
    }
   ],
   "execution_count": 165
  },
  {
   "metadata": {
    "ExecuteTime": {
     "end_time": "2025-01-11T00:58:57.577858Z",
     "start_time": "2025-01-11T00:58:57.575094Z"
    }
   },
   "cell_type": "code",
   "source": "np.asanyarray(l1) # Not convert the input when it's already a subclass",
   "id": "7953845f3065e1a3",
   "outputs": [
    {
     "data": {
      "text/plain": [
       "array([1, 2, 3])"
      ]
     },
     "execution_count": 166,
     "metadata": {},
     "output_type": "execute_result"
    }
   ],
   "execution_count": 166
  },
  {
   "metadata": {
    "ExecuteTime": {
     "end_time": "2025-01-11T00:58:57.602380Z",
     "start_time": "2025-01-11T00:58:57.600140Z"
    }
   },
   "cell_type": "code",
   "source": "np.asarray(a1) # Not convert the input when it's already an array",
   "id": "94c1838128c8c225",
   "outputs": [
    {
     "data": {
      "text/plain": [
       "array([1, 2, 3])"
      ]
     },
     "execution_count": 167,
     "metadata": {},
     "output_type": "execute_result"
    }
   ],
   "execution_count": 167
  },
  {
   "metadata": {
    "ExecuteTime": {
     "end_time": "2025-01-11T00:58:57.626438Z",
     "start_time": "2025-01-11T00:58:57.623926Z"
    }
   },
   "cell_type": "code",
   "source": "np.asarray(a1) # Not convert the input when it's already an array",
   "id": "38ea29b5e73e5b40",
   "outputs": [
    {
     "data": {
      "text/plain": [
       "array([1, 2, 3])"
      ]
     },
     "execution_count": 168,
     "metadata": {},
     "output_type": "execute_result"
    }
   ],
   "execution_count": 168
  },
  {
   "metadata": {
    "ExecuteTime": {
     "end_time": "2025-01-11T00:58:57.651270Z",
     "start_time": "2025-01-11T00:58:57.647691Z"
    }
   },
   "cell_type": "code",
   "source": "np.asarray(l1) # Not convert the input when it's already an array",
   "id": "e40364a29016b0d1",
   "outputs": [
    {
     "data": {
      "text/plain": [
       "array([1, 2, 3])"
      ]
     },
     "execution_count": 169,
     "metadata": {},
     "output_type": "execute_result"
    }
   ],
   "execution_count": 169
  },
  {
   "metadata": {
    "ExecuteTime": {
     "end_time": "2025-01-11T00:58:57.672018Z",
     "start_time": "2025-01-11T00:58:57.669917Z"
    }
   },
   "cell_type": "code",
   "source": "np.array(a1) # Will convert into array",
   "id": "5ad3d1d0837e5f91",
   "outputs": [
    {
     "data": {
      "text/plain": [
       "array([1, 2, 3])"
      ]
     },
     "execution_count": 170,
     "metadata": {},
     "output_type": "execute_result"
    }
   ],
   "execution_count": 170
  },
  {
   "metadata": {
    "ExecuteTime": {
     "end_time": "2025-01-11T00:58:57.683970Z",
     "start_time": "2025-01-11T00:58:57.681820Z"
    }
   },
   "cell_type": "code",
   "source": "type(np.array(m1)) # Will convert into array",
   "id": "d854d029f97c0f7c",
   "outputs": [
    {
     "data": {
      "text/plain": [
       "numpy.ndarray"
      ]
     },
     "execution_count": 171,
     "metadata": {},
     "output_type": "execute_result"
    }
   ],
   "execution_count": 171
  },
  {
   "metadata": {
    "ExecuteTime": {
     "end_time": "2025-01-11T00:58:57.702582Z",
     "start_time": "2025-01-11T00:58:57.700268Z"
    }
   },
   "cell_type": "code",
   "source": "np.array(l1) # Will convert into array",
   "id": "f2a6336e31e26c4d",
   "outputs": [
    {
     "data": {
      "text/plain": [
       "array([1, 2, 3])"
      ]
     },
     "execution_count": 172,
     "metadata": {},
     "output_type": "execute_result"
    }
   ],
   "execution_count": 172
  },
  {
   "metadata": {
    "ExecuteTime": {
     "end_time": "2025-01-11T00:58:57.724629Z",
     "start_time": "2025-01-11T00:58:57.722266Z"
    }
   },
   "cell_type": "code",
   "source": [
    "# Shallow copy\n",
    "a = [1,2,4]\n",
    "b = a\n",
    "a[0] = 2\n",
    "b"
   ],
   "id": "2acdf8ffc10cd610",
   "outputs": [
    {
     "data": {
      "text/plain": [
       "[2, 2, 4]"
      ]
     },
     "execution_count": 173,
     "metadata": {},
     "output_type": "execute_result"
    }
   ],
   "execution_count": 173
  },
  {
   "metadata": {
    "ExecuteTime": {
     "end_time": "2025-01-11T00:58:57.749518Z",
     "start_time": "2025-01-11T00:58:57.747107Z"
    }
   },
   "cell_type": "code",
   "source": [
    "# Deep copy\n",
    "a = [1,2,3]\n",
    "b = np.copy(a)\n",
    "a[0] = 2\n",
    "b"
   ],
   "id": "e146e33c7814eea0",
   "outputs": [
    {
     "data": {
      "text/plain": [
       "array([1, 2, 3])"
      ]
     },
     "execution_count": 174,
     "metadata": {},
     "output_type": "execute_result"
    }
   ],
   "execution_count": 174
  },
  {
   "metadata": {
    "ExecuteTime": {
     "end_time": "2025-01-11T00:58:57.771357Z",
     "start_time": "2025-01-11T00:58:57.768930Z"
    }
   },
   "cell_type": "code",
   "source": [
    "# X and Y are rows and column resp.\n",
    "np.fromfunction(lambda x, y: x==y, (3,3))"
   ],
   "id": "5994202cc2bc02f4",
   "outputs": [
    {
     "data": {
      "text/plain": [
       "array([[ True, False, False],\n",
       "       [False,  True, False],\n",
       "       [False, False,  True]])"
      ]
     },
     "execution_count": 175,
     "metadata": {},
     "output_type": "execute_result"
    }
   ],
   "execution_count": 175
  },
  {
   "metadata": {
    "ExecuteTime": {
     "end_time": "2025-01-11T00:58:57.804794Z",
     "start_time": "2025-01-11T00:58:57.802138Z"
    }
   },
   "cell_type": "code",
   "source": "np.fromfunction(lambda x, y: x*y, (3,3))",
   "id": "e71c60ca15dbf657",
   "outputs": [
    {
     "data": {
      "text/plain": [
       "array([[0., 0., 0.],\n",
       "       [0., 1., 2.],\n",
       "       [0., 2., 4.]])"
      ]
     },
     "execution_count": 176,
     "metadata": {},
     "output_type": "execute_result"
    }
   ],
   "execution_count": 176
  },
  {
   "metadata": {
    "ExecuteTime": {
     "end_time": "2025-01-11T00:58:57.860963Z",
     "start_time": "2025-01-11T00:58:57.857866Z"
    }
   },
   "cell_type": "code",
   "source": [
    "iterable = (i*i for i in range(5))\n",
    "np.fromiter(iterable, int)"
   ],
   "id": "2d8a3e0a98651e2e",
   "outputs": [
    {
     "data": {
      "text/plain": [
       "array([ 0,  1,  4,  9, 16])"
      ]
     },
     "execution_count": 177,
     "metadata": {},
     "output_type": "execute_result"
    }
   ],
   "execution_count": 177
  },
  {
   "metadata": {
    "ExecuteTime": {
     "end_time": "2025-01-11T00:58:57.896419Z",
     "start_time": "2025-01-11T00:58:57.894297Z"
    }
   },
   "cell_type": "code",
   "source": "np.fromstring('1 2 3 4 5',sep=\" \", dtype=int)",
   "id": "7f97e7811d5f4667",
   "outputs": [
    {
     "data": {
      "text/plain": [
       "array([1, 2, 3, 4, 5])"
      ]
     },
     "execution_count": 178,
     "metadata": {},
     "output_type": "execute_result"
    }
   ],
   "execution_count": 178
  },
  {
   "metadata": {
    "ExecuteTime": {
     "end_time": "2025-01-11T00:58:57.931037Z",
     "start_time": "2025-01-11T00:58:57.929139Z"
    }
   },
   "cell_type": "code",
   "source": [
    "a2 = np.array([2,3,4,5,6])\n",
    "a3 = np.array([[2,3,4,5,6],[1,2,3,9,8]])"
   ],
   "id": "aa8a257b723c24e7",
   "outputs": [],
   "execution_count": 179
  },
  {
   "metadata": {
    "ExecuteTime": {
     "end_time": "2025-01-11T00:58:57.949516Z",
     "start_time": "2025-01-11T00:58:57.947035Z"
    }
   },
   "cell_type": "code",
   "source": "a2",
   "id": "3e1181eaf1111860",
   "outputs": [
    {
     "data": {
      "text/plain": [
       "array([2, 3, 4, 5, 6])"
      ]
     },
     "execution_count": 180,
     "metadata": {},
     "output_type": "execute_result"
    }
   ],
   "execution_count": 180
  },
  {
   "metadata": {
    "ExecuteTime": {
     "end_time": "2025-01-11T00:58:57.971064Z",
     "start_time": "2025-01-11T00:58:57.968663Z"
    }
   },
   "cell_type": "code",
   "source": "a3",
   "id": "61bae8b42cff403c",
   "outputs": [
    {
     "data": {
      "text/plain": [
       "array([[2, 3, 4, 5, 6],\n",
       "       [1, 2, 3, 9, 8]])"
      ]
     },
     "execution_count": 181,
     "metadata": {},
     "output_type": "execute_result"
    }
   ],
   "execution_count": 181
  },
  {
   "metadata": {
    "ExecuteTime": {
     "end_time": "2025-01-11T00:58:58.003593Z",
     "start_time": "2025-01-11T00:58:58.001115Z"
    }
   },
   "cell_type": "code",
   "source": "a2.ndim",
   "id": "5186b5af86354292",
   "outputs": [
    {
     "data": {
      "text/plain": [
       "1"
      ]
     },
     "execution_count": 182,
     "metadata": {},
     "output_type": "execute_result"
    }
   ],
   "execution_count": 182
  },
  {
   "metadata": {
    "ExecuteTime": {
     "end_time": "2025-01-11T00:58:58.033644Z",
     "start_time": "2025-01-11T00:58:58.031439Z"
    }
   },
   "cell_type": "code",
   "source": "a3.ndim",
   "id": "1649ca221989b4b2",
   "outputs": [
    {
     "data": {
      "text/plain": [
       "2"
      ]
     },
     "execution_count": 183,
     "metadata": {},
     "output_type": "execute_result"
    }
   ],
   "execution_count": 183
  },
  {
   "metadata": {
    "ExecuteTime": {
     "end_time": "2025-01-11T00:58:58.053424Z",
     "start_time": "2025-01-11T00:58:58.051501Z"
    }
   },
   "cell_type": "code",
   "source": "a2.size",
   "id": "f234d555da74d735",
   "outputs": [
    {
     "data": {
      "text/plain": [
       "5"
      ]
     },
     "execution_count": 184,
     "metadata": {},
     "output_type": "execute_result"
    }
   ],
   "execution_count": 184
  },
  {
   "metadata": {
    "ExecuteTime": {
     "end_time": "2025-01-11T00:58:58.079458Z",
     "start_time": "2025-01-11T00:58:58.076912Z"
    }
   },
   "cell_type": "code",
   "source": "a3.size",
   "id": "b9b7dbd1b236a7b1",
   "outputs": [
    {
     "data": {
      "text/plain": [
       "10"
      ]
     },
     "execution_count": 185,
     "metadata": {},
     "output_type": "execute_result"
    }
   ],
   "execution_count": 185
  },
  {
   "metadata": {
    "ExecuteTime": {
     "end_time": "2025-01-11T00:58:58.102375Z",
     "start_time": "2025-01-11T00:58:58.100119Z"
    }
   },
   "cell_type": "code",
   "source": "a2.shape",
   "id": "3fdd9388edd62b64",
   "outputs": [
    {
     "data": {
      "text/plain": [
       "(5,)"
      ]
     },
     "execution_count": 186,
     "metadata": {},
     "output_type": "execute_result"
    }
   ],
   "execution_count": 186
  },
  {
   "metadata": {
    "ExecuteTime": {
     "end_time": "2025-01-11T00:58:58.126916Z",
     "start_time": "2025-01-11T00:58:58.124536Z"
    }
   },
   "cell_type": "code",
   "source": "a3.shape",
   "id": "2b4b6ad404b46ccd",
   "outputs": [
    {
     "data": {
      "text/plain": [
       "(2, 5)"
      ]
     },
     "execution_count": 187,
     "metadata": {},
     "output_type": "execute_result"
    }
   ],
   "execution_count": 187
  },
  {
   "metadata": {
    "ExecuteTime": {
     "end_time": "2025-01-11T00:58:58.154387Z",
     "start_time": "2025-01-11T00:58:58.151167Z"
    }
   },
   "cell_type": "code",
   "source": "a2.dtype",
   "id": "c852d817ced598be",
   "outputs": [
    {
     "data": {
      "text/plain": [
       "dtype('int64')"
      ]
     },
     "execution_count": 188,
     "metadata": {},
     "output_type": "execute_result"
    }
   ],
   "execution_count": 188
  },
  {
   "metadata": {
    "ExecuteTime": {
     "end_time": "2025-01-11T00:58:58.172336Z",
     "start_time": "2025-01-11T00:58:58.169863Z"
    }
   },
   "cell_type": "code",
   "source": "a3.dtype",
   "id": "8a433e586d1a8c49",
   "outputs": [
    {
     "data": {
      "text/plain": [
       "dtype('int64')"
      ]
     },
     "execution_count": 189,
     "metadata": {},
     "output_type": "execute_result"
    }
   ],
   "execution_count": 189
  },
  {
   "metadata": {
    "ExecuteTime": {
     "end_time": "2025-01-11T00:58:58.194698Z",
     "start_time": "2025-01-11T00:58:58.191721Z"
    }
   },
   "cell_type": "code",
   "source": [
    "a4 = np.array((1.0,4,6,9,3,7))\n",
    "a4"
   ],
   "id": "b2ee248d0d7af576",
   "outputs": [
    {
     "data": {
      "text/plain": [
       "array([1., 4., 6., 9., 3., 7.])"
      ]
     },
     "execution_count": 190,
     "metadata": {},
     "output_type": "execute_result"
    }
   ],
   "execution_count": 190
  },
  {
   "metadata": {
    "ExecuteTime": {
     "end_time": "2025-01-11T00:58:58.210232Z",
     "start_time": "2025-01-11T00:58:58.207323Z"
    }
   },
   "cell_type": "code",
   "source": "a4.dtype",
   "id": "2df83ce8f269c3b4",
   "outputs": [
    {
     "data": {
      "text/plain": [
       "dtype('float64')"
      ]
     },
     "execution_count": 191,
     "metadata": {},
     "output_type": "execute_result"
    }
   ],
   "execution_count": 191
  },
  {
   "metadata": {
    "ExecuteTime": {
     "end_time": "2025-01-11T00:58:58.234574Z",
     "start_time": "2025-01-11T00:58:58.231769Z"
    }
   },
   "cell_type": "code",
   "source": [
    "list(np.arange(2.3,5.6,0.3)) # Works with float not like range()\n",
    "# Array to List convertion is also possible"
   ],
   "id": "d027d3241854f5d9",
   "outputs": [
    {
     "data": {
      "text/plain": [
       "[np.float64(2.3),\n",
       " np.float64(2.5999999999999996),\n",
       " np.float64(2.8999999999999995),\n",
       " np.float64(3.1999999999999993),\n",
       " np.float64(3.499999999999999),\n",
       " np.float64(3.799999999999999),\n",
       " np.float64(4.099999999999999),\n",
       " np.float64(4.399999999999999),\n",
       " np.float64(4.699999999999998),\n",
       " np.float64(4.999999999999998),\n",
       " np.float64(5.299999999999998)]"
      ]
     },
     "execution_count": 192,
     "metadata": {},
     "output_type": "execute_result"
    }
   ],
   "execution_count": 192
  },
  {
   "metadata": {
    "ExecuteTime": {
     "end_time": "2025-01-11T00:58:58.258913Z",
     "start_time": "2025-01-11T00:58:58.256475Z"
    }
   },
   "cell_type": "code",
   "source": "np.linspace(1,5,10)",
   "id": "5f6877876c83a2f9",
   "outputs": [
    {
     "data": {
      "text/plain": [
       "array([1.        , 1.44444444, 1.88888889, 2.33333333, 2.77777778,\n",
       "       3.22222222, 3.66666667, 4.11111111, 4.55555556, 5.        ])"
      ]
     },
     "execution_count": 193,
     "metadata": {},
     "output_type": "execute_result"
    }
   ],
   "execution_count": 193
  },
  {
   "metadata": {
    "ExecuteTime": {
     "end_time": "2025-01-11T00:58:58.278970Z",
     "start_time": "2025-01-11T00:58:58.276541Z"
    }
   },
   "cell_type": "code",
   "source": "np.zeros(5)",
   "id": "a698889afbbd4381",
   "outputs": [
    {
     "data": {
      "text/plain": [
       "array([0., 0., 0., 0., 0.])"
      ]
     },
     "execution_count": 194,
     "metadata": {},
     "output_type": "execute_result"
    }
   ],
   "execution_count": 194
  },
  {
   "metadata": {
    "ExecuteTime": {
     "end_time": "2025-01-11T00:58:58.300872Z",
     "start_time": "2025-01-11T00:58:58.298357Z"
    }
   },
   "cell_type": "code",
   "source": "np.zeros((3,5))",
   "id": "f256956342fcc0cc",
   "outputs": [
    {
     "data": {
      "text/plain": [
       "array([[0., 0., 0., 0., 0.],\n",
       "       [0., 0., 0., 0., 0.],\n",
       "       [0., 0., 0., 0., 0.]])"
      ]
     },
     "execution_count": 195,
     "metadata": {},
     "output_type": "execute_result"
    }
   ],
   "execution_count": 195
  },
  {
   "metadata": {
    "ExecuteTime": {
     "end_time": "2025-01-11T00:58:58.332867Z",
     "start_time": "2025-01-11T00:58:58.330357Z"
    }
   },
   "cell_type": "code",
   "source": "np.zeros((4,2,4))",
   "id": "3efb6b2e1a45bf93",
   "outputs": [
    {
     "data": {
      "text/plain": [
       "array([[[0., 0., 0., 0.],\n",
       "        [0., 0., 0., 0.]],\n",
       "\n",
       "       [[0., 0., 0., 0.],\n",
       "        [0., 0., 0., 0.]],\n",
       "\n",
       "       [[0., 0., 0., 0.],\n",
       "        [0., 0., 0., 0.]],\n",
       "\n",
       "       [[0., 0., 0., 0.],\n",
       "        [0., 0., 0., 0.]]])"
      ]
     },
     "execution_count": 196,
     "metadata": {},
     "output_type": "execute_result"
    }
   ],
   "execution_count": 196
  },
  {
   "metadata": {
    "ExecuteTime": {
     "end_time": "2025-01-11T00:58:58.362644Z",
     "start_time": "2025-01-11T00:58:58.360106Z"
    }
   },
   "cell_type": "code",
   "source": "np.zeros((4,2,4)).ndim",
   "id": "c762b0076476d868",
   "outputs": [
    {
     "data": {
      "text/plain": [
       "3"
      ]
     },
     "execution_count": 197,
     "metadata": {},
     "output_type": "execute_result"
    }
   ],
   "execution_count": 197
  },
  {
   "metadata": {
    "ExecuteTime": {
     "end_time": "2025-01-11T00:58:58.378828Z",
     "start_time": "2025-01-11T00:58:58.376139Z"
    }
   },
   "cell_type": "code",
   "source": "np.zeros((4,5,2,4))",
   "id": "8e97c84ccf9c7639",
   "outputs": [
    {
     "data": {
      "text/plain": [
       "array([[[[0., 0., 0., 0.],\n",
       "         [0., 0., 0., 0.]],\n",
       "\n",
       "        [[0., 0., 0., 0.],\n",
       "         [0., 0., 0., 0.]],\n",
       "\n",
       "        [[0., 0., 0., 0.],\n",
       "         [0., 0., 0., 0.]],\n",
       "\n",
       "        [[0., 0., 0., 0.],\n",
       "         [0., 0., 0., 0.]],\n",
       "\n",
       "        [[0., 0., 0., 0.],\n",
       "         [0., 0., 0., 0.]]],\n",
       "\n",
       "\n",
       "       [[[0., 0., 0., 0.],\n",
       "         [0., 0., 0., 0.]],\n",
       "\n",
       "        [[0., 0., 0., 0.],\n",
       "         [0., 0., 0., 0.]],\n",
       "\n",
       "        [[0., 0., 0., 0.],\n",
       "         [0., 0., 0., 0.]],\n",
       "\n",
       "        [[0., 0., 0., 0.],\n",
       "         [0., 0., 0., 0.]],\n",
       "\n",
       "        [[0., 0., 0., 0.],\n",
       "         [0., 0., 0., 0.]]],\n",
       "\n",
       "\n",
       "       [[[0., 0., 0., 0.],\n",
       "         [0., 0., 0., 0.]],\n",
       "\n",
       "        [[0., 0., 0., 0.],\n",
       "         [0., 0., 0., 0.]],\n",
       "\n",
       "        [[0., 0., 0., 0.],\n",
       "         [0., 0., 0., 0.]],\n",
       "\n",
       "        [[0., 0., 0., 0.],\n",
       "         [0., 0., 0., 0.]],\n",
       "\n",
       "        [[0., 0., 0., 0.],\n",
       "         [0., 0., 0., 0.]]],\n",
       "\n",
       "\n",
       "       [[[0., 0., 0., 0.],\n",
       "         [0., 0., 0., 0.]],\n",
       "\n",
       "        [[0., 0., 0., 0.],\n",
       "         [0., 0., 0., 0.]],\n",
       "\n",
       "        [[0., 0., 0., 0.],\n",
       "         [0., 0., 0., 0.]],\n",
       "\n",
       "        [[0., 0., 0., 0.],\n",
       "         [0., 0., 0., 0.]],\n",
       "\n",
       "        [[0., 0., 0., 0.],\n",
       "         [0., 0., 0., 0.]]]])"
      ]
     },
     "execution_count": 198,
     "metadata": {},
     "output_type": "execute_result"
    }
   ],
   "execution_count": 198
  },
  {
   "metadata": {
    "ExecuteTime": {
     "end_time": "2025-01-11T00:58:58.403801Z",
     "start_time": "2025-01-11T00:58:58.401040Z"
    }
   },
   "cell_type": "code",
   "source": "np.ones(4)",
   "id": "eaace88a1b384f00",
   "outputs": [
    {
     "data": {
      "text/plain": [
       "array([1., 1., 1., 1.])"
      ]
     },
     "execution_count": 199,
     "metadata": {},
     "output_type": "execute_result"
    }
   ],
   "execution_count": 199
  },
  {
   "metadata": {
    "ExecuteTime": {
     "end_time": "2025-01-11T00:58:58.426577Z",
     "start_time": "2025-01-11T00:58:58.423580Z"
    }
   },
   "cell_type": "code",
   "source": "np.ones((2,6))",
   "id": "4af791f279a0a0f7",
   "outputs": [
    {
     "data": {
      "text/plain": [
       "array([[1., 1., 1., 1., 1., 1.],\n",
       "       [1., 1., 1., 1., 1., 1.]])"
      ]
     },
     "execution_count": 200,
     "metadata": {},
     "output_type": "execute_result"
    }
   ],
   "execution_count": 200
  },
  {
   "metadata": {
    "ExecuteTime": {
     "end_time": "2025-01-11T00:58:58.459628Z",
     "start_time": "2025-01-11T00:58:58.457661Z"
    }
   },
   "cell_type": "code",
   "source": "one = np.ones((2,2,3))",
   "id": "cf428344c223102",
   "outputs": [],
   "execution_count": 201
  },
  {
   "metadata": {
    "ExecuteTime": {
     "end_time": "2025-01-11T00:58:58.494598Z",
     "start_time": "2025-01-11T00:58:58.491133Z"
    }
   },
   "cell_type": "code",
   "source": "one*4",
   "id": "a3dcd3cc9b1963b7",
   "outputs": [
    {
     "data": {
      "text/plain": [
       "array([[[4., 4., 4.],\n",
       "        [4., 4., 4.]],\n",
       "\n",
       "       [[4., 4., 4.],\n",
       "        [4., 4., 4.]]])"
      ]
     },
     "execution_count": 202,
     "metadata": {},
     "output_type": "execute_result"
    }
   ],
   "execution_count": 202
  },
  {
   "metadata": {
    "ExecuteTime": {
     "end_time": "2025-01-11T00:58:58.511647Z",
     "start_time": "2025-01-11T00:58:58.508817Z"
    }
   },
   "cell_type": "code",
   "source": "np.empty((3,6))",
   "id": "13f6af6d9668c313",
   "outputs": [
    {
     "data": {
      "text/plain": [
       "array([[0., 0., 0., 1., 1., 1.],\n",
       "       [2., 2., 2., 0., 1., 2.],\n",
       "       [0., 1., 2., 0., 1., 2.]])"
      ]
     },
     "execution_count": 203,
     "metadata": {},
     "output_type": "execute_result"
    }
   ],
   "execution_count": 203
  },
  {
   "metadata": {
    "ExecuteTime": {
     "end_time": "2025-01-11T00:58:58.544675Z",
     "start_time": "2025-01-11T00:58:58.541522Z"
    }
   },
   "cell_type": "code",
   "source": "np.eye(5)",
   "id": "e20a462ce6edc89d",
   "outputs": [
    {
     "data": {
      "text/plain": [
       "array([[1., 0., 0., 0., 0.],\n",
       "       [0., 1., 0., 0., 0.],\n",
       "       [0., 0., 1., 0., 0.],\n",
       "       [0., 0., 0., 1., 0.],\n",
       "       [0., 0., 0., 0., 1.]])"
      ]
     },
     "execution_count": 204,
     "metadata": {},
     "output_type": "execute_result"
    }
   ],
   "execution_count": 204
  },
  {
   "metadata": {
    "ExecuteTime": {
     "end_time": "2025-01-11T00:58:58.659746Z",
     "start_time": "2025-01-11T00:58:58.655689Z"
    }
   },
   "cell_type": "code",
   "source": "np.logspace(2,5,10)",
   "id": "bd1ca429f9d9b35e",
   "outputs": [
    {
     "data": {
      "text/plain": [
       "array([   100.        ,    215.443469  ,    464.15888336,   1000.        ,\n",
       "         2154.43469003,   4641.58883361,  10000.        ,  21544.34690032,\n",
       "        46415.88833613, 100000.        ])"
      ]
     },
     "execution_count": 205,
     "metadata": {},
     "output_type": "execute_result"
    }
   ],
   "execution_count": 205
  },
  {
   "metadata": {
    "ExecuteTime": {
     "end_time": "2025-01-11T00:59:18.923441Z",
     "start_time": "2025-01-11T00:59:18.915926Z"
    }
   },
   "cell_type": "code",
   "source": "r_data = np.random.randn(3,5)",
   "id": "9ece7ab6a585af0a",
   "outputs": [],
   "execution_count": 209
  },
  {
   "metadata": {
    "ExecuteTime": {
     "end_time": "2025-01-11T00:59:16.387711Z",
     "start_time": "2025-01-11T00:59:16.373891Z"
    }
   },
   "cell_type": "code",
   "source": "pd.DataFrame(r_data)",
   "id": "c260903e33e67b85",
   "outputs": [
    {
     "data": {
      "text/plain": [
       "          0         1         2         3         4\n",
       "0 -0.414116  0.281976  1.058045 -0.700058  1.318164\n",
       "1 -0.783664  0.679869  0.037467  0.443336 -1.013919\n",
       "2 -0.360669 -1.851163  0.602094  0.897499 -0.299663"
      ],
      "text/html": [
       "<div>\n",
       "<style scoped>\n",
       "    .dataframe tbody tr th:only-of-type {\n",
       "        vertical-align: middle;\n",
       "    }\n",
       "\n",
       "    .dataframe tbody tr th {\n",
       "        vertical-align: top;\n",
       "    }\n",
       "\n",
       "    .dataframe thead th {\n",
       "        text-align: right;\n",
       "    }\n",
       "</style>\n",
       "<table border=\"1\" class=\"dataframe\">\n",
       "  <thead>\n",
       "    <tr style=\"text-align: right;\">\n",
       "      <th></th>\n",
       "      <th>0</th>\n",
       "      <th>1</th>\n",
       "      <th>2</th>\n",
       "      <th>3</th>\n",
       "      <th>4</th>\n",
       "    </tr>\n",
       "  </thead>\n",
       "  <tbody>\n",
       "    <tr>\n",
       "      <th>0</th>\n",
       "      <td>-0.414116</td>\n",
       "      <td>0.281976</td>\n",
       "      <td>1.058045</td>\n",
       "      <td>-0.700058</td>\n",
       "      <td>1.318164</td>\n",
       "    </tr>\n",
       "    <tr>\n",
       "      <th>1</th>\n",
       "      <td>-0.783664</td>\n",
       "      <td>0.679869</td>\n",
       "      <td>0.037467</td>\n",
       "      <td>0.443336</td>\n",
       "      <td>-1.013919</td>\n",
       "    </tr>\n",
       "    <tr>\n",
       "      <th>2</th>\n",
       "      <td>-0.360669</td>\n",
       "      <td>-1.851163</td>\n",
       "      <td>0.602094</td>\n",
       "      <td>0.897499</td>\n",
       "      <td>-0.299663</td>\n",
       "    </tr>\n",
       "  </tbody>\n",
       "</table>\n",
       "</div>"
      ]
     },
     "execution_count": 208,
     "metadata": {},
     "output_type": "execute_result"
    }
   ],
   "execution_count": 208
  },
  {
   "metadata": {
    "ExecuteTime": {
     "end_time": "2025-01-11T00:59:37.612092Z",
     "start_time": "2025-01-11T00:59:37.602332Z"
    }
   },
   "cell_type": "code",
   "source": "np.random.rand(3,4)",
   "id": "adf531ec3216defc",
   "outputs": [
    {
     "data": {
      "text/plain": [
       "array([[0.41168151, 0.80678159, 0.14938813, 0.21926645],\n",
       "       [0.52144028, 0.58451966, 0.30606849, 0.45596022],\n",
       "       [0.23888151, 0.81516932, 0.33459219, 0.24352078]])"
      ]
     },
     "execution_count": 210,
     "metadata": {},
     "output_type": "execute_result"
    }
   ],
   "execution_count": 210
  },
  {
   "metadata": {
    "ExecuteTime": {
     "end_time": "2025-01-11T01:01:29.050072Z",
     "start_time": "2025-01-11T01:01:29.037760Z"
    }
   },
   "cell_type": "code",
   "source": "np.random.randint(1,110,(5,6))",
   "id": "99b6d4755bbcc8d8",
   "outputs": [
    {
     "data": {
      "text/plain": [
       "array([[ 18, 106,  94,  64,  72,  39],\n",
       "       [ 42,  68,  51,  70,  94, 100],\n",
       "       [ 84,   5,  64,  33,  62,  88],\n",
       "       [  3,  73,  93,  75,  50,  79],\n",
       "       [ 87,  54,  74,  89,  31,  89]])"
      ]
     },
     "execution_count": 211,
     "metadata": {},
     "output_type": "execute_result"
    }
   ],
   "execution_count": 211
  },
  {
   "metadata": {
    "ExecuteTime": {
     "end_time": "2025-01-11T01:11:40.706Z",
     "start_time": "2025-01-11T01:11:40.700910Z"
    }
   },
   "cell_type": "code",
   "source": [
    "array = np.random.rand(3,4)\n",
    "array"
   ],
   "id": "a51d7c664d9d2416",
   "outputs": [
    {
     "data": {
      "text/plain": [
       "array([[0.26394004, 0.04081646, 0.48512908, 0.57004357],\n",
       "       [0.62839007, 0.41232719, 0.04699762, 0.61569554],\n",
       "       [0.39255867, 0.71346508, 0.36086179, 0.18419005]])"
      ]
     },
     "execution_count": 225,
     "metadata": {},
     "output_type": "execute_result"
    }
   ],
   "execution_count": 225
  },
  {
   "metadata": {
    "ExecuteTime": {
     "end_time": "2025-01-11T01:11:46.202669Z",
     "start_time": "2025-01-11T01:11:46.199370Z"
    }
   },
   "cell_type": "code",
   "source": [
    "array = array.reshape(6,2) # When to use -1 ??\n",
    "array"
   ],
   "id": "3ee2a2afc9f40cf",
   "outputs": [
    {
     "data": {
      "text/plain": [
       "array([[0.26394004, 0.04081646],\n",
       "       [0.48512908, 0.57004357],\n",
       "       [0.62839007, 0.41232719],\n",
       "       [0.04699762, 0.61569554],\n",
       "       [0.39255867, 0.71346508],\n",
       "       [0.36086179, 0.18419005]])"
      ]
     },
     "execution_count": 228,
     "metadata": {},
     "output_type": "execute_result"
    }
   ],
   "execution_count": 228
  },
  {
   "metadata": {
    "ExecuteTime": {
     "end_time": "2025-01-11T01:11:46.553437Z",
     "start_time": "2025-01-11T01:11:46.550517Z"
    }
   },
   "cell_type": "code",
   "source": "array[1][1]",
   "id": "9db4e7382804ec25",
   "outputs": [
    {
     "data": {
      "text/plain": [
       "np.float64(0.5700435686471264)"
      ]
     },
     "execution_count": 229,
     "metadata": {},
     "output_type": "execute_result"
    }
   ],
   "execution_count": 229
  },
  {
   "metadata": {
    "ExecuteTime": {
     "end_time": "2025-01-11T01:12:21.806269Z",
     "start_time": "2025-01-11T01:12:21.791094Z"
    }
   },
   "cell_type": "code",
   "source": "array[3][1]",
   "id": "81127cc6e6ad37f7",
   "outputs": [
    {
     "data": {
      "text/plain": [
       "np.float64(0.6156955395339204)"
      ]
     },
     "execution_count": 233,
     "metadata": {},
     "output_type": "execute_result"
    }
   ],
   "execution_count": 233
  },
  {
   "metadata": {
    "ExecuteTime": {
     "end_time": "2025-01-11T01:12:46.363894Z",
     "start_time": "2025-01-11T01:12:46.350744Z"
    }
   },
   "cell_type": "code",
   "source": "array[2:5,0]",
   "id": "9e4e843ba0ac3810",
   "outputs": [
    {
     "data": {
      "text/plain": [
       "array([0.62839007, 0.04699762, 0.39255867])"
      ]
     },
     "execution_count": 234,
     "metadata": {},
     "output_type": "execute_result"
    }
   ],
   "execution_count": 234
  },
  {
   "metadata": {
    "ExecuteTime": {
     "end_time": "2025-01-11T01:15:47.317300Z",
     "start_time": "2025-01-11T01:15:47.306346Z"
    }
   },
   "cell_type": "code",
   "source": [
    "arr5 = np.random.randint(1,101,(5,7))\n",
    "arr5"
   ],
   "id": "94c67decd57dd864",
   "outputs": [
    {
     "data": {
      "text/plain": [
       "array([[68, 82,  3,  7, 38, 99, 21],\n",
       "       [56, 45, 47, 45, 21, 59, 39],\n",
       "       [78, 54, 18, 88,  3, 39, 75],\n",
       "       [19, 29, 92, 89, 66, 40, 93],\n",
       "       [ 1, 52, 88, 69, 68, 40, 96]])"
      ]
     },
     "execution_count": 240,
     "metadata": {},
     "output_type": "execute_result"
    }
   ],
   "execution_count": 240
  },
  {
   "metadata": {
    "ExecuteTime": {
     "end_time": "2025-01-11T01:14:35.706710Z",
     "start_time": "2025-01-11T01:14:35.703752Z"
    }
   },
   "cell_type": "code",
   "source": "arr5[arr5>50]",
   "id": "24490167b5118d30",
   "outputs": [
    {
     "data": {
      "text/plain": [
       "array([52, 98, 62, 92, 84, 81, 69, 97, 99, 90, 94, 94, 67, 56, 80, 53, 93,\n",
       "       94])"
      ]
     },
     "execution_count": 239,
     "metadata": {},
     "output_type": "execute_result"
    }
   ],
   "execution_count": 239
  },
  {
   "metadata": {
    "ExecuteTime": {
     "end_time": "2025-01-11T01:16:31.859797Z",
     "start_time": "2025-01-11T01:16:31.848885Z"
    }
   },
   "cell_type": "code",
   "source": "arr5[2:4,[1,2]]",
   "id": "596bf181f0231571",
   "outputs": [
    {
     "data": {
      "text/plain": [
       "array([[54, 18],\n",
       "       [29, 92]])"
      ]
     },
     "execution_count": 242,
     "metadata": {},
     "output_type": "execute_result"
    }
   ],
   "execution_count": 242
  },
  {
   "metadata": {
    "ExecuteTime": {
     "end_time": "2025-01-11T01:17:18.916926Z",
     "start_time": "2025-01-11T01:17:18.900944Z"
    }
   },
   "cell_type": "code",
   "source": [
    "arr5[0][0] = 5000\n",
    "arr5"
   ],
   "id": "8205688f5d703526",
   "outputs": [
    {
     "data": {
      "text/plain": [
       "array([[5000,   82,    3,    7,   38,   99,   21],\n",
       "       [  56,   45,   47,   45,   21,   59,   39],\n",
       "       [  78,   54,   18,   88,    3,   39,   75],\n",
       "       [  19,   29,   92,   89,   66,   40,   93],\n",
       "       [   1,   52,   88,   69,   68,   40,   96]])"
      ]
     },
     "execution_count": 244,
     "metadata": {},
     "output_type": "execute_result"
    }
   ],
   "execution_count": 244
  },
  {
   "metadata": {
    "ExecuteTime": {
     "end_time": "2025-01-11T01:18:34.656399Z",
     "start_time": "2025-01-11T01:18:34.647205Z"
    }
   },
   "cell_type": "code",
   "source": [
    "a2 = np.random.randint(1,3,(3,3))\n",
    "a3 = np.random.randint(4,6,(3,3))\n",
    "a2 ,a3"
   ],
   "id": "f9fda079d835767e",
   "outputs": [
    {
     "data": {
      "text/plain": [
       "(array([[1, 1, 2],\n",
       "        [1, 2, 2],\n",
       "        [2, 2, 2]]),\n",
       " array([[4, 4, 5],\n",
       "        [5, 4, 5],\n",
       "        [5, 5, 5]]))"
      ]
     },
     "execution_count": 246,
     "metadata": {},
     "output_type": "execute_result"
    }
   ],
   "execution_count": 246
  },
  {
   "metadata": {
    "ExecuteTime": {
     "end_time": "2025-01-11T01:18:40.228357Z",
     "start_time": "2025-01-11T01:18:40.219887Z"
    }
   },
   "cell_type": "code",
   "source": "a2 + a3",
   "id": "6228108603f3940c",
   "outputs": [
    {
     "data": {
      "text/plain": [
       "array([[5, 5, 7],\n",
       "       [6, 6, 7],\n",
       "       [7, 7, 7]])"
      ]
     },
     "execution_count": 247,
     "metadata": {},
     "output_type": "execute_result"
    }
   ],
   "execution_count": 247
  },
  {
   "metadata": {
    "ExecuteTime": {
     "end_time": "2025-01-11T01:19:39.853405Z",
     "start_time": "2025-01-11T01:19:39.846967Z"
    }
   },
   "cell_type": "code",
   "source": "a2/a3",
   "id": "4f9307b369a654c6",
   "outputs": [
    {
     "data": {
      "text/plain": [
       "array([[0.25, 0.25, 0.4 ],\n",
       "       [0.2 , 0.5 , 0.4 ],\n",
       "       [0.4 , 0.4 , 0.4 ]])"
      ]
     },
     "execution_count": 248,
     "metadata": {},
     "output_type": "execute_result"
    }
   ],
   "execution_count": 248
  },
  {
   "metadata": {
    "ExecuteTime": {
     "end_time": "2025-01-11T01:19:48.475306Z",
     "start_time": "2025-01-11T01:19:48.462692Z"
    }
   },
   "cell_type": "code",
   "source": "a2-a3",
   "id": "b0b1fecbdae6dd75",
   "outputs": [
    {
     "data": {
      "text/plain": [
       "array([[-3, -3, -3],\n",
       "       [-4, -2, -3],\n",
       "       [-3, -3, -3]])"
      ]
     },
     "execution_count": 249,
     "metadata": {},
     "output_type": "execute_result"
    }
   ],
   "execution_count": 249
  },
  {
   "metadata": {
    "ExecuteTime": {
     "end_time": "2025-01-11T01:19:57.571276Z",
     "start_time": "2025-01-11T01:19:57.564486Z"
    }
   },
   "cell_type": "code",
   "source": "a2*a3",
   "id": "bf64921d7fcb55ff",
   "outputs": [
    {
     "data": {
      "text/plain": [
       "array([[ 4,  4, 10],\n",
       "       [ 5,  8, 10],\n",
       "       [10, 10, 10]])"
      ]
     },
     "execution_count": 250,
     "metadata": {},
     "output_type": "execute_result"
    }
   ],
   "execution_count": 250
  },
  {
   "metadata": {
    "ExecuteTime": {
     "end_time": "2025-01-11T01:25:16.063880Z",
     "start_time": "2025-01-11T01:25:16.056527Z"
    }
   },
   "cell_type": "code",
   "source": [
    "# For matrix multiplication, the number of columns in the first matrix must be equal to the number of rows in the second matrix.\n",
    "a2@a3"
   ],
   "id": "41c86e9f0d0418c1",
   "outputs": [
    {
     "data": {
      "text/plain": [
       "array([[19, 18, 20],\n",
       "       [24, 22, 25],\n",
       "       [28, 26, 30]])"
      ]
     },
     "execution_count": 251,
     "metadata": {},
     "output_type": "execute_result"
    }
   ],
   "execution_count": 251
  },
  {
   "metadata": {
    "ExecuteTime": {
     "end_time": "2025-01-11T01:26:22.157214Z",
     "start_time": "2025-01-11T01:26:22.153538Z"
    }
   },
   "cell_type": "code",
   "source": "a2/0",
   "id": "8b4ecdb2cd4cd544",
   "outputs": [
    {
     "name": "stderr",
     "output_type": "stream",
     "text": [
      "/var/folders/n7/4jl4_vxn1fx98qz38bwr30kc0000gn/T/ipykernel_52121/42991845.py:1: RuntimeWarning: divide by zero encountered in divide\n",
      "  a2/0\n"
     ]
    },
    {
     "data": {
      "text/plain": [
       "array([[inf, inf, inf],\n",
       "       [inf, inf, inf],\n",
       "       [inf, inf, inf]])"
      ]
     },
     "execution_count": 254,
     "metadata": {},
     "output_type": "execute_result"
    }
   ],
   "execution_count": 254
  },
  {
   "metadata": {
    "ExecuteTime": {
     "end_time": "2025-01-11T01:26:59.495010Z",
     "start_time": "2025-01-11T01:26:59.482632Z"
    }
   },
   "cell_type": "code",
   "source": "a2**3",
   "id": "9981bb355a98d269",
   "outputs": [
    {
     "data": {
      "text/plain": [
       "array([[1, 1, 8],\n",
       "       [1, 8, 8],\n",
       "       [8, 8, 8]])"
      ]
     },
     "execution_count": 255,
     "metadata": {},
     "output_type": "execute_result"
    }
   ],
   "execution_count": 255
  },
  {
   "metadata": {},
   "cell_type": "markdown",
   "source": "# Broadcasting:",
   "id": "fa3017854b007253"
  },
  {
   "metadata": {
    "ExecuteTime": {
     "end_time": "2025-01-11T01:37:20.484292Z",
     "start_time": "2025-01-11T01:37:20.474882Z"
    }
   },
   "cell_type": "code",
   "source": [
    "arr = np.zeros((4,4))\n",
    "arr"
   ],
   "id": "61973566fbeb4702",
   "outputs": [
    {
     "data": {
      "text/plain": [
       "array([[0., 0., 0., 0.],\n",
       "       [0., 0., 0., 0.],\n",
       "       [0., 0., 0., 0.],\n",
       "       [0., 0., 0., 0.]])"
      ]
     },
     "execution_count": 264,
     "metadata": {},
     "output_type": "execute_result"
    }
   ],
   "execution_count": 264
  },
  {
   "metadata": {
    "ExecuteTime": {
     "end_time": "2025-01-11T01:37:20.686013Z",
     "start_time": "2025-01-11T01:37:20.683581Z"
    }
   },
   "cell_type": "code",
   "source": [
    "row = np.array([1,2,3,4])\n",
    "row"
   ],
   "id": "30937465656547a5",
   "outputs": [
    {
     "data": {
      "text/plain": [
       "array([1, 2, 3, 4])"
      ]
     },
     "execution_count": 265,
     "metadata": {},
     "output_type": "execute_result"
    }
   ],
   "execution_count": 265
  },
  {
   "metadata": {
    "ExecuteTime": {
     "end_time": "2025-01-11T01:37:20.889545Z",
     "start_time": "2025-01-11T01:37:20.887117Z"
    }
   },
   "cell_type": "code",
   "source": "arr+row",
   "id": "e4da0310fd5dfd20",
   "outputs": [
    {
     "data": {
      "text/plain": [
       "array([[1., 2., 3., 4.],\n",
       "       [1., 2., 3., 4.],\n",
       "       [1., 2., 3., 4.],\n",
       "       [1., 2., 3., 4.]])"
      ]
     },
     "execution_count": 266,
     "metadata": {},
     "output_type": "execute_result"
    }
   ],
   "execution_count": 266
  },
  {
   "metadata": {
    "ExecuteTime": {
     "end_time": "2025-01-11T01:38:11.300963Z",
     "start_time": "2025-01-11T01:38:11.291609Z"
    }
   },
   "cell_type": "code",
   "source": [
    "col = np.array([[1,2,3,4]]).T\n",
    "col"
   ],
   "id": "9d07dbf063e9c0ce",
   "outputs": [
    {
     "data": {
      "text/plain": [
       "array([[1],\n",
       "       [2],\n",
       "       [3],\n",
       "       [4]])"
      ]
     },
     "execution_count": 269,
     "metadata": {},
     "output_type": "execute_result"
    }
   ],
   "execution_count": 269
  },
  {
   "metadata": {
    "ExecuteTime": {
     "end_time": "2025-01-11T01:38:13.527848Z",
     "start_time": "2025-01-11T01:38:13.524637Z"
    }
   },
   "cell_type": "code",
   "source": "arr+col",
   "id": "ce9f0c432b7d1606",
   "outputs": [
    {
     "data": {
      "text/plain": [
       "array([[1., 1., 1., 1.],\n",
       "       [2., 2., 2., 2.],\n",
       "       [3., 3., 3., 3.],\n",
       "       [4., 4., 4., 4.]])"
      ]
     },
     "execution_count": 270,
     "metadata": {},
     "output_type": "execute_result"
    }
   ],
   "execution_count": 270
  },
  {
   "metadata": {
    "ExecuteTime": {
     "end_time": "2025-01-11T01:39:40.630948Z",
     "start_time": "2025-01-11T01:39:40.620393Z"
    }
   },
   "cell_type": "code",
   "source": [
    "arr = np.random.randint(1,101,(5,6))\n",
    "arr"
   ],
   "id": "83f1dffaf7502343",
   "outputs": [
    {
     "data": {
      "text/plain": [
       "array([[77, 71, 99, 49, 60, 41],\n",
       "       [27, 34, 88, 90, 77, 33],\n",
       "       [36, 75, 45, 19, 24, 45],\n",
       "       [87, 31, 24, 65, 75, 65],\n",
       "       [ 1, 72, 23, 68, 77,  8]])"
      ]
     },
     "execution_count": 272,
     "metadata": {},
     "output_type": "execute_result"
    }
   ],
   "execution_count": 272
  },
  {
   "metadata": {
    "ExecuteTime": {
     "end_time": "2025-01-11T01:40:11.637661Z",
     "start_time": "2025-01-11T01:40:11.626961Z"
    }
   },
   "cell_type": "code",
   "source": "np.sqrt(arr)",
   "id": "9eba92b1085a7a6b",
   "outputs": [
    {
     "data": {
      "text/plain": [
       "array([[8.77496439, 8.42614977, 9.94987437, 7.        , 7.74596669,\n",
       "        6.40312424],\n",
       "       [5.19615242, 5.83095189, 9.38083152, 9.48683298, 8.77496439,\n",
       "        5.74456265],\n",
       "       [6.        , 8.66025404, 6.70820393, 4.35889894, 4.89897949,\n",
       "        6.70820393],\n",
       "       [9.32737905, 5.56776436, 4.89897949, 8.06225775, 8.66025404,\n",
       "        8.06225775],\n",
       "       [1.        , 8.48528137, 4.79583152, 8.24621125, 8.77496439,\n",
       "        2.82842712]])"
      ]
     },
     "execution_count": 273,
     "metadata": {},
     "output_type": "execute_result"
    }
   ],
   "execution_count": 273
  },
  {
   "metadata": {
    "ExecuteTime": {
     "end_time": "2025-01-11T01:40:20.103371Z",
     "start_time": "2025-01-11T01:40:20.093569Z"
    }
   },
   "cell_type": "code",
   "source": "np.exp(arr)",
   "id": "36d398b02160ffa7",
   "outputs": [
    {
     "data": {
      "text/plain": [
       "array([[2.75851345e+33, 6.83767123e+30, 9.88903032e+42, 1.90734657e+21,\n",
       "        1.14200739e+26, 6.39843494e+17],\n",
       "       [5.32048241e+11, 5.83461743e+14, 1.65163625e+38, 1.22040329e+39,\n",
       "        2.75851345e+33, 2.14643580e+14],\n",
       "       [4.31123155e+15, 3.73324200e+32, 3.49342711e+19, 1.78482301e+08,\n",
       "        2.64891221e+10, 3.49342711e+19],\n",
       "       [6.07603023e+37, 2.90488497e+13, 2.64891221e+10, 1.69488924e+28,\n",
       "        3.73324200e+32, 1.69488924e+28],\n",
       "       [2.71828183e+00, 1.85867175e+31, 9.74480345e+09, 3.40427605e+29,\n",
       "        2.75851345e+33, 2.98095799e+03]])"
      ]
     },
     "execution_count": 274,
     "metadata": {},
     "output_type": "execute_result"
    }
   ],
   "execution_count": 274
  },
  {
   "metadata": {
    "ExecuteTime": {
     "end_time": "2025-01-11T01:40:35.908908Z",
     "start_time": "2025-01-11T01:40:35.892272Z"
    }
   },
   "cell_type": "code",
   "source": "np.log10(arr)",
   "id": "bb629754613e24f4",
   "outputs": [
    {
     "data": {
      "text/plain": [
       "array([[1.88649073, 1.85125835, 1.99563519, 1.69019608, 1.77815125,\n",
       "        1.61278386],\n",
       "       [1.43136376, 1.53147892, 1.94448267, 1.95424251, 1.88649073,\n",
       "        1.51851394],\n",
       "       [1.5563025 , 1.87506126, 1.65321251, 1.2787536 , 1.38021124,\n",
       "        1.65321251],\n",
       "       [1.93951925, 1.49136169, 1.38021124, 1.81291336, 1.87506126,\n",
       "        1.81291336],\n",
       "       [0.        , 1.8573325 , 1.36172784, 1.83250891, 1.88649073,\n",
       "        0.90308999]])"
      ]
     },
     "execution_count": 276,
     "metadata": {},
     "output_type": "execute_result"
    }
   ],
   "execution_count": 276
  },
  {
   "metadata": {},
   "cell_type": "code",
   "outputs": [],
   "execution_count": null,
   "source": "",
   "id": "b79ac078b3466be"
  }
 ],
 "metadata": {
  "kernelspec": {
   "display_name": "Python 3",
   "language": "python",
   "name": "python3"
  },
  "language_info": {
   "codemirror_mode": {
    "name": "ipython",
    "version": 2
   },
   "file_extension": ".py",
   "mimetype": "text/x-python",
   "name": "python",
   "nbconvert_exporter": "python",
   "pygments_lexer": "ipython2",
   "version": "2.7.6"
  }
 },
 "nbformat": 4,
 "nbformat_minor": 5
}
