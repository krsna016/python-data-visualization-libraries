{
 "cells": [
  {
   "cell_type": "code",
   "id": "initial_id",
   "metadata": {
    "collapsed": true,
    "ExecuteTime": {
     "end_time": "2025-01-11T02:26:57.894135Z",
     "start_time": "2025-01-11T02:26:57.813242Z"
    }
   },
   "source": "import numpy as np",
   "outputs": [],
   "execution_count": 3
  },
  {
   "metadata": {
    "ExecuteTime": {
     "end_time": "2025-01-11T02:26:57.929180Z",
     "start_time": "2025-01-11T02:26:57.908304Z"
    }
   },
   "cell_type": "code",
   "source": [
    "arr = np.random.randint(1,10,(3,4))\n",
    "arr"
   ],
   "id": "117ad332c1156096",
   "outputs": [
    {
     "data": {
      "text/plain": [
       "array([[6, 6, 3, 8],\n",
       "       [3, 1, 5, 4],\n",
       "       [2, 1, 7, 6]])"
      ]
     },
     "execution_count": 4,
     "metadata": {},
     "output_type": "execute_result"
    }
   ],
   "execution_count": 4
  },
  {
   "metadata": {
    "ExecuteTime": {
     "end_time": "2025-01-11T02:26:57.951062Z",
     "start_time": "2025-01-11T02:26:57.947077Z"
    }
   },
   "cell_type": "code",
   "source": [
    "arr = arr.reshape(2,-1) # Same as (2,6)\n",
    "arr"
   ],
   "id": "7b3d4f625d0804a9",
   "outputs": [
    {
     "data": {
      "text/plain": [
       "array([[6, 6, 3, 8, 3, 1],\n",
       "       [5, 4, 2, 1, 7, 6]])"
      ]
     },
     "execution_count": 5,
     "metadata": {},
     "output_type": "execute_result"
    }
   ],
   "execution_count": 5
  },
  {
   "metadata": {
    "ExecuteTime": {
     "end_time": "2025-01-11T02:26:58.219051Z",
     "start_time": "2025-01-11T02:26:58.217410Z"
    }
   },
   "cell_type": "code",
   "source": "arr = arr.T",
   "id": "f17af9e86c4ce589",
   "outputs": [],
   "execution_count": 6
  },
  {
   "metadata": {
    "ExecuteTime": {
     "end_time": "2025-01-11T02:26:58.227555Z",
     "start_time": "2025-01-11T02:26:58.224839Z"
    }
   },
   "cell_type": "code",
   "source": "arr.flatten() # Convert data to 1D",
   "id": "67c98210cb17bf57",
   "outputs": [
    {
     "data": {
      "text/plain": [
       "array([6, 5, 6, 4, 3, 2, 8, 1, 3, 7, 1, 6])"
      ]
     },
     "execution_count": 7,
     "metadata": {},
     "output_type": "execute_result"
    }
   ],
   "execution_count": 7
  },
  {
   "metadata": {
    "ExecuteTime": {
     "end_time": "2025-01-11T02:26:58.406546Z",
     "start_time": "2025-01-11T02:26:58.403513Z"
    }
   },
   "cell_type": "code",
   "source": [
    "arr1 = np.array([1,2,3,5,7,6])\n",
    "arr1"
   ],
   "id": "e153456fe5c942ea",
   "outputs": [
    {
     "data": {
      "text/plain": [
       "array([1, 2, 3, 5, 7, 6])"
      ]
     },
     "execution_count": 8,
     "metadata": {},
     "output_type": "execute_result"
    }
   ],
   "execution_count": 8
  },
  {
   "metadata": {
    "ExecuteTime": {
     "end_time": "2025-01-11T02:26:58.526362Z",
     "start_time": "2025-01-11T02:26:58.523756Z"
    }
   },
   "cell_type": "code",
   "source": "arr1.ndim",
   "id": "49f9378167883069",
   "outputs": [
    {
     "data": {
      "text/plain": [
       "1"
      ]
     },
     "execution_count": 9,
     "metadata": {},
     "output_type": "execute_result"
    }
   ],
   "execution_count": 9
  },
  {
   "metadata": {
    "ExecuteTime": {
     "end_time": "2025-01-11T02:26:58.647032Z",
     "start_time": "2025-01-11T02:26:58.643528Z"
    }
   },
   "cell_type": "code",
   "source": "np.expand_dims(arr1, axis=0) # This function will expand the dimension of an array, either Zero or one, Zero a row and One mean column into 2D",
   "id": "450c2e609dbf4f1a",
   "outputs": [
    {
     "data": {
      "text/plain": [
       "array([[1, 2, 3, 5, 7, 6]])"
      ]
     },
     "execution_count": 10,
     "metadata": {},
     "output_type": "execute_result"
    }
   ],
   "execution_count": 10
  },
  {
   "metadata": {
    "ExecuteTime": {
     "end_time": "2025-01-11T02:26:58.728252Z",
     "start_time": "2025-01-11T02:26:58.724805Z"
    }
   },
   "cell_type": "code",
   "source": [
    "arr = np.random.randint(1,101,(5,5))\n",
    "arr"
   ],
   "id": "1254081707e89752",
   "outputs": [
    {
     "data": {
      "text/plain": [
       "array([[47, 52, 28, 99, 77],\n",
       "       [86, 40, 75, 85, 18],\n",
       "       [48, 89, 77, 21, 40],\n",
       "       [42, 67, 80, 98, 39],\n",
       "       [68, 13, 30, 75, 95]])"
      ]
     },
     "execution_count": 11,
     "metadata": {},
     "output_type": "execute_result"
    }
   ],
   "execution_count": 11
  },
  {
   "metadata": {
    "ExecuteTime": {
     "end_time": "2025-01-11T02:26:58.848469Z",
     "start_time": "2025-01-11T02:26:58.844806Z"
    }
   },
   "cell_type": "code",
   "source": [
    "data = np.array([[1],[2],[3]])\n",
    "data"
   ],
   "id": "4962c06ba89a6c4",
   "outputs": [
    {
     "data": {
      "text/plain": [
       "array([[1],\n",
       "       [2],\n",
       "       [3]])"
      ]
     },
     "execution_count": 12,
     "metadata": {},
     "output_type": "execute_result"
    }
   ],
   "execution_count": 12
  },
  {
   "metadata": {
    "ExecuteTime": {
     "end_time": "2025-01-11T02:26:58.937274Z",
     "start_time": "2025-01-11T02:26:58.934579Z"
    }
   },
   "cell_type": "code",
   "source": "np.squeeze(data)",
   "id": "db042e68f741973c",
   "outputs": [
    {
     "data": {
      "text/plain": [
       "array([1, 2, 3])"
      ]
     },
     "execution_count": 13,
     "metadata": {},
     "output_type": "execute_result"
    }
   ],
   "execution_count": 13
  },
  {
   "metadata": {
    "ExecuteTime": {
     "end_time": "2025-01-11T02:26:59.048966Z",
     "start_time": "2025-01-11T02:26:59.046057Z"
    }
   },
   "cell_type": "code",
   "source": "arr1",
   "id": "f4327b5404552a4a",
   "outputs": [
    {
     "data": {
      "text/plain": [
       "array([1, 2, 3, 5, 7, 6])"
      ]
     },
     "execution_count": 14,
     "metadata": {},
     "output_type": "execute_result"
    }
   ],
   "execution_count": 14
  },
  {
   "metadata": {
    "ExecuteTime": {
     "end_time": "2025-01-11T02:26:59.111632Z",
     "start_time": "2025-01-11T02:26:59.107969Z"
    }
   },
   "cell_type": "code",
   "source": "np.repeat(arr1,3)",
   "id": "bf0f19862e1a500b",
   "outputs": [
    {
     "data": {
      "text/plain": [
       "array([1, 1, 1, 2, 2, 2, 3, 3, 3, 5, 5, 5, 7, 7, 7, 6, 6, 6])"
      ]
     },
     "execution_count": 15,
     "metadata": {},
     "output_type": "execute_result"
    }
   ],
   "execution_count": 15
  },
  {
   "metadata": {
    "ExecuteTime": {
     "end_time": "2025-01-11T02:26:59.170417Z",
     "start_time": "2025-01-11T02:26:59.167521Z"
    }
   },
   "cell_type": "code",
   "source": "np.roll(arr1,2)",
   "id": "e4c8b1584c4aee64",
   "outputs": [
    {
     "data": {
      "text/plain": [
       "array([7, 6, 1, 2, 3, 5])"
      ]
     },
     "execution_count": 16,
     "metadata": {},
     "output_type": "execute_result"
    }
   ],
   "execution_count": 16
  },
  {
   "metadata": {
    "ExecuteTime": {
     "end_time": "2025-01-11T02:26:59.211623Z",
     "start_time": "2025-01-11T02:26:59.208829Z"
    }
   },
   "cell_type": "code",
   "source": "np.diag(arr1)",
   "id": "4d011d6996c0d0cc",
   "outputs": [
    {
     "data": {
      "text/plain": [
       "array([[1, 0, 0, 0, 0, 0],\n",
       "       [0, 2, 0, 0, 0, 0],\n",
       "       [0, 0, 3, 0, 0, 0],\n",
       "       [0, 0, 0, 5, 0, 0],\n",
       "       [0, 0, 0, 0, 7, 0],\n",
       "       [0, 0, 0, 0, 0, 6]])"
      ]
     },
     "execution_count": 17,
     "metadata": {},
     "output_type": "execute_result"
    }
   ],
   "execution_count": 17
  },
  {
   "metadata": {},
   "cell_type": "markdown",
   "source": [
    "\n",
    "# Binary Operations:"
   ],
   "id": "1f8d8d8396508ae4"
  },
  {
   "metadata": {
    "ExecuteTime": {
     "end_time": "2025-01-11T02:26:59.254164Z",
     "start_time": "2025-01-11T02:26:59.251254Z"
    }
   },
   "cell_type": "code",
   "source": [
    "arr2 = np.random.randint(1,10, (3,4))\n",
    "arr2"
   ],
   "id": "b36368d2c1250d9f",
   "outputs": [
    {
     "data": {
      "text/plain": [
       "array([[7, 1, 4, 6],\n",
       "       [7, 7, 6, 5],\n",
       "       [4, 5, 3, 7]])"
      ]
     },
     "execution_count": 18,
     "metadata": {},
     "output_type": "execute_result"
    }
   ],
   "execution_count": 18
  },
  {
   "metadata": {
    "ExecuteTime": {
     "end_time": "2025-01-11T02:26:59.309703Z",
     "start_time": "2025-01-11T02:26:59.307232Z"
    }
   },
   "cell_type": "code",
   "source": [
    "arr3 = np.random.randint(1,10,(3,4))\n",
    "arr3"
   ],
   "id": "7a5d7b5610424992",
   "outputs": [
    {
     "data": {
      "text/plain": [
       "array([[1, 8, 1, 5],\n",
       "       [9, 1, 5, 5],\n",
       "       [3, 1, 1, 9]])"
      ]
     },
     "execution_count": 19,
     "metadata": {},
     "output_type": "execute_result"
    }
   ],
   "execution_count": 19
  },
  {
   "metadata": {
    "ExecuteTime": {
     "end_time": "2025-01-11T02:26:59.409758Z",
     "start_time": "2025-01-11T02:26:59.406750Z"
    }
   },
   "cell_type": "code",
   "source": "arr2+arr3",
   "id": "cf998b03511cfd6d",
   "outputs": [
    {
     "data": {
      "text/plain": [
       "array([[ 8,  9,  5, 11],\n",
       "       [16,  8, 11, 10],\n",
       "       [ 7,  6,  4, 16]])"
      ]
     },
     "execution_count": 20,
     "metadata": {},
     "output_type": "execute_result"
    }
   ],
   "execution_count": 20
  },
  {
   "metadata": {
    "ExecuteTime": {
     "end_time": "2025-01-11T02:26:59.479822Z",
     "start_time": "2025-01-11T02:26:59.476579Z"
    }
   },
   "cell_type": "code",
   "source": "arr2*arr3",
   "id": "169cb2b1e3609536",
   "outputs": [
    {
     "data": {
      "text/plain": [
       "array([[ 7,  8,  4, 30],\n",
       "       [63,  7, 30, 25],\n",
       "       [12,  5,  3, 63]])"
      ]
     },
     "execution_count": 21,
     "metadata": {},
     "output_type": "execute_result"
    }
   ],
   "execution_count": 21
  },
  {
   "metadata": {
    "ExecuteTime": {
     "end_time": "2025-01-11T02:26:59.611367Z",
     "start_time": "2025-01-11T02:26:59.607932Z"
    }
   },
   "cell_type": "code",
   "source": "arr2/arr3",
   "id": "ddab6dc9d0bbe3dd",
   "outputs": [
    {
     "data": {
      "text/plain": [
       "array([[7.        , 0.125     , 4.        , 1.2       ],\n",
       "       [0.77777778, 7.        , 1.2       , 1.        ],\n",
       "       [1.33333333, 5.        , 3.        , 0.77777778]])"
      ]
     },
     "execution_count": 22,
     "metadata": {},
     "output_type": "execute_result"
    }
   ],
   "execution_count": 22
  },
  {
   "metadata": {
    "ExecuteTime": {
     "end_time": "2025-01-11T02:26:59.683092Z",
     "start_time": "2025-01-11T02:26:59.680351Z"
    }
   },
   "cell_type": "code",
   "source": "arr2%arr3",
   "id": "37c002b6d9cf9fd1",
   "outputs": [
    {
     "data": {
      "text/plain": [
       "array([[0, 1, 0, 1],\n",
       "       [7, 0, 1, 0],\n",
       "       [1, 0, 0, 7]])"
      ]
     },
     "execution_count": 23,
     "metadata": {},
     "output_type": "execute_result"
    }
   ],
   "execution_count": 23
  },
  {
   "metadata": {
    "ExecuteTime": {
     "end_time": "2025-01-11T02:26:59.809289Z",
     "start_time": "2025-01-11T02:26:59.805912Z"
    }
   },
   "cell_type": "code",
   "source": "arr2**arr3",
   "id": "7f137a6b829f3a38",
   "outputs": [
    {
     "data": {
      "text/plain": [
       "array([[       7,        1,        4,     7776],\n",
       "       [40353607,        7,     7776,     3125],\n",
       "       [      64,        5,        3, 40353607]])"
      ]
     },
     "execution_count": 24,
     "metadata": {},
     "output_type": "execute_result"
    }
   ],
   "execution_count": 24
  },
  {
   "metadata": {
    "ExecuteTime": {
     "end_time": "2025-01-11T02:26:59.892087Z",
     "start_time": "2025-01-11T02:26:59.887424Z"
    }
   },
   "cell_type": "code",
   "source": "arr2&arr3",
   "id": "203d8fc9395dd1d7",
   "outputs": [
    {
     "data": {
      "text/plain": [
       "array([[1, 0, 0, 4],\n",
       "       [1, 1, 4, 5],\n",
       "       [0, 1, 1, 1]])"
      ]
     },
     "execution_count": 25,
     "metadata": {},
     "output_type": "execute_result"
    }
   ],
   "execution_count": 25
  },
  {
   "metadata": {
    "ExecuteTime": {
     "end_time": "2025-01-11T02:27:00.015285Z",
     "start_time": "2025-01-11T02:27:00.012258Z"
    }
   },
   "cell_type": "code",
   "source": "~arr2",
   "id": "60a1b08dfe4b74de",
   "outputs": [
    {
     "data": {
      "text/plain": [
       "array([[-8, -2, -5, -7],\n",
       "       [-8, -8, -7, -6],\n",
       "       [-5, -6, -4, -8]])"
      ]
     },
     "execution_count": 26,
     "metadata": {},
     "output_type": "execute_result"
    }
   ],
   "execution_count": 26
  },
  {
   "metadata": {
    "ExecuteTime": {
     "end_time": "2025-01-11T02:27:00.111873Z",
     "start_time": "2025-01-11T02:27:00.108256Z"
    }
   },
   "cell_type": "code",
   "source": "arr2|arr3",
   "id": "cc10b66042acec91",
   "outputs": [
    {
     "data": {
      "text/plain": [
       "array([[ 7,  9,  5,  7],\n",
       "       [15,  7,  7,  5],\n",
       "       [ 7,  5,  3, 15]])"
      ]
     },
     "execution_count": 27,
     "metadata": {},
     "output_type": "execute_result"
    }
   ],
   "execution_count": 27
  },
  {
   "metadata": {},
   "cell_type": "markdown",
   "source": "# String Function:",
   "id": "f443763fd56a59ca"
  },
  {
   "metadata": {
    "ExecuteTime": {
     "end_time": "2025-01-11T02:27:00.219669Z",
     "start_time": "2025-01-11T02:27:00.213993Z"
    }
   },
   "cell_type": "code",
   "source": [
    "arr4 = np.array(['Anurag', 'Pareek'])\n",
    "arr4"
   ],
   "id": "f37086831836590c",
   "outputs": [
    {
     "data": {
      "text/plain": [
       "array(['Anurag', 'Pareek'], dtype='<U6')"
      ]
     },
     "execution_count": 28,
     "metadata": {},
     "output_type": "execute_result"
    }
   ],
   "execution_count": 28
  },
  {
   "metadata": {
    "ExecuteTime": {
     "end_time": "2025-01-11T02:27:00.301715Z",
     "start_time": "2025-01-11T02:27:00.297606Z"
    }
   },
   "cell_type": "code",
   "source": "np.char.upper(arr4)",
   "id": "2d28522d125865f1",
   "outputs": [
    {
     "data": {
      "text/plain": [
       "array(['ANURAG', 'PAREEK'], dtype='<U6')"
      ]
     },
     "execution_count": 29,
     "metadata": {},
     "output_type": "execute_result"
    }
   ],
   "execution_count": 29
  },
  {
   "metadata": {
    "ExecuteTime": {
     "end_time": "2025-01-11T02:27:00.379096Z",
     "start_time": "2025-01-11T02:27:00.375313Z"
    }
   },
   "cell_type": "code",
   "source": "np.char.lower(arr4)",
   "id": "313040e36a1b5761",
   "outputs": [
    {
     "data": {
      "text/plain": [
       "array(['anurag', 'pareek'], dtype='<U6')"
      ]
     },
     "execution_count": 30,
     "metadata": {},
     "output_type": "execute_result"
    }
   ],
   "execution_count": 30
  },
  {
   "metadata": {
    "ExecuteTime": {
     "end_time": "2025-01-11T02:27:00.407548Z",
     "start_time": "2025-01-11T02:27:00.404035Z"
    }
   },
   "cell_type": "code",
   "source": "np.char.title(arr4)",
   "id": "39d77609e0d29cbf",
   "outputs": [
    {
     "data": {
      "text/plain": [
       "array(['Anurag', 'Pareek'], dtype='<U6')"
      ]
     },
     "execution_count": 31,
     "metadata": {},
     "output_type": "execute_result"
    }
   ],
   "execution_count": 31
  },
  {
   "metadata": {
    "ExecuteTime": {
     "end_time": "2025-01-11T02:27:00.440624Z",
     "start_time": "2025-01-11T02:27:00.437559Z"
    }
   },
   "cell_type": "code",
   "source": "np.char.capitalize(arr4)",
   "id": "701cf8644ab15a07",
   "outputs": [
    {
     "data": {
      "text/plain": [
       "array(['Anurag', 'Pareek'], dtype='<U6')"
      ]
     },
     "execution_count": 32,
     "metadata": {},
     "output_type": "execute_result"
    }
   ],
   "execution_count": 32
  },
  {
   "metadata": {},
   "cell_type": "markdown",
   "source": "# Numerical/Mathematical Fucntions",
   "id": "282386731da86659"
  },
  {
   "metadata": {
    "ExecuteTime": {
     "end_time": "2025-01-11T02:27:00.470525Z",
     "start_time": "2025-01-11T02:27:00.467359Z"
    }
   },
   "cell_type": "code",
   "source": [
    "arr1 = np.random.randint(1,11,(4,5))\n",
    "arr2 = np.random.randint(1,11,(4,5))\n",
    "arr1, arr2"
   ],
   "id": "62d9401e5bba1c3d",
   "outputs": [
    {
     "data": {
      "text/plain": [
       "(array([[3, 7, 2, 5, 7],\n",
       "        [8, 4, 9, 2, 3],\n",
       "        [2, 5, 8, 6, 7],\n",
       "        [5, 8, 8, 4, 4]]),\n",
       " array([[ 1,  6,  2,  8,  2],\n",
       "        [ 7,  4,  6,  4,  3],\n",
       "        [ 1,  1,  3,  6,  9],\n",
       "        [ 7,  3,  2,  1, 10]]))"
      ]
     },
     "execution_count": 33,
     "metadata": {},
     "output_type": "execute_result"
    }
   ],
   "execution_count": 33
  },
  {
   "metadata": {
    "ExecuteTime": {
     "end_time": "2025-01-11T02:27:00.505156Z",
     "start_time": "2025-01-11T02:27:00.501813Z"
    }
   },
   "cell_type": "code",
   "source": "np.sin(arr1)",
   "id": "a5fe3fa06d49bf9d",
   "outputs": [
    {
     "data": {
      "text/plain": [
       "array([[ 0.14112001,  0.6569866 ,  0.90929743, -0.95892427,  0.6569866 ],\n",
       "       [ 0.98935825, -0.7568025 ,  0.41211849,  0.90929743,  0.14112001],\n",
       "       [ 0.90929743, -0.95892427,  0.98935825, -0.2794155 ,  0.6569866 ],\n",
       "       [-0.95892427,  0.98935825,  0.98935825, -0.7568025 , -0.7568025 ]])"
      ]
     },
     "execution_count": 34,
     "metadata": {},
     "output_type": "execute_result"
    }
   ],
   "execution_count": 34
  },
  {
   "metadata": {
    "ExecuteTime": {
     "end_time": "2025-01-11T02:27:00.548255Z",
     "start_time": "2025-01-11T02:27:00.545136Z"
    }
   },
   "cell_type": "code",
   "source": "np.cos(arr1)",
   "id": "b86b6c325f0601b1",
   "outputs": [
    {
     "data": {
      "text/plain": [
       "array([[-0.9899925 ,  0.75390225, -0.41614684,  0.28366219,  0.75390225],\n",
       "       [-0.14550003, -0.65364362, -0.91113026, -0.41614684, -0.9899925 ],\n",
       "       [-0.41614684,  0.28366219, -0.14550003,  0.96017029,  0.75390225],\n",
       "       [ 0.28366219, -0.14550003, -0.14550003, -0.65364362, -0.65364362]])"
      ]
     },
     "execution_count": 35,
     "metadata": {},
     "output_type": "execute_result"
    }
   ],
   "execution_count": 35
  },
  {
   "metadata": {
    "ExecuteTime": {
     "end_time": "2025-01-11T02:27:00.610532Z",
     "start_time": "2025-01-11T02:27:00.606424Z"
    }
   },
   "cell_type": "code",
   "source": "np.tan(arr1)",
   "id": "7a6b163e5145dfa9",
   "outputs": [
    {
     "data": {
      "text/plain": [
       "array([[-0.14254654,  0.87144798, -2.18503986, -3.38051501,  0.87144798],\n",
       "       [-6.79971146,  1.15782128, -0.45231566, -2.18503986, -0.14254654],\n",
       "       [-2.18503986, -3.38051501, -6.79971146, -0.29100619,  0.87144798],\n",
       "       [-3.38051501, -6.79971146, -6.79971146,  1.15782128,  1.15782128]])"
      ]
     },
     "execution_count": 36,
     "metadata": {},
     "output_type": "execute_result"
    }
   ],
   "execution_count": 36
  },
  {
   "metadata": {
    "ExecuteTime": {
     "end_time": "2025-01-11T02:27:00.709258Z",
     "start_time": "2025-01-11T02:27:00.707046Z"
    }
   },
   "cell_type": "code",
   "source": "np.tanh(arr1)",
   "id": "60a69492638185b",
   "outputs": [
    {
     "data": {
      "text/plain": [
       "array([[0.99505475, 0.99999834, 0.96402758, 0.9999092 , 0.99999834],\n",
       "       [0.99999977, 0.9993293 , 0.99999997, 0.96402758, 0.99505475],\n",
       "       [0.96402758, 0.9999092 , 0.99999977, 0.99998771, 0.99999834],\n",
       "       [0.9999092 , 0.99999977, 0.99999977, 0.9993293 , 0.9993293 ]])"
      ]
     },
     "execution_count": 37,
     "metadata": {},
     "output_type": "execute_result"
    }
   ],
   "execution_count": 37
  },
  {
   "metadata": {
    "ExecuteTime": {
     "end_time": "2025-01-11T02:27:00.809902Z",
     "start_time": "2025-01-11T02:27:00.805572Z"
    }
   },
   "cell_type": "code",
   "source": "np.log2(arr1)",
   "id": "1081b5748b4deca9",
   "outputs": [
    {
     "data": {
      "text/plain": [
       "array([[1.5849625 , 2.80735492, 1.        , 2.32192809, 2.80735492],\n",
       "       [3.        , 2.        , 3.169925  , 1.        , 1.5849625 ],\n",
       "       [1.        , 2.32192809, 3.        , 2.5849625 , 2.80735492],\n",
       "       [2.32192809, 3.        , 3.        , 2.        , 2.        ]])"
      ]
     },
     "execution_count": 38,
     "metadata": {},
     "output_type": "execute_result"
    }
   ],
   "execution_count": 38
  },
  {
   "metadata": {
    "ExecuteTime": {
     "end_time": "2025-01-11T02:27:09.629563Z",
     "start_time": "2025-01-11T02:27:09.620779Z"
    }
   },
   "cell_type": "code",
   "source": "np.exp(arr1)",
   "id": "3f65588bbd83ca06",
   "outputs": [
    {
     "data": {
      "text/plain": [
       "array([[2.00855369e+01, 1.09663316e+03, 7.38905610e+00, 1.48413159e+02,\n",
       "        1.09663316e+03],\n",
       "       [2.98095799e+03, 5.45981500e+01, 8.10308393e+03, 7.38905610e+00,\n",
       "        2.00855369e+01],\n",
       "       [7.38905610e+00, 1.48413159e+02, 2.98095799e+03, 4.03428793e+02,\n",
       "        1.09663316e+03],\n",
       "       [1.48413159e+02, 2.98095799e+03, 2.98095799e+03, 5.45981500e+01,\n",
       "        5.45981500e+01]])"
      ]
     },
     "execution_count": 39,
     "metadata": {},
     "output_type": "execute_result"
    }
   ],
   "execution_count": 39
  },
  {
   "metadata": {
    "ExecuteTime": {
     "end_time": "2025-01-11T02:27:25.415766Z",
     "start_time": "2025-01-11T02:27:25.411455Z"
    }
   },
   "cell_type": "code",
   "source": "np.sqrt(arr1)",
   "id": "8f273a34a0f2bd07",
   "outputs": [
    {
     "data": {
      "text/plain": [
       "array([[1.73205081, 2.64575131, 1.41421356, 2.23606798, 2.64575131],\n",
       "       [2.82842712, 2.        , 3.        , 1.41421356, 1.73205081],\n",
       "       [1.41421356, 2.23606798, 2.82842712, 2.44948974, 2.64575131],\n",
       "       [2.23606798, 2.82842712, 2.82842712, 2.        , 2.        ]])"
      ]
     },
     "execution_count": 41,
     "metadata": {},
     "output_type": "execute_result"
    }
   ],
   "execution_count": 41
  },
  {
   "metadata": {
    "ExecuteTime": {
     "end_time": "2025-01-11T02:27:47.074485Z",
     "start_time": "2025-01-11T02:27:47.068612Z"
    }
   },
   "cell_type": "code",
   "source": "np.pow(arr1,10)",
   "id": "c9f97f7dd13caeb",
   "outputs": [
    {
     "data": {
      "text/plain": [
       "array([[     59049,  282475249,       1024,    9765625,  282475249],\n",
       "       [1073741824,    1048576, 3486784401,       1024,      59049],\n",
       "       [      1024,    9765625, 1073741824,   60466176,  282475249],\n",
       "       [   9765625, 1073741824, 1073741824,    1048576,    1048576]])"
      ]
     },
     "execution_count": 44,
     "metadata": {},
     "output_type": "execute_result"
    }
   ],
   "execution_count": 44
  },
  {
   "metadata": {
    "ExecuteTime": {
     "end_time": "2025-01-11T02:27:55.317184Z",
     "start_time": "2025-01-11T02:27:55.311533Z"
    }
   },
   "cell_type": "code",
   "source": "np.mean(arr1)",
   "id": "f6e038aeea3d89c8",
   "outputs": [
    {
     "data": {
      "text/plain": [
       "np.float64(5.35)"
      ]
     },
     "execution_count": 45,
     "metadata": {},
     "output_type": "execute_result"
    }
   ],
   "execution_count": 45
  },
  {
   "metadata": {
    "ExecuteTime": {
     "end_time": "2025-01-11T02:28:02.987133Z",
     "start_time": "2025-01-11T02:28:02.978488Z"
    }
   },
   "cell_type": "code",
   "source": "np.median(arr1)",
   "id": "a033d7818d99c9d0",
   "outputs": [
    {
     "data": {
      "text/plain": [
       "np.float64(5.0)"
      ]
     },
     "execution_count": 46,
     "metadata": {},
     "output_type": "execute_result"
    }
   ],
   "execution_count": 46
  },
  {
   "metadata": {
    "ExecuteTime": {
     "end_time": "2025-01-11T02:28:15.732778Z",
     "start_time": "2025-01-11T02:28:15.721934Z"
    }
   },
   "cell_type": "code",
   "source": "np.std(arr1)",
   "id": "cadf95d621fad86d",
   "outputs": [
    {
     "data": {
      "text/plain": [
       "np.float64(2.2422087324778666)"
      ]
     },
     "execution_count": 48,
     "metadata": {},
     "output_type": "execute_result"
    }
   ],
   "execution_count": 48
  },
  {
   "metadata": {
    "ExecuteTime": {
     "end_time": "2025-01-11T02:28:26.750874Z",
     "start_time": "2025-01-11T02:28:26.742248Z"
    }
   },
   "cell_type": "code",
   "source": "np.var(arr1)",
   "id": "596fa8c064239645",
   "outputs": [
    {
     "data": {
      "text/plain": [
       "np.float64(5.027500000000002)"
      ]
     },
     "execution_count": 49,
     "metadata": {},
     "output_type": "execute_result"
    }
   ],
   "execution_count": 49
  },
  {
   "metadata": {
    "ExecuteTime": {
     "end_time": "2025-01-11T02:28:31.134713Z",
     "start_time": "2025-01-11T02:28:31.128391Z"
    }
   },
   "cell_type": "code",
   "source": "np.min(arr1)",
   "id": "80b796ae0efbcbb9",
   "outputs": [
    {
     "data": {
      "text/plain": [
       "np.int64(2)"
      ]
     },
     "execution_count": 50,
     "metadata": {},
     "output_type": "execute_result"
    }
   ],
   "execution_count": 50
  },
  {
   "metadata": {
    "ExecuteTime": {
     "end_time": "2025-01-11T02:28:38.389634Z",
     "start_time": "2025-01-11T02:28:38.386071Z"
    }
   },
   "cell_type": "code",
   "source": "np.max(arr1)",
   "id": "749c239cec5c2c7e",
   "outputs": [
    {
     "data": {
      "text/plain": [
       "np.int64(9)"
      ]
     },
     "execution_count": 52,
     "metadata": {},
     "output_type": "execute_result"
    }
   ],
   "execution_count": 52
  }
 ],
 "metadata": {
  "kernelspec": {
   "display_name": "Python 3",
   "language": "python",
   "name": "python3"
  },
  "language_info": {
   "codemirror_mode": {
    "name": "ipython",
    "version": 2
   },
   "file_extension": ".py",
   "mimetype": "text/x-python",
   "name": "python",
   "nbconvert_exporter": "python",
   "pygments_lexer": "ipython2",
   "version": "2.7.6"
  }
 },
 "nbformat": 4,
 "nbformat_minor": 5
}
