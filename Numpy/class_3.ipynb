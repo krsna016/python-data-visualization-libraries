{
 "cells": [
  {
   "metadata": {},
   "cell_type": "markdown",
   "source": "# Sort, Search and Counting Functions",
   "id": "df5ed409de7a3001"
  },
  {
   "metadata": {
    "ExecuteTime": {
     "end_time": "2025-01-11T02:39:27.400943Z",
     "start_time": "2025-01-11T02:39:27.395295Z"
    }
   },
   "cell_type": "code",
   "source": "import numpy as np",
   "id": "748d133ab2c4358a",
   "outputs": [],
   "execution_count": 31
  },
  {
   "metadata": {
    "ExecuteTime": {
     "end_time": "2025-01-11T02:39:27.419124Z",
     "start_time": "2025-01-11T02:39:27.415593Z"
    }
   },
   "cell_type": "code",
   "source": [
    "arr = np.array([4,3,6,7,6,2,8])\n",
    "arr"
   ],
   "id": "ffa028339e55b4d5",
   "outputs": [
    {
     "data": {
      "text/plain": [
       "array([4, 3, 6, 7, 6, 2, 8])"
      ]
     },
     "execution_count": 32,
     "metadata": {},
     "output_type": "execute_result"
    }
   ],
   "execution_count": 32
  },
  {
   "metadata": {
    "ExecuteTime": {
     "end_time": "2025-01-11T02:39:27.429578Z",
     "start_time": "2025-01-11T02:39:27.426343Z"
    }
   },
   "cell_type": "code",
   "source": "np.sort(arr)",
   "id": "e45c418319540e46",
   "outputs": [
    {
     "data": {
      "text/plain": [
       "array([2, 3, 4, 6, 6, 7, 8])"
      ]
     },
     "execution_count": 33,
     "metadata": {},
     "output_type": "execute_result"
    }
   ],
   "execution_count": 33
  },
  {
   "metadata": {
    "ExecuteTime": {
     "end_time": "2025-01-11T02:39:27.446744Z",
     "start_time": "2025-01-11T02:39:27.443568Z"
    }
   },
   "cell_type": "code",
   "source": "np.searchsorted(arr, 6) # 6 कहा पर जाएगा",
   "id": "a01c20d963ecbcbd",
   "outputs": [
    {
     "data": {
      "text/plain": [
       "np.int64(2)"
      ]
     },
     "execution_count": 34,
     "metadata": {},
     "output_type": "execute_result"
    }
   ],
   "execution_count": 34
  },
  {
   "metadata": {
    "ExecuteTime": {
     "end_time": "2025-01-11T02:39:27.464802Z",
     "start_time": "2025-01-11T02:39:27.462634Z"
    }
   },
   "cell_type": "code",
   "source": [
    "arr1 = np.array([0,44,66,12,667,3,6,8,0,1,3,0])\n",
    "np.count_nonzero(arr1)"
   ],
   "id": "10aab46b2e563b50",
   "outputs": [
    {
     "data": {
      "text/plain": [
       "9"
      ]
     },
     "execution_count": 35,
     "metadata": {},
     "output_type": "execute_result"
    }
   ],
   "execution_count": 35
  },
  {
   "metadata": {
    "ExecuteTime": {
     "end_time": "2025-01-11T02:39:27.480420Z",
     "start_time": "2025-01-11T02:39:27.478200Z"
    }
   },
   "cell_type": "code",
   "source": "np.where(arr1>6)",
   "id": "4b544c0c871801f0",
   "outputs": [
    {
     "data": {
      "text/plain": [
       "(array([1, 2, 3, 4, 7]),)"
      ]
     },
     "execution_count": 36,
     "metadata": {},
     "output_type": "execute_result"
    }
   ],
   "execution_count": 36
  },
  {
   "metadata": {
    "ExecuteTime": {
     "end_time": "2025-01-11T02:39:27.498096Z",
     "start_time": "2025-01-11T02:39:27.495612Z"
    }
   },
   "cell_type": "code",
   "source": "np.extract(arr1>6,arr1)",
   "id": "e35c73960d0c068b",
   "outputs": [
    {
     "data": {
      "text/plain": [
       "array([ 44,  66,  12, 667,   8])"
      ]
     },
     "execution_count": 37,
     "metadata": {},
     "output_type": "execute_result"
    }
   ],
   "execution_count": 37
  },
  {
   "metadata": {
    "ExecuteTime": {
     "end_time": "2025-01-11T02:39:27.518049Z",
     "start_time": "2025-01-11T02:39:27.514511Z"
    }
   },
   "cell_type": "code",
   "source": "arr1.byteswap()",
   "id": "75d30253cd2d6a6a",
   "outputs": [
    {
     "data": {
      "text/plain": [
       "array([                   0,  3170534137668829184,  4755801206503243776,\n",
       "         864691128455135232, -7277254047877300224,   216172782113783808,\n",
       "         432345564227567616,   576460752303423488,                    0,\n",
       "          72057594037927936,   216172782113783808,                    0])"
      ]
     },
     "execution_count": 38,
     "metadata": {},
     "output_type": "execute_result"
    }
   ],
   "execution_count": 38
  },
  {
   "metadata": {},
   "cell_type": "markdown",
   "source": "# Copies and Views:",
   "id": "7b00fa7bbf6afe7f"
  },
  {
   "metadata": {
    "ExecuteTime": {
     "end_time": "2025-01-11T02:39:27.607379Z",
     "start_time": "2025-01-11T02:39:27.604236Z"
    }
   },
   "cell_type": "code",
   "source": [
    "arr2 = np.copy(arr1) # Deep Copy\n",
    "arr1[9] = 11\n",
    "arr2"
   ],
   "id": "2cc29bb6a142590d",
   "outputs": [
    {
     "data": {
      "text/plain": [
       "array([  0,  44,  66,  12, 667,   3,   6,   8,   0,   1,   3,   0])"
      ]
     },
     "execution_count": 39,
     "metadata": {},
     "output_type": "execute_result"
    }
   ],
   "execution_count": 39
  },
  {
   "metadata": {
    "ExecuteTime": {
     "end_time": "2025-01-11T02:39:27.636910Z",
     "start_time": "2025-01-11T02:39:27.634060Z"
    }
   },
   "cell_type": "code",
   "source": [
    "arr3 = arr1.view() # Shallow Copy\n",
    "arr1[0] = 10000\n",
    "arr3"
   ],
   "id": "af3e7832b9458dde",
   "outputs": [
    {
     "data": {
      "text/plain": [
       "array([10000,    44,    66,    12,   667,     3,     6,     8,     0,\n",
       "          11,     3,     0])"
      ]
     },
     "execution_count": 40,
     "metadata": {},
     "output_type": "execute_result"
    }
   ],
   "execution_count": 40
  },
  {
   "metadata": {},
   "cell_type": "markdown",
   "source": "# Matrix Library:",
   "id": "f3ac320eae0e3272"
  },
  {
   "metadata": {
    "ExecuteTime": {
     "end_time": "2025-01-11T02:40:41.685911Z",
     "start_time": "2025-01-11T02:40:41.680169Z"
    }
   },
   "cell_type": "code",
   "source": "import numpy.matlib as nm # Min dim of matrix is 2 and it is subclass of array",
   "id": "cf269f8668e8c8bb",
   "outputs": [],
   "execution_count": 47
  },
  {
   "metadata": {
    "ExecuteTime": {
     "end_time": "2025-01-11T02:40:41.820900Z",
     "start_time": "2025-01-11T02:40:41.817997Z"
    }
   },
   "cell_type": "code",
   "source": "nm.zeros(5)",
   "id": "9275e886b376783d",
   "outputs": [
    {
     "data": {
      "text/plain": [
       "matrix([[0., 0., 0., 0., 0.]])"
      ]
     },
     "execution_count": 48,
     "metadata": {},
     "output_type": "execute_result"
    }
   ],
   "execution_count": 48
  },
  {
   "metadata": {
    "ExecuteTime": {
     "end_time": "2025-01-11T02:40:41.981292Z",
     "start_time": "2025-01-11T02:40:41.978098Z"
    }
   },
   "cell_type": "code",
   "source": "nm.ones(10)",
   "id": "9e57655fb41a213b",
   "outputs": [
    {
     "data": {
      "text/plain": [
       "matrix([[1., 1., 1., 1., 1., 1., 1., 1., 1., 1.]])"
      ]
     },
     "execution_count": 49,
     "metadata": {},
     "output_type": "execute_result"
    }
   ],
   "execution_count": 49
  },
  {
   "metadata": {
    "ExecuteTime": {
     "end_time": "2025-01-11T02:40:50.931873Z",
     "start_time": "2025-01-11T02:40:50.919066Z"
    }
   },
   "cell_type": "code",
   "source": "nm.eye(5)",
   "id": "55f59db761e5baf7",
   "outputs": [
    {
     "data": {
      "text/plain": [
       "matrix([[1., 0., 0., 0., 0.],\n",
       "        [0., 1., 0., 0., 0.],\n",
       "        [0., 0., 1., 0., 0.],\n",
       "        [0., 0., 0., 1., 0.],\n",
       "        [0., 0., 0., 0., 1.]])"
      ]
     },
     "execution_count": 50,
     "metadata": {},
     "output_type": "execute_result"
    }
   ],
   "execution_count": 50
  },
  {
   "metadata": {},
   "cell_type": "markdown",
   "source": "# Linear Algebra:",
   "id": "e4e1db632ca845cc"
  },
  {
   "metadata": {
    "ExecuteTime": {
     "end_time": "2025-01-11T02:43:10.514876Z",
     "start_time": "2025-01-11T02:43:10.497398Z"
    }
   },
   "cell_type": "code",
   "source": [
    "arr = np.array([[2,3],[4,5]])\n",
    "arr1 = np.array([[1,2],[8,9]])\n",
    "arr, arr1"
   ],
   "id": "e3f23d7073b866bc",
   "outputs": [
    {
     "data": {
      "text/plain": [
       "(array([[2, 3],\n",
       "        [4, 5]]),\n",
       " array([[1, 2],\n",
       "        [8, 9]]))"
      ]
     },
     "execution_count": 52,
     "metadata": {},
     "output_type": "execute_result"
    }
   ],
   "execution_count": 52
  },
  {
   "metadata": {
    "ExecuteTime": {
     "end_time": "2025-01-11T02:43:24.340095Z",
     "start_time": "2025-01-11T02:43:24.332604Z"
    }
   },
   "cell_type": "code",
   "source": "np.dot(arr,arr1) # DotProduct or Matrix Multiplication",
   "id": "8febc6f1a6bbe6d1",
   "outputs": [
    {
     "data": {
      "text/plain": [
       "array([[26, 31],\n",
       "       [44, 53]])"
      ]
     },
     "execution_count": 53,
     "metadata": {},
     "output_type": "execute_result"
    }
   ],
   "execution_count": 53
  },
  {
   "metadata": {
    "ExecuteTime": {
     "end_time": "2025-01-11T02:43:36.572343Z",
     "start_time": "2025-01-11T02:43:36.566818Z"
    }
   },
   "cell_type": "code",
   "source": "arr@arr1",
   "id": "350d69b7cfe41274",
   "outputs": [
    {
     "data": {
      "text/plain": [
       "array([[26, 31],\n",
       "       [44, 53]])"
      ]
     },
     "execution_count": 55,
     "metadata": {},
     "output_type": "execute_result"
    }
   ],
   "execution_count": 55
  },
  {
   "metadata": {},
   "cell_type": "code",
   "outputs": [],
   "execution_count": null,
   "source": "",
   "id": "d501f665d982418d"
  }
 ],
 "metadata": {
  "kernelspec": {
   "display_name": "Python 3",
   "language": "python",
   "name": "python3"
  },
  "language_info": {
   "codemirror_mode": {
    "name": "ipython",
    "version": 2
   },
   "file_extension": ".py",
   "mimetype": "text/x-python",
   "name": "python",
   "nbconvert_exporter": "python",
   "pygments_lexer": "ipython2",
   "version": "2.7.6"
  }
 },
 "nbformat": 4,
 "nbformat_minor": 5
}
